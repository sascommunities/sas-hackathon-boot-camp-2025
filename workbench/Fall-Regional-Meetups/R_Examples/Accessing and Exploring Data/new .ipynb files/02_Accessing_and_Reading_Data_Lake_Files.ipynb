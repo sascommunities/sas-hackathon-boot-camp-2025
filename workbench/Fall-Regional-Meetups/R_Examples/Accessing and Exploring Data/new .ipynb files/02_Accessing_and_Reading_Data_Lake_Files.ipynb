{
 "cells": [
  {
   "cell_type": "markdown",
   "metadata": {},
   "source": [
    "# Accessing and Reading Data Lake Files"
   ]
  },
  {
   "cell_type": "markdown",
   "metadata": {},
   "source": [
    "First, install the required R packages if not done already. See [Installing Required R Packages.](../00_Installing_Required_R_Packages.ipynb)"
   ]
  },
  {
   "cell_type": "code",
   "execution_count": 1,
   "metadata": {
    "vscode": {
     "languageId": "r"
    }
   },
   "outputs": [
    {
     "name": "stderr",
     "output_type": "stream",
     "text": [
      "\n",
      "Attaching package: ‘arrow’\n",
      "\n",
      "\n",
      "The following object is masked from ‘package:utils’:\n",
      "\n",
      "    timestamp\n",
      "\n",
      "\n"
     ]
    }
   ],
   "source": [
    "library(arrow)"
   ]
  },
  {
   "cell_type": "markdown",
   "metadata": {},
   "source": [
    "Read the Parquet file from the file path.\n"
   ]
  },
  {
   "cell_type": "code",
   "execution_count": 2,
   "metadata": {
    "vscode": {
     "languageId": "r"
    }
   },
   "outputs": [
    {
     "name": "stdout",
     "output_type": "stream",
     "text": [
      "Classes ‘tbl_df’, ‘tbl’ and 'data.frame':\t5000 obs. of  22 variables:\n",
      " $ ID                    : num  9155 9160 9163 9170 9175 ...\n",
      " $ LostCustomer          : num  0 0 0 0 0 0 0 0 1 0 ...\n",
      " $ regionPctCustomers    : num  43 19 19 33 22 30 27 38 22 37 ...\n",
      " $ numOfTotalReturns     : num  0 1 0 5 0 0 1 0 2 3 ...\n",
      " $ wksSinceLastPurch     : num  14 19 7 7 6 20 18 26 13 17 ...\n",
      " $ basktPurchCount12Month: num  10 3 10 2 10 5 3 10 3 1 ...\n",
      " $ LastPurchaseAmount    : num  50 50 50 50 50 55 70 90 50 100 ...\n",
      " $ AvgPurchaseAmount12   : num  0 62.5 0 40 0 ...\n",
      " $ AvgPurchaseAmountTotal: num  55.6 61.9 35.2 34.8 63 ...\n",
      " $ intAdExposureCount12  : num  27 13 32 31 40 29 13 26 29 10 ...\n",
      " $ intAdExposureCount36  : num  27 30 32 48 40 47 33 26 46 24 ...\n",
      " $ intAdExposureCountAll : num  58 61 95 78 126 124 67 76 118 58 ...\n",
      " $ socialMediaAdCount12  : num  3 6 4 4 8 5 5 5 6 4 ...\n",
      " $ socialMediaAdCount36  : num  3 14 4 14 8 5 14 5 14 13 ...\n",
      " $ socialMediaAdCountAll : num  10 20 28 20 27 29 24 21 30 19 ...\n",
      " $ totalNumProdPurchased : num  8 8 25 22 27 26 14 8 29 27 ...\n",
      " $ custInitiatedContacts : num  1 2 3 3 3 3 2 2 3 3 ...\n",
      " $ avgDiscountValue12    : num  NaN 15 NaN 8 NaN ...\n",
      " $ customersales         : num  355 546 355 316 343 ...\n",
      " $ wksSinceFirstPurch    : num  89 89 148 93 137 150 102 116 139 149 ...\n",
      " $ reviewId              : num  NaN NaN NaN NaN NaN NaN NaN NaN NaN NaN ...\n",
      " $ custId                : num  3423 2097 1257 3797 689 ...\n"
     ]
    }
   ],
   "source": [
    "cust_churn_df <- read_parquet(\"../../data/input/gcs/customer_churn_data.parquet\")\n",
    "str(cust_churn_df)"
   ]
  },
  {
   "cell_type": "code",
   "execution_count": 3,
   "metadata": {
    "vscode": {
     "languageId": "r"
    }
   },
   "outputs": [
    {
     "data": {
      "text/html": [
       "<table class=\"dataframe\">\n",
       "<caption>A tibble: 6 × 22</caption>\n",
       "<thead>\n",
       "\t<tr><th></th><th scope=col>ID</th><th scope=col>LostCustomer</th><th scope=col>regionPctCustomers</th><th scope=col>numOfTotalReturns</th><th scope=col>wksSinceLastPurch</th><th scope=col>basktPurchCount12Month</th><th scope=col>LastPurchaseAmount</th><th scope=col>AvgPurchaseAmount12</th><th scope=col>AvgPurchaseAmountTotal</th><th scope=col>intAdExposureCount12</th><th scope=col>⋯</th><th scope=col>socialMediaAdCount12</th><th scope=col>socialMediaAdCount36</th><th scope=col>socialMediaAdCountAll</th><th scope=col>totalNumProdPurchased</th><th scope=col>custInitiatedContacts</th><th scope=col>avgDiscountValue12</th><th scope=col>customersales</th><th scope=col>wksSinceFirstPurch</th><th scope=col>reviewId</th><th scope=col>custId</th></tr>\n",
       "\t<tr><th></th><th scope=col>&lt;dbl&gt;</th><th scope=col>&lt;dbl&gt;</th><th scope=col>&lt;dbl&gt;</th><th scope=col>&lt;dbl&gt;</th><th scope=col>&lt;dbl&gt;</th><th scope=col>&lt;dbl&gt;</th><th scope=col>&lt;dbl&gt;</th><th scope=col>&lt;dbl&gt;</th><th scope=col>&lt;dbl&gt;</th><th scope=col>&lt;dbl&gt;</th><th scope=col>⋯</th><th scope=col>&lt;dbl&gt;</th><th scope=col>&lt;dbl&gt;</th><th scope=col>&lt;dbl&gt;</th><th scope=col>&lt;dbl&gt;</th><th scope=col>&lt;dbl&gt;</th><th scope=col>&lt;dbl&gt;</th><th scope=col>&lt;dbl&gt;</th><th scope=col>&lt;dbl&gt;</th><th scope=col>&lt;dbl&gt;</th><th scope=col>&lt;dbl&gt;</th></tr>\n",
       "</thead>\n",
       "<tbody>\n",
       "\t<tr><th scope=row>1</th><td>9155</td><td>0</td><td>43</td><td>0</td><td>14</td><td>10</td><td>50</td><td> 0.0</td><td>55.65</td><td>27</td><td>⋯</td><td>3</td><td> 3</td><td>10</td><td> 8</td><td>1</td><td>NaN</td><td>355.08</td><td> 89</td><td>NaN</td><td>3423</td></tr>\n",
       "\t<tr><th scope=row>2</th><td>9160</td><td>0</td><td>19</td><td>1</td><td>19</td><td> 3</td><td>50</td><td>62.5</td><td>61.90</td><td>13</td><td>⋯</td><td>6</td><td>14</td><td>20</td><td> 8</td><td>2</td><td> 15</td><td>546.14</td><td> 89</td><td>NaN</td><td>2097</td></tr>\n",
       "\t<tr><th scope=row>3</th><td>9163</td><td>0</td><td>19</td><td>0</td><td> 7</td><td>10</td><td>50</td><td> 0.0</td><td>35.20</td><td>32</td><td>⋯</td><td>4</td><td> 4</td><td>28</td><td>25</td><td>3</td><td>NaN</td><td>355.03</td><td>148</td><td>NaN</td><td>1257</td></tr>\n",
       "\t<tr><th scope=row>4</th><td>9170</td><td>0</td><td>33</td><td>5</td><td> 7</td><td> 2</td><td>50</td><td>40.0</td><td>34.75</td><td>31</td><td>⋯</td><td>4</td><td>14</td><td>20</td><td>22</td><td>3</td><td>  8</td><td>316.33</td><td> 93</td><td>NaN</td><td>3797</td></tr>\n",
       "\t<tr><th scope=row>5</th><td>9175</td><td>0</td><td>22</td><td>0</td><td> 6</td><td>10</td><td>50</td><td> 0.0</td><td>62.95</td><td>40</td><td>⋯</td><td>8</td><td> 8</td><td>27</td><td>27</td><td>3</td><td>NaN</td><td>343.20</td><td>137</td><td>NaN</td><td> 689</td></tr>\n",
       "\t<tr><th scope=row>6</th><td>9190</td><td>0</td><td>30</td><td>0</td><td>20</td><td> 5</td><td>55</td><td>55.0</td><td>80.20</td><td>29</td><td>⋯</td><td>5</td><td> 5</td><td>29</td><td>26</td><td>3</td><td>NaN</td><td>513.57</td><td>150</td><td>NaN</td><td>4213</td></tr>\n",
       "</tbody>\n",
       "</table>\n"
      ],
      "text/latex": [
       "A tibble: 6 × 22\n",
       "\\begin{tabular}{r|lllllllllllllllllllll}\n",
       "  & ID & LostCustomer & regionPctCustomers & numOfTotalReturns & wksSinceLastPurch & basktPurchCount12Month & LastPurchaseAmount & AvgPurchaseAmount12 & AvgPurchaseAmountTotal & intAdExposureCount12 & ⋯ & socialMediaAdCount12 & socialMediaAdCount36 & socialMediaAdCountAll & totalNumProdPurchased & custInitiatedContacts & avgDiscountValue12 & customersales & wksSinceFirstPurch & reviewId & custId\\\\\n",
       "  & <dbl> & <dbl> & <dbl> & <dbl> & <dbl> & <dbl> & <dbl> & <dbl> & <dbl> & <dbl> & ⋯ & <dbl> & <dbl> & <dbl> & <dbl> & <dbl> & <dbl> & <dbl> & <dbl> & <dbl> & <dbl>\\\\\n",
       "\\hline\n",
       "\t1 & 9155 & 0 & 43 & 0 & 14 & 10 & 50 &  0.0 & 55.65 & 27 & ⋯ & 3 &  3 & 10 &  8 & 1 & NaN & 355.08 &  89 & NaN & 3423\\\\\n",
       "\t2 & 9160 & 0 & 19 & 1 & 19 &  3 & 50 & 62.5 & 61.90 & 13 & ⋯ & 6 & 14 & 20 &  8 & 2 &  15 & 546.14 &  89 & NaN & 2097\\\\\n",
       "\t3 & 9163 & 0 & 19 & 0 &  7 & 10 & 50 &  0.0 & 35.20 & 32 & ⋯ & 4 &  4 & 28 & 25 & 3 & NaN & 355.03 & 148 & NaN & 1257\\\\\n",
       "\t4 & 9170 & 0 & 33 & 5 &  7 &  2 & 50 & 40.0 & 34.75 & 31 & ⋯ & 4 & 14 & 20 & 22 & 3 &   8 & 316.33 &  93 & NaN & 3797\\\\\n",
       "\t5 & 9175 & 0 & 22 & 0 &  6 & 10 & 50 &  0.0 & 62.95 & 40 & ⋯ & 8 &  8 & 27 & 27 & 3 & NaN & 343.20 & 137 & NaN &  689\\\\\n",
       "\t6 & 9190 & 0 & 30 & 0 & 20 &  5 & 55 & 55.0 & 80.20 & 29 & ⋯ & 5 &  5 & 29 & 26 & 3 & NaN & 513.57 & 150 & NaN & 4213\\\\\n",
       "\\end{tabular}\n"
      ],
      "text/markdown": [
       "\n",
       "A tibble: 6 × 22\n",
       "\n",
       "| <!--/--> | ID &lt;dbl&gt; | LostCustomer &lt;dbl&gt; | regionPctCustomers &lt;dbl&gt; | numOfTotalReturns &lt;dbl&gt; | wksSinceLastPurch &lt;dbl&gt; | basktPurchCount12Month &lt;dbl&gt; | LastPurchaseAmount &lt;dbl&gt; | AvgPurchaseAmount12 &lt;dbl&gt; | AvgPurchaseAmountTotal &lt;dbl&gt; | intAdExposureCount12 &lt;dbl&gt; | ⋯ ⋯ | socialMediaAdCount12 &lt;dbl&gt; | socialMediaAdCount36 &lt;dbl&gt; | socialMediaAdCountAll &lt;dbl&gt; | totalNumProdPurchased &lt;dbl&gt; | custInitiatedContacts &lt;dbl&gt; | avgDiscountValue12 &lt;dbl&gt; | customersales &lt;dbl&gt; | wksSinceFirstPurch &lt;dbl&gt; | reviewId &lt;dbl&gt; | custId &lt;dbl&gt; |\n",
       "|---|---|---|---|---|---|---|---|---|---|---|---|---|---|---|---|---|---|---|---|---|---|\n",
       "| 1 | 9155 | 0 | 43 | 0 | 14 | 10 | 50 |  0.0 | 55.65 | 27 | ⋯ | 3 |  3 | 10 |  8 | 1 | NaN | 355.08 |  89 | NaN | 3423 |\n",
       "| 2 | 9160 | 0 | 19 | 1 | 19 |  3 | 50 | 62.5 | 61.90 | 13 | ⋯ | 6 | 14 | 20 |  8 | 2 |  15 | 546.14 |  89 | NaN | 2097 |\n",
       "| 3 | 9163 | 0 | 19 | 0 |  7 | 10 | 50 |  0.0 | 35.20 | 32 | ⋯ | 4 |  4 | 28 | 25 | 3 | NaN | 355.03 | 148 | NaN | 1257 |\n",
       "| 4 | 9170 | 0 | 33 | 5 |  7 |  2 | 50 | 40.0 | 34.75 | 31 | ⋯ | 4 | 14 | 20 | 22 | 3 |   8 | 316.33 |  93 | NaN | 3797 |\n",
       "| 5 | 9175 | 0 | 22 | 0 |  6 | 10 | 50 |  0.0 | 62.95 | 40 | ⋯ | 8 |  8 | 27 | 27 | 3 | NaN | 343.20 | 137 | NaN |  689 |\n",
       "| 6 | 9190 | 0 | 30 | 0 | 20 |  5 | 55 | 55.0 | 80.20 | 29 | ⋯ | 5 |  5 | 29 | 26 | 3 | NaN | 513.57 | 150 | NaN | 4213 |\n",
       "\n"
      ],
      "text/plain": [
       "  ID   LostCustomer regionPctCustomers numOfTotalReturns wksSinceLastPurch\n",
       "1 9155 0            43                 0                 14               \n",
       "2 9160 0            19                 1                 19               \n",
       "3 9163 0            19                 0                  7               \n",
       "4 9170 0            33                 5                  7               \n",
       "5 9175 0            22                 0                  6               \n",
       "6 9190 0            30                 0                 20               \n",
       "  basktPurchCount12Month LastPurchaseAmount AvgPurchaseAmount12\n",
       "1 10                     50                  0.0               \n",
       "2  3                     50                 62.5               \n",
       "3 10                     50                  0.0               \n",
       "4  2                     50                 40.0               \n",
       "5 10                     50                  0.0               \n",
       "6  5                     55                 55.0               \n",
       "  AvgPurchaseAmountTotal intAdExposureCount12 ⋯ socialMediaAdCount12\n",
       "1 55.65                  27                   ⋯ 3                   \n",
       "2 61.90                  13                   ⋯ 6                   \n",
       "3 35.20                  32                   ⋯ 4                   \n",
       "4 34.75                  31                   ⋯ 4                   \n",
       "5 62.95                  40                   ⋯ 8                   \n",
       "6 80.20                  29                   ⋯ 5                   \n",
       "  socialMediaAdCount36 socialMediaAdCountAll totalNumProdPurchased\n",
       "1  3                   10                     8                   \n",
       "2 14                   20                     8                   \n",
       "3  4                   28                    25                   \n",
       "4 14                   20                    22                   \n",
       "5  8                   27                    27                   \n",
       "6  5                   29                    26                   \n",
       "  custInitiatedContacts avgDiscountValue12 customersales wksSinceFirstPurch\n",
       "1 1                     NaN                355.08         89               \n",
       "2 2                      15                546.14         89               \n",
       "3 3                     NaN                355.03        148               \n",
       "4 3                       8                316.33         93               \n",
       "5 3                     NaN                343.20        137               \n",
       "6 3                     NaN                513.57        150               \n",
       "  reviewId custId\n",
       "1 NaN      3423  \n",
       "2 NaN      2097  \n",
       "3 NaN      1257  \n",
       "4 NaN      3797  \n",
       "5 NaN       689  \n",
       "6 NaN      4213  "
      ]
     },
     "metadata": {},
     "output_type": "display_data"
    }
   ],
   "source": [
    "head(cust_churn_df)"
   ]
  },
  {
   "cell_type": "markdown",
   "metadata": {},
   "source": [
    "## Saving data to be accessed later"
   ]
  },
  {
   "cell_type": "code",
   "execution_count": 4,
   "metadata": {
    "vscode": {
     "languageId": "r"
    }
   },
   "outputs": [],
   "source": [
    "save(cust_churn_df, file = \"02_Accessing_and_Reading_Data_Lake_Files.RData\")"
   ]
  },
  {
   "cell_type": "code",
   "execution_count": null,
   "metadata": {},
   "outputs": [],
   "source": []
  }
 ],
 "metadata": {
  "kernelspec": {
   "display_name": "R",
   "language": "R",
   "name": "ir"
  },
  "language_info": {
   "codemirror_mode": "r",
   "file_extension": ".r",
   "mimetype": "text/x-r-source",
   "name": "R",
   "pygments_lexer": "r",
   "version": "4.4.2"
  }
 },
 "nbformat": 4,
 "nbformat_minor": 4
}
