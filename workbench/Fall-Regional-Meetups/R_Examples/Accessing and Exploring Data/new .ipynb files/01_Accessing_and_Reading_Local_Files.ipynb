{
 "cells": [
  {
   "cell_type": "markdown",
   "id": "340eacae",
   "metadata": {},
   "source": [
    "# Accessing and Reading Local Files\n",
    "\n"
   ]
  },
  {
   "cell_type": "markdown",
   "id": "3140f419-8379-4e79-85e5-79c81de08d88",
   "metadata": {
    "vscode": {
     "languageId": "r"
    }
   },
   "source": [
    "First, install the required R packages if not done already. See [Installing Required R Packages.](../00_Installing_Required_R_Packages.ipynb)"
   ]
  },
  {
   "cell_type": "markdown",
   "id": "c289f5ad",
   "metadata": {},
   "source": [
    "Begin by loading necessary packages.\n"
   ]
  },
  {
   "cell_type": "code",
   "execution_count": 1,
   "id": "54cc6f80",
   "metadata": {
    "vscode": {
     "languageId": "r"
    }
   },
   "outputs": [],
   "source": [
    "library(haven)\n",
    "library(jsonlite)"
   ]
  },
  {
   "cell_type": "markdown",
   "id": "379dd9ee",
   "metadata": {},
   "source": [
    "## Access the CSV file"
   ]
  },
  {
   "cell_type": "code",
   "execution_count": 2,
   "id": "24de2e00",
   "metadata": {
    "vscode": {
     "languageId": "r"
    }
   },
   "outputs": [],
   "source": [
    "subscriptions_df <- read.csv(\"../../data/input/subscriptions.csv\") "
   ]
  },
  {
   "cell_type": "code",
   "execution_count": 3,
   "id": "005b3984-edac-4a6c-9b87-abfa5d6e6a42",
   "metadata": {},
   "outputs": [
    {
     "name": "stdout",
     "output_type": "stream",
     "text": [
      "'data.frame':\t3 obs. of  2 variables:\n",
      " $ customerSubscrCode: int  1 2 3\n",
      " $ customerSubscrStat: chr  \"Member\" \"Gold\" \"Platinum\"\n"
     ]
    }
   ],
   "source": [
    "str(subscriptions_df)"
   ]
  },
  {
   "cell_type": "code",
   "execution_count": 4,
   "id": "f4149936",
   "metadata": {
    "vscode": {
     "languageId": "r"
    }
   },
   "outputs": [
    {
     "data": {
      "text/html": [
       "<table class=\"dataframe\">\n",
       "<caption>A data.frame: 3 × 2</caption>\n",
       "<thead>\n",
       "\t<tr><th scope=col>customerSubscrCode</th><th scope=col>customerSubscrStat</th></tr>\n",
       "\t<tr><th scope=col>&lt;int&gt;</th><th scope=col>&lt;chr&gt;</th></tr>\n",
       "</thead>\n",
       "<tbody>\n",
       "\t<tr><td>1</td><td>Member  </td></tr>\n",
       "\t<tr><td>2</td><td>Gold    </td></tr>\n",
       "\t<tr><td>3</td><td>Platinum</td></tr>\n",
       "</tbody>\n",
       "</table>\n"
      ],
      "text/latex": [
       "A data.frame: 3 × 2\n",
       "\\begin{tabular}{ll}\n",
       " customerSubscrCode & customerSubscrStat\\\\\n",
       " <int> & <chr>\\\\\n",
       "\\hline\n",
       "\t 1 & Member  \\\\\n",
       "\t 2 & Gold    \\\\\n",
       "\t 3 & Platinum\\\\\n",
       "\\end{tabular}\n"
      ],
      "text/markdown": [
       "\n",
       "A data.frame: 3 × 2\n",
       "\n",
       "| customerSubscrCode &lt;int&gt; | customerSubscrStat &lt;chr&gt; |\n",
       "|---|---|\n",
       "| 1 | Member   |\n",
       "| 2 | Gold     |\n",
       "| 3 | Platinum |\n",
       "\n"
      ],
      "text/plain": [
       "  customerSubscrCode customerSubscrStat\n",
       "1 1                  Member            \n",
       "2 2                  Gold              \n",
       "3 3                  Platinum          "
      ]
     },
     "metadata": {},
     "output_type": "display_data"
    }
   ],
   "source": [
    "subscriptions_df"
   ]
  },
  {
   "cell_type": "markdown",
   "id": "d2d07b2f",
   "metadata": {},
   "source": [
    "## Access the JSON file"
   ]
  },
  {
   "cell_type": "code",
   "execution_count": 5,
   "id": "2c4fb8dc",
   "metadata": {
    "vscode": {
     "languageId": "r"
    }
   },
   "outputs": [],
   "source": [
    "json_df <- fromJSON(\"../../data/input/reviews.json\")"
   ]
  },
  {
   "cell_type": "code",
   "execution_count": 6,
   "id": "7269e712",
   "metadata": {
    "scrolled": true,
    "vscode": {
     "languageId": "r"
    }
   },
   "outputs": [
    {
     "name": "stdout",
     "output_type": "stream",
     "text": [
      "List of 1\n",
      " $ reviews:'data.frame':\t782 obs. of  3 variables:\n",
      "  ..$ reviewId   : int [1:782] 765 767 768 769 770 771 772 773 774 775 ...\n",
      "  ..$ Review_Text: chr [1:782] \"If you are afraid of the jumpsuit trend but like dresses, this will be for you.  the cut is flattering, and may\"| __truncated__ \"I met my friend at the mall today.  she complimented me on my outfit (i was wearing this jumpsuit in the navy w\"| __truncated__ \"I bought these assuming they would be the same as a pair of pilcro stet ankle jeans i bought a couple of years \"| __truncated__ \"Great fit. i love the slightly cropped leg and the dark, unvariating stain. fits like other pilcros. one caveat\"| __truncated__ ...\n",
      "  ..$ Title      : chr [1:782] \"Cute,looks like a dress on\" \"Don't like wearing dresses?  try this.\" \"All-in-all nice denim\" \"\" ...\n"
     ]
    }
   ],
   "source": [
    "str(json_df)"
   ]
  },
  {
   "cell_type": "markdown",
   "id": "9bbbd7c2-617a-4913-88ca-a9867e269b01",
   "metadata": {},
   "source": [
    "The data is read in with a bad format (list), and we need to extract the reviews data frame from the list:"
   ]
  },
  {
   "cell_type": "code",
   "execution_count": 7,
   "id": "bff2315d",
   "metadata": {
    "vscode": {
     "languageId": "r"
    }
   },
   "outputs": [
    {
     "data": {
      "text/html": [
       "<table class=\"dataframe\">\n",
       "<caption>A data.frame: 6 × 3</caption>\n",
       "<thead>\n",
       "\t<tr><th></th><th scope=col>reviewId</th><th scope=col>Review_Text</th><th scope=col>Title</th></tr>\n",
       "\t<tr><th></th><th scope=col>&lt;int&gt;</th><th scope=col>&lt;chr&gt;</th><th scope=col>&lt;chr&gt;</th></tr>\n",
       "</thead>\n",
       "<tbody>\n",
       "\t<tr><th scope=row>1</th><td>765</td><td>If you are afraid of the jumpsuit trend but like dresses, this will be for you.  the cut is flattering, and may not need a bra (i am droppy, but it was fine). the legs are wide enough that one time, i had both legs in one hole, so-to-speak, and it is very flowy. the patterns are both nice, i like the geometric one, but the polka dot is always a classic. the petite size fit me just right (xsp) at 115 lbs, 30dd. i like the tie it goes from around the cups to tie on the back, so you can almost ti  </td><td>Cute,looks like a dress on            </td></tr>\n",
       "\t<tr><th scope=row>2</th><td>767</td><td>I met my friend at the mall today.  she complimented me on my outfit (i was wearing this jumpsuit in the navy with white polka dots motif - there's also a red, black, and white geometric print if you're not into polka dots).  half way through our time together, she realized that i was wearing a jumpsuit, not a dress.  she said that the legs are so wide and flowy that she couldn't tell.  we tried on clothes at another store and i forgot to re secure the straps with the little snaps to my bra stra</td><td>Don't like wearing dresses?  try this.</td></tr>\n",
       "\t<tr><th scope=row>3</th><td>768</td><td>I bought these assuming they would be the same as a pair of pilcro stet ankle jeans i bought a couple of years ago. this pair has less stretch than my older ones, so they are a bit tighter. i'm 5'2\" and these are more like a perfect length regular jean (rather than ankle). i always have trouble finding jeans that fit my curves, but smaller waist. these are a bit big in the waist, with the butt and legs fitted. all-in-all they are a nice looking durable denim that flatters.                       </td><td>All-in-all nice denim                 </td></tr>\n",
       "\t<tr><th scope=row>4</th><td>769</td><td>Great fit. i love the slightly cropped leg and the dark, unvariating stain. fits like other pilcros. one caveat...the stain rubs off. i can see it on the edges of my white kitchen countertops. i've washed them twice with mixed clothing, and there weren't any problems with color transfer there. still, i like them so much that i'll buy a second pair if they go on sale, and i'll keep wiping the edges of my counters down!                                                                               </td><td>                                      </td></tr>\n",
       "\t<tr><th scope=row>5</th><td>770</td><td>Precious tee, washes well, runs large                                                                                                                                                                                                                                                                                                                                                                                                                                                                               </td><td>Nostalgia tee                         </td></tr>\n",
       "\t<tr><th scope=row>6</th><td>771</td><td>I am not particularly fond of this skirt - it is good quality and nice color but i expected material to be little bit more substantial, it is too \"limp\" for my taste, but if you prefer very soft and \"worn in\" feeling, it might work great for you. also, i prefer wearing my ts over the skirt (not inside) and since waistband is very elaborate and is followed with thick buttons right below, it just looks funny under thin summer t-shirts : /. overall, just not working for me, but skirt is cute and tr</td><td>Cute                                  </td></tr>\n",
       "</tbody>\n",
       "</table>\n"
      ],
      "text/latex": [
       "A data.frame: 6 × 3\n",
       "\\begin{tabular}{r|lll}\n",
       "  & reviewId & Review\\_Text & Title\\\\\n",
       "  & <int> & <chr> & <chr>\\\\\n",
       "\\hline\n",
       "\t1 & 765 & If you are afraid of the jumpsuit trend but like dresses, this will be for you.  the cut is flattering, and may not need a bra (i am droppy, but it was fine). the legs are wide enough that one time, i had both legs in one hole, so-to-speak, and it is very flowy. the patterns are both nice, i like the geometric one, but the polka dot is always a classic. the petite size fit me just right (xsp) at 115 lbs, 30dd. i like the tie it goes from around the cups to tie on the back, so you can almost ti   & Cute,looks like a dress on            \\\\\n",
       "\t2 & 767 & I met my friend at the mall today.  she complimented me on my outfit (i was wearing this jumpsuit in the navy with white polka dots motif - there's also a red, black, and white geometric print if you're not into polka dots).  half way through our time together, she realized that i was wearing a jumpsuit, not a dress.  she said that the legs are so wide and flowy that she couldn't tell.  we tried on clothes at another store and i forgot to re secure the straps with the little snaps to my bra stra & Don't like wearing dresses?  try this.\\\\\n",
       "\t3 & 768 & I bought these assuming they would be the same as a pair of pilcro stet ankle jeans i bought a couple of years ago. this pair has less stretch than my older ones, so they are a bit tighter. i'm 5'2\" and these are more like a perfect length regular jean (rather than ankle). i always have trouble finding jeans that fit my curves, but smaller waist. these are a bit big in the waist, with the butt and legs fitted. all-in-all they are a nice looking durable denim that flatters.                        & All-in-all nice denim                 \\\\\n",
       "\t4 & 769 & Great fit. i love the slightly cropped leg and the dark, unvariating stain. fits like other pilcros. one caveat...the stain rubs off. i can see it on the edges of my white kitchen countertops. i've washed them twice with mixed clothing, and there weren't any problems with color transfer there. still, i like them so much that i'll buy a second pair if they go on sale, and i'll keep wiping the edges of my counters down!                                                                                &                                       \\\\\n",
       "\t5 & 770 & Precious tee, washes well, runs large                                                                                                                                                                                                                                                                                                                                                                                                                                                                                & Nostalgia tee                         \\\\\n",
       "\t6 & 771 & I am not particularly fond of this skirt - it is good quality and nice color but i expected material to be little bit more substantial, it is too \"limp\" for my taste, but if you prefer very soft and \"worn in\" feeling, it might work great for you. also, i prefer wearing my ts over the skirt (not inside) and since waistband is very elaborate and is followed with thick buttons right below, it just looks funny under thin summer t-shirts : /. overall, just not working for me, but skirt is cute and tr & Cute                                  \\\\\n",
       "\\end{tabular}\n"
      ],
      "text/markdown": [
       "\n",
       "A data.frame: 6 × 3\n",
       "\n",
       "| <!--/--> | reviewId &lt;int&gt; | Review_Text &lt;chr&gt; | Title &lt;chr&gt; |\n",
       "|---|---|---|---|\n",
       "| 1 | 765 | If you are afraid of the jumpsuit trend but like dresses, this will be for you.  the cut is flattering, and may not need a bra (i am droppy, but it was fine). the legs are wide enough that one time, i had both legs in one hole, so-to-speak, and it is very flowy. the patterns are both nice, i like the geometric one, but the polka dot is always a classic. the petite size fit me just right (xsp) at 115 lbs, 30dd. i like the tie it goes from around the cups to tie on the back, so you can almost ti   | Cute,looks like a dress on             |\n",
       "| 2 | 767 | I met my friend at the mall today.  she complimented me on my outfit (i was wearing this jumpsuit in the navy with white polka dots motif - there's also a red, black, and white geometric print if you're not into polka dots).  half way through our time together, she realized that i was wearing a jumpsuit, not a dress.  she said that the legs are so wide and flowy that she couldn't tell.  we tried on clothes at another store and i forgot to re secure the straps with the little snaps to my bra stra | Don't like wearing dresses?  try this. |\n",
       "| 3 | 768 | I bought these assuming they would be the same as a pair of pilcro stet ankle jeans i bought a couple of years ago. this pair has less stretch than my older ones, so they are a bit tighter. i'm 5'2\" and these are more like a perfect length regular jean (rather than ankle). i always have trouble finding jeans that fit my curves, but smaller waist. these are a bit big in the waist, with the butt and legs fitted. all-in-all they are a nice looking durable denim that flatters.                        | All-in-all nice denim                  |\n",
       "| 4 | 769 | Great fit. i love the slightly cropped leg and the dark, unvariating stain. fits like other pilcros. one caveat...the stain rubs off. i can see it on the edges of my white kitchen countertops. i've washed them twice with mixed clothing, and there weren't any problems with color transfer there. still, i like them so much that i'll buy a second pair if they go on sale, and i'll keep wiping the edges of my counters down!                                                                                | <!----> |\n",
       "| 5 | 770 | Precious tee, washes well, runs large                                                                                                                                                                                                                                                                                                                                                                                                                                                                                | Nostalgia tee                          |\n",
       "| 6 | 771 | I am not particularly fond of this skirt - it is good quality and nice color but i expected material to be little bit more substantial, it is too \"limp\" for my taste, but if you prefer very soft and \"worn in\" feeling, it might work great for you. also, i prefer wearing my ts over the skirt (not inside) and since waistband is very elaborate and is followed with thick buttons right below, it just looks funny under thin summer t-shirts : /. overall, just not working for me, but skirt is cute and tr | Cute                                   |\n",
       "\n"
      ],
      "text/plain": [
       "  reviewId\n",
       "1 765     \n",
       "2 767     \n",
       "3 768     \n",
       "4 769     \n",
       "5 770     \n",
       "6 771     \n",
       "  Review_Text                                                                                                                                                                                                                                                                                                                                                                                                                                                                                                         \n",
       "1 If you are afraid of the jumpsuit trend but like dresses, this will be for you.  the cut is flattering, and may not need a bra (i am droppy, but it was fine). the legs are wide enough that one time, i had both legs in one hole, so-to-speak, and it is very flowy. the patterns are both nice, i like the geometric one, but the polka dot is always a classic. the petite size fit me just right (xsp) at 115 lbs, 30dd. i like the tie it goes from around the cups to tie on the back, so you can almost ti  \n",
       "2 I met my friend at the mall today.  she complimented me on my outfit (i was wearing this jumpsuit in the navy with white polka dots motif - there's also a red, black, and white geometric print if you're not into polka dots).  half way through our time together, she realized that i was wearing a jumpsuit, not a dress.  she said that the legs are so wide and flowy that she couldn't tell.  we tried on clothes at another store and i forgot to re secure the straps with the little snaps to my bra stra\n",
       "3 I bought these assuming they would be the same as a pair of pilcro stet ankle jeans i bought a couple of years ago. this pair has less stretch than my older ones, so they are a bit tighter. i'm 5'2\" and these are more like a perfect length regular jean (rather than ankle). i always have trouble finding jeans that fit my curves, but smaller waist. these are a bit big in the waist, with the butt and legs fitted. all-in-all they are a nice looking durable denim that flatters.                       \n",
       "4 Great fit. i love the slightly cropped leg and the dark, unvariating stain. fits like other pilcros. one caveat...the stain rubs off. i can see it on the edges of my white kitchen countertops. i've washed them twice with mixed clothing, and there weren't any problems with color transfer there. still, i like them so much that i'll buy a second pair if they go on sale, and i'll keep wiping the edges of my counters down!                                                                               \n",
       "5 Precious tee, washes well, runs large                                                                                                                                                                                                                                                                                                                                                                                                                                                                               \n",
       "6 I am not particularly fond of this skirt - it is good quality and nice color but i expected material to be little bit more substantial, it is too \"limp\" for my taste, but if you prefer very soft and \"worn in\" feeling, it might work great for you. also, i prefer wearing my ts over the skirt (not inside) and since waistband is very elaborate and is followed with thick buttons right below, it just looks funny under thin summer t-shirts : /. overall, just not working for me, but skirt is cute and tr\n",
       "  Title                                 \n",
       "1 Cute,looks like a dress on            \n",
       "2 Don't like wearing dresses?  try this.\n",
       "3 All-in-all nice denim                 \n",
       "4                                       \n",
       "5 Nostalgia tee                         \n",
       "6 Cute                                  "
      ]
     },
     "metadata": {},
     "output_type": "display_data"
    }
   ],
   "source": [
    "reviews_df <- json_df$reviews\n",
    "head(reviews_df)"
   ]
  },
  {
   "cell_type": "markdown",
   "id": "d4171420",
   "metadata": {},
   "source": [
    "## Access the SAS data set"
   ]
  },
  {
   "cell_type": "code",
   "execution_count": 8,
   "id": "9411e09d",
   "metadata": {
    "vscode": {
     "languageId": "r"
    }
   },
   "outputs": [
    {
     "data": {
      "text/html": [
       "<table class=\"dataframe\">\n",
       "<caption>A tibble: 6 × 2</caption>\n",
       "<thead>\n",
       "\t<tr><th scope=col>ID</th><th scope=col>techSupportEval</th></tr>\n",
       "\t<tr><th scope=col>&lt;dbl&gt;</th><th scope=col>&lt;dbl&gt;</th></tr>\n",
       "</thead>\n",
       "<tbody>\n",
       "\t<tr><td>9155</td><td>3</td></tr>\n",
       "\t<tr><td>9160</td><td>3</td></tr>\n",
       "\t<tr><td>9163</td><td>2</td></tr>\n",
       "\t<tr><td>9170</td><td>2</td></tr>\n",
       "\t<tr><td>9175</td><td>2</td></tr>\n",
       "\t<tr><td>9190</td><td>2</td></tr>\n",
       "</tbody>\n",
       "</table>\n"
      ],
      "text/latex": [
       "A tibble: 6 × 2\n",
       "\\begin{tabular}{ll}\n",
       " ID & techSupportEval\\\\\n",
       " <dbl> & <dbl>\\\\\n",
       "\\hline\n",
       "\t 9155 & 3\\\\\n",
       "\t 9160 & 3\\\\\n",
       "\t 9163 & 2\\\\\n",
       "\t 9170 & 2\\\\\n",
       "\t 9175 & 2\\\\\n",
       "\t 9190 & 2\\\\\n",
       "\\end{tabular}\n"
      ],
      "text/markdown": [
       "\n",
       "A tibble: 6 × 2\n",
       "\n",
       "| ID &lt;dbl&gt; | techSupportEval &lt;dbl&gt; |\n",
       "|---|---|\n",
       "| 9155 | 3 |\n",
       "| 9160 | 3 |\n",
       "| 9163 | 2 |\n",
       "| 9170 | 2 |\n",
       "| 9175 | 2 |\n",
       "| 9190 | 2 |\n",
       "\n"
      ],
      "text/plain": [
       "  ID   techSupportEval\n",
       "1 9155 3              \n",
       "2 9160 3              \n",
       "3 9163 2              \n",
       "4 9170 2              \n",
       "5 9175 2              \n",
       "6 9190 2              "
      ]
     },
     "metadata": {},
     "output_type": "display_data"
    }
   ],
   "source": [
    "techsupportevals_df <- read_sas(\"../../data/input/techsupportevals.sas7bdat\")\n",
    "head(techsupportevals_df)"
   ]
  },
  {
   "cell_type": "markdown",
   "id": "832fa6de-ce80-4144-98ae-f6e60008c21a",
   "metadata": {},
   "source": [
    "## Saving data to be accessed later"
   ]
  },
  {
   "cell_type": "code",
   "execution_count": 9,
   "id": "3b6b761e",
   "metadata": {
    "vscode": {
     "languageId": "r"
    }
   },
   "outputs": [],
   "source": [
    "save(subscriptions_df, json_df, reviews_df, techsupportevals_df, file = \"01_Accessing_and_Reading_Local_Files.RData\")"
   ]
  },
  {
   "cell_type": "code",
   "execution_count": null,
   "id": "67c1ef42-a3d7-4ea0-a7b7-ea40eef47cff",
   "metadata": {},
   "outputs": [],
   "source": []
  }
 ],
 "metadata": {
  "kernelspec": {
   "display_name": "R",
   "language": "R",
   "name": "ir"
  },
  "language_info": {
   "codemirror_mode": "r",
   "file_extension": ".r",
   "mimetype": "text/x-r-source",
   "name": "R",
   "pygments_lexer": "r",
   "version": "4.4.2"
  }
 },
 "nbformat": 4,
 "nbformat_minor": 5
}
