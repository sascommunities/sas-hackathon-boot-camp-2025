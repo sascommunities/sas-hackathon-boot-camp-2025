{
 "cells": [
  {
   "cell_type": "markdown",
   "id": "f888139f-3648-4e85-901d-94a562c672c0",
   "metadata": {},
   "source": [
    "# Accessing and Reading Database/Data Lakehouse Data\n",
    "\n",
    "**Snowflake demonstration only.**\n",
    "\n",
    "Use the alternative notebook (**03_Accessing_and_Reading_Database-Data_Lakehouse_Data.ipynb**) if you want to run the code in your environment.\n",
    "\n",
    "First, install the required R packages if not done already. See [Installing Required R Packages.](../00_Installing_Required_R_Packages.ipynb)\n",
    "\n",
    "Begin by loading the **reticulate** package which allows users to run Python code, import Python modules, and pass data between R and Python directly within the same R notebook environment."
   ]
  },
  {
   "cell_type": "code",
   "execution_count": 1,
   "id": "a19656dd-c6b3-4f6a-8ffb-48c0c46b6516",
   "metadata": {},
   "outputs": [],
   "source": [
    "library(reticulate)"
   ]
  },
  {
   "cell_type": "markdown",
   "id": "0ea5aa87-0508-4660-9851-922cd6f67a90",
   "metadata": {},
   "source": [
    "Before we can connect to Snowflake, we need to install the pandas-compatible version of the Snowflake Connector for Python onto the python version used by the reticulate package. First, copy the python path from the first line of output:"
   ]
  },
  {
   "cell_type": "code",
   "execution_count": 2,
   "id": "1c02ef9f-a3e8-497f-bf7d-b5430dc3ee8e",
   "metadata": {},
   "outputs": [
    {
     "data": {
      "text/plain": [
       "python:         /home/sas/.cache/R/reticulate/uv/cache/archive-v0/MpTDAGXHW_pWxja4naILa/bin/python3\n",
       "libpython:      /home/sas/.cache/R/reticulate/uv/python/cpython-3.11.13-linux-x86_64-gnu/lib/libpython3.11.so\n",
       "pythonhome:     /home/sas/.cache/R/reticulate/uv/cache/archive-v0/MpTDAGXHW_pWxja4naILa:/home/sas/.cache/R/reticulate/uv/cache/archive-v0/MpTDAGXHW_pWxja4naILa\n",
       "virtualenv:     /home/sas/.cache/R/reticulate/uv/cache/archive-v0/MpTDAGXHW_pWxja4naILa/bin/activate_this.py\n",
       "version:        3.11.13 (main, Jul 11 2025, 22:43:55) [Clang 20.1.4 ]\n",
       "numpy:          /home/sas/.cache/R/reticulate/uv/cache/archive-v0/MpTDAGXHW_pWxja4naILa/lib/python3.11/site-packages/numpy\n",
       "numpy_version:  2.3.1\n",
       "\n",
       "NOTE: Python version was forced by py_require()"
      ]
     },
     "metadata": {},
     "output_type": "display_data"
    }
   ],
   "source": [
    "py_config()"
   ]
  },
  {
   "cell_type": "markdown",
   "id": "9249a0a9-ed75-4683-abd6-baec5ac6bc35",
   "metadata": {},
   "source": [
    "Open a terminal window and run the following line:\n",
    "\n",
    "<python path from py_config()> -m pip install \"snowflake-connector-python[pandas]\""
   ]
  },
  {
   "cell_type": "code",
   "execution_count": 4,
   "id": "0c7012ef-d04a-4e40-8cff-e8c3297662c4",
   "metadata": {},
   "outputs": [],
   "source": [
    "# Import Python modules\n",
    "json <- import(\"json\")\n",
    "sf_connector <- import(\"snowflake.connector\")"
   ]
  },
  {
   "cell_type": "markdown",
   "id": "f53cb5eb-ef32-467e-8cf4-2c0db8a0329e",
   "metadata": {},
   "source": [
    "## Initialize Database Connection Variables\n",
    "\n",
    "Credentials are stored in the snowflake_cred.json file and need to be accessed. Hard coding credentials should always be avoided.\n",
    "\n",
    "A sample Snowflake credentials file might look like this:\n",
    "\n",
    "```json\n",
    "{\n",
    "    \"account\": \"<account>\",\n",
    "    \"user\": \"<user>\",\n",
    "    \"password\": \"<password>\",\n",
    "    \"database\": \"<database>\",\n",
    "    \"warehouse\": \"<warehouse>\",\n",
    "    \"schema\": \"<schema>\"\n",
    "}\n"
   ]
  },
  {
   "cell_type": "code",
   "execution_count": 5,
   "id": "1280be32-10a6-4a55-955c-3363d45d6a28",
   "metadata": {},
   "outputs": [],
   "source": [
    "# Open and load JSON file directly using Python functions via reticulate\n",
    "open <- import_builtins()$open\n",
    "f <- open(\"../../keys/snowflake_cred.json\", \"r\")\n",
    "sf_credentials_dict <- json$load(f)\n",
    "f$close()  # Always good practice to close the file\n"
   ]
  },
  {
   "cell_type": "markdown",
   "id": "cb458e58-767c-4f34-99fe-6d11f2a982b5",
   "metadata": {},
   "source": [
    "## Connection to Snowflake Database\n",
    "We open the connection by calling sf.connector.connect() with the parameters set to our credentials."
   ]
  },
  {
   "cell_type": "code",
   "execution_count": 7,
   "id": "dc0aade6-17b6-4298-85d5-2d2042a5add5",
   "metadata": {},
   "outputs": [],
   "source": [
    "# Connect to Snowflake using unpacked credentials\n",
    "conn <- do.call(sf_connector$connect, sf_credentials_dict)\n",
    "cursor <- conn$cursor()\n"
   ]
  },
  {
   "cell_type": "code",
   "execution_count": 11,
   "id": "b862458b-2eab-48b0-8baf-799c55290c62",
   "metadata": {},
   "outputs": [
    {
     "data": {
      "text/plain": [
       "<snowflake.connector.cursor.SnowflakeCursor object at 0x7f22f359b290>"
      ]
     },
     "metadata": {},
     "output_type": "display_data"
    }
   ],
   "source": [
    "# Execute query and fetch results\n",
    "cursor$execute('select * from \"customers\"')"
   ]
  },
  {
   "cell_type": "code",
   "execution_count": 12,
   "id": "39acb7c4-a9f6-4f4a-b96c-117106abb59c",
   "metadata": {},
   "outputs": [],
   "source": [
    "#Convert to R dataframe\n",
    "customers_df <- py_to_r(cursor$fetch_pandas_all())"
   ]
  },
  {
   "cell_type": "code",
   "execution_count": 13,
   "id": "00342473-3223-459d-bc59-dcd5b2240dce",
   "metadata": {},
   "outputs": [
    {
     "data": {
      "text/html": [
       "TRUE"
      ],
      "text/latex": [
       "TRUE"
      ],
      "text/markdown": [
       "TRUE"
      ],
      "text/plain": [
       "[1] TRUE"
      ]
     },
     "metadata": {},
     "output_type": "display_data"
    }
   ],
   "source": [
    "# Clean up\n",
    "cursor$close()\n",
    "conn$close()"
   ]
  },
  {
   "cell_type": "code",
   "execution_count": 14,
   "id": "6629b134-d9a5-48bc-820c-0f055d352650",
   "metadata": {},
   "outputs": [
    {
     "data": {
      "text/html": [
       "<table class=\"dataframe\">\n",
       "<caption>A data.frame: 6 × 7</caption>\n",
       "<thead>\n",
       "\t<tr><th></th><th scope=col>custId</th><th scope=col>DemHomeOwnerCode</th><th scope=col>customerGender</th><th scope=col>EstimatedIncome</th><th scope=col>regionMedHomeVal</th><th scope=col>customerSubscrCode</th><th scope=col>birthDate</th></tr>\n",
       "\t<tr><th></th><th scope=col>&lt;dbl&gt;</th><th scope=col>&lt;chr&gt;</th><th scope=col>&lt;chr&gt;</th><th scope=col>&lt;dbl&gt;</th><th scope=col>&lt;dbl&gt;</th><th scope=col>&lt;dbl&gt;</th><th scope=col>&lt;list&gt;</th></tr>\n",
       "</thead>\n",
       "<tbody>\n",
       "\t<tr><th scope=row>1</th><td>   1</td><td>H</td><td>F</td><td>  3000</td><td> 96980</td><td>3</td><td>7017</td></tr>\n",
       "\t<tr><th scope=row>2</th><td>1000</td><td>H</td><td>F</td><td>105000</td><td>316420</td><td>3</td><td>9076</td></tr>\n",
       "\t<tr><th scope=row>3</th><td> 999</td><td>H</td><td>F</td><td>105000</td><td>296920</td><td>3</td><td>NULL</td></tr>\n",
       "\t<tr><th scope=row>4</th><td> 998</td><td>H</td><td>F</td><td>105000</td><td>203320</td><td>3</td><td>9620</td></tr>\n",
       "\t<tr><th scope=row>5</th><td> 997</td><td>H</td><td>F</td><td>105000</td><td>153400</td><td>3</td><td>6883</td></tr>\n",
       "\t<tr><th scope=row>6</th><td> 996</td><td>H</td><td>F</td><td>105000</td><td>137020</td><td>3</td><td>11617</td></tr>\n",
       "</tbody>\n",
       "</table>\n"
      ],
      "text/latex": [
       "A data.frame: 6 × 7\n",
       "\\begin{tabular}{r|lllllll}\n",
       "  & custId & DemHomeOwnerCode & customerGender & EstimatedIncome & regionMedHomeVal & customerSubscrCode & birthDate\\\\\n",
       "  & <dbl> & <chr> & <chr> & <dbl> & <dbl> & <dbl> & <list>\\\\\n",
       "\\hline\n",
       "\t1 &    1 & H & F &   3000 &  96980 & 3 & 7017\\\\\n",
       "\t2 & 1000 & H & F & 105000 & 316420 & 3 & 9076\\\\\n",
       "\t3 &  999 & H & F & 105000 & 296920 & 3 & NULL\\\\\n",
       "\t4 &  998 & H & F & 105000 & 203320 & 3 & 9620\\\\\n",
       "\t5 &  997 & H & F & 105000 & 153400 & 3 & 6883\\\\\n",
       "\t6 &  996 & H & F & 105000 & 137020 & 3 & 11617\\\\\n",
       "\\end{tabular}\n"
      ],
      "text/markdown": [
       "\n",
       "A data.frame: 6 × 7\n",
       "\n",
       "| <!--/--> | custId &lt;dbl&gt; | DemHomeOwnerCode &lt;chr&gt; | customerGender &lt;chr&gt; | EstimatedIncome &lt;dbl&gt; | regionMedHomeVal &lt;dbl&gt; | customerSubscrCode &lt;dbl&gt; | birthDate &lt;list&gt; |\n",
       "|---|---|---|---|---|---|---|---|\n",
       "| 1 |    1 | H | F |   3000 |  96980 | 3 | 7017 |\n",
       "| 2 | 1000 | H | F | 105000 | 316420 | 3 | 9076 |\n",
       "| 3 |  999 | H | F | 105000 | 296920 | 3 | NULL |\n",
       "| 4 |  998 | H | F | 105000 | 203320 | 3 | 9620 |\n",
       "| 5 |  997 | H | F | 105000 | 153400 | 3 | 6883 |\n",
       "| 6 |  996 | H | F | 105000 | 137020 | 3 | 11617 |\n",
       "\n"
      ],
      "text/plain": [
       "  custId DemHomeOwnerCode customerGender EstimatedIncome regionMedHomeVal\n",
       "1    1   H                F                3000           96980          \n",
       "2 1000   H                F              105000          316420          \n",
       "3  999   H                F              105000          296920          \n",
       "4  998   H                F              105000          203320          \n",
       "5  997   H                F              105000          153400          \n",
       "6  996   H                F              105000          137020          \n",
       "  customerSubscrCode birthDate\n",
       "1 3                  7017     \n",
       "2 3                  9076     \n",
       "3 3                  NULL     \n",
       "4 3                  9620     \n",
       "5 3                  6883     \n",
       "6 3                  11617    "
      ]
     },
     "metadata": {},
     "output_type": "display_data"
    }
   ],
   "source": [
    "head(customers_df)"
   ]
  },
  {
   "cell_type": "code",
   "execution_count": 15,
   "id": "f8efa490-241b-4243-a80b-70b9e76b4e1b",
   "metadata": {},
   "outputs": [
    {
     "data": {
      "text/html": [
       "<table class=\"dataframe\">\n",
       "<caption>A data.frame: 6 × 7</caption>\n",
       "<thead>\n",
       "\t<tr><th></th><th scope=col>custId</th><th scope=col>DemHomeOwnerCode</th><th scope=col>customerGender</th><th scope=col>EstimatedIncome</th><th scope=col>regionMedHomeVal</th><th scope=col>customerSubscrCode</th><th scope=col>birthDate</th></tr>\n",
       "\t<tr><th></th><th scope=col>&lt;dbl&gt;</th><th scope=col>&lt;chr&gt;</th><th scope=col>&lt;chr&gt;</th><th scope=col>&lt;dbl&gt;</th><th scope=col>&lt;dbl&gt;</th><th scope=col>&lt;dbl&gt;</th><th scope=col>&lt;date&gt;</th></tr>\n",
       "</thead>\n",
       "<tbody>\n",
       "\t<tr><th scope=row>1</th><td>   1</td><td>H</td><td>F</td><td>  3000</td><td> 96980</td><td>3</td><td>1989-03-19</td></tr>\n",
       "\t<tr><th scope=row>2</th><td>1000</td><td>H</td><td>F</td><td>105000</td><td>316420</td><td>3</td><td>1994-11-07</td></tr>\n",
       "\t<tr><th scope=row>3</th><td> 999</td><td>H</td><td>F</td><td>105000</td><td>296920</td><td>3</td><td>NA</td></tr>\n",
       "\t<tr><th scope=row>4</th><td> 998</td><td>H</td><td>F</td><td>105000</td><td>203320</td><td>3</td><td>1996-05-04</td></tr>\n",
       "\t<tr><th scope=row>5</th><td> 997</td><td>H</td><td>F</td><td>105000</td><td>153400</td><td>3</td><td>1988-11-05</td></tr>\n",
       "\t<tr><th scope=row>6</th><td> 996</td><td>H</td><td>F</td><td>105000</td><td>137020</td><td>3</td><td>2001-10-22</td></tr>\n",
       "</tbody>\n",
       "</table>\n"
      ],
      "text/latex": [
       "A data.frame: 6 × 7\n",
       "\\begin{tabular}{r|lllllll}\n",
       "  & custId & DemHomeOwnerCode & customerGender & EstimatedIncome & regionMedHomeVal & customerSubscrCode & birthDate\\\\\n",
       "  & <dbl> & <chr> & <chr> & <dbl> & <dbl> & <dbl> & <date>\\\\\n",
       "\\hline\n",
       "\t1 &    1 & H & F &   3000 &  96980 & 3 & 1989-03-19\\\\\n",
       "\t2 & 1000 & H & F & 105000 & 316420 & 3 & 1994-11-07\\\\\n",
       "\t3 &  999 & H & F & 105000 & 296920 & 3 & NA\\\\\n",
       "\t4 &  998 & H & F & 105000 & 203320 & 3 & 1996-05-04\\\\\n",
       "\t5 &  997 & H & F & 105000 & 153400 & 3 & 1988-11-05\\\\\n",
       "\t6 &  996 & H & F & 105000 & 137020 & 3 & 2001-10-22\\\\\n",
       "\\end{tabular}\n"
      ],
      "text/markdown": [
       "\n",
       "A data.frame: 6 × 7\n",
       "\n",
       "| <!--/--> | custId &lt;dbl&gt; | DemHomeOwnerCode &lt;chr&gt; | customerGender &lt;chr&gt; | EstimatedIncome &lt;dbl&gt; | regionMedHomeVal &lt;dbl&gt; | customerSubscrCode &lt;dbl&gt; | birthDate &lt;date&gt; |\n",
       "|---|---|---|---|---|---|---|---|\n",
       "| 1 |    1 | H | F |   3000 |  96980 | 3 | 1989-03-19 |\n",
       "| 2 | 1000 | H | F | 105000 | 316420 | 3 | 1994-11-07 |\n",
       "| 3 |  999 | H | F | 105000 | 296920 | 3 | NA |\n",
       "| 4 |  998 | H | F | 105000 | 203320 | 3 | 1996-05-04 |\n",
       "| 5 |  997 | H | F | 105000 | 153400 | 3 | 1988-11-05 |\n",
       "| 6 |  996 | H | F | 105000 | 137020 | 3 | 2001-10-22 |\n",
       "\n"
      ],
      "text/plain": [
       "  custId DemHomeOwnerCode customerGender EstimatedIncome regionMedHomeVal\n",
       "1    1   H                F                3000           96980          \n",
       "2 1000   H                F              105000          316420          \n",
       "3  999   H                F              105000          296920          \n",
       "4  998   H                F              105000          203320          \n",
       "5  997   H                F              105000          153400          \n",
       "6  996   H                F              105000          137020          \n",
       "  customerSubscrCode birthDate \n",
       "1 3                  1989-03-19\n",
       "2 3                  1994-11-07\n",
       "3 3                  <NA>      \n",
       "4 3                  1996-05-04\n",
       "5 3                  1988-11-05\n",
       "6 3                  2001-10-22"
      ]
     },
     "metadata": {},
     "output_type": "display_data"
    }
   ],
   "source": [
    "# Convert birthDate from numeric to Date format\n",
    "customers_df$birthDate[sapply(customers_df$birthDate, function(x) length(x)==0L)] <- NA\n",
    "customers_df$birthDate <- unlist(customers_df$birthDate, use.names = FALSE)\n",
    "customers_df$birthDate <- as.Date(customers_df$birthDate)\n",
    "\n",
    "# View result\n",
    "head(customers_df)"
   ]
  },
  {
   "cell_type": "code",
   "execution_count": 16,
   "id": "2f3a7fc2-100d-43cc-bebe-ec7170e06e3b",
   "metadata": {},
   "outputs": [],
   "source": [
    "save(customers_df, file = \"03_zDEMO_Accessing_and_Reading_Database-Data_Lakehouse_Data.RData\")"
   ]
  },
  {
   "cell_type": "code",
   "execution_count": null,
   "id": "cad2e3b9-0b4b-4323-9f3c-ebb0c829e26f",
   "metadata": {},
   "outputs": [],
   "source": []
  }
 ],
 "metadata": {
  "kernelspec": {
   "display_name": "R",
   "language": "R",
   "name": "ir"
  },
  "language_info": {
   "codemirror_mode": "r",
   "file_extension": ".r",
   "mimetype": "text/x-r-source",
   "name": "R",
   "pygments_lexer": "r",
   "version": "4.4.2"
  }
 },
 "nbformat": 4,
 "nbformat_minor": 5
}
