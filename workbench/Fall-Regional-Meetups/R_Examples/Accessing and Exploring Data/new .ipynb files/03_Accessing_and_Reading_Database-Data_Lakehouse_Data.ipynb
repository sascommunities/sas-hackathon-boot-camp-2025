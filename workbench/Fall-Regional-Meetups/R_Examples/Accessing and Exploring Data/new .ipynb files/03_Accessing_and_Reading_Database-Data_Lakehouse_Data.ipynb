{
 "cells": [
  {
   "cell_type": "markdown",
   "metadata": {},
   "source": [
    "# Accessing and Reading Database-Data Lakehouse Data\n"
   ]
  },
  {
   "cell_type": "markdown",
   "metadata": {},
   "source": [
    "First, install the required R packages if not done already. See [Installing Required R Packages.](../00_Installing_Required_R_Packages.ipynb)"
   ]
  },
  {
   "cell_type": "code",
   "execution_count": 1,
   "metadata": {
    "vscode": {
     "languageId": "r"
    }
   },
   "outputs": [],
   "source": [
    "library(haven)"
   ]
  },
  {
   "cell_type": "markdown",
   "metadata": {},
   "source": [
    "Read the SAS data set from the file path"
   ]
  },
  {
   "cell_type": "code",
   "execution_count": 2,
   "metadata": {
    "vscode": {
     "languageId": "r"
    }
   },
   "outputs": [
    {
     "name": "stdout",
     "output_type": "stream",
     "text": [
      "tibble [4,998 × 7] (S3: tbl_df/tbl/data.frame)\n",
      " $ custId            : num [1:4998] 1 2 3 4 5 6 7 8 9 10 ...\n",
      " $ DemHomeOwnerCode  : chr [1:4998] \"H\" \"H\" \"H\" \"H\" ...\n",
      "  ..- attr(*, \"format.sas\")= chr \"$1\"\n",
      " $ customerGender    : chr [1:4998] \"F\" \"F\" \"F\" \"F\" ...\n",
      "  ..- attr(*, \"format.sas\")= chr \"$1\"\n",
      " $ EstimatedIncome   : num [1:4998] 3000 5000 6000 7000 14000 15000 16000 18000 18000 19000 ...\n",
      "  ..- attr(*, \"format.sas\")= chr \"BEST12\"\n",
      " $ regionMedHomeVal  : num [1:4998] 96980 771550 594750 75790 214370 ...\n",
      "  ..- attr(*, \"format.sas\")= chr \"BEST12\"\n",
      " $ customerSubscrCode: num [1:4998] 3 3 3 3 3 3 3 3 3 3 ...\n",
      " $ birthDate         : Date[1:4998], format: \"1989-03-19\" NA ...\n"
     ]
    }
   ],
   "source": [
    "customers_df <- read_sas(\"../../data/input/snowflake/customers.sas7bdat\")\n",
    "\n",
    "str(customers_df)"
   ]
  },
  {
   "cell_type": "code",
   "execution_count": 3,
   "metadata": {
    "vscode": {
     "languageId": "r"
    }
   },
   "outputs": [
    {
     "data": {
      "text/html": [
       "<table class=\"dataframe\">\n",
       "<caption>A tibble: 6 × 7</caption>\n",
       "<thead>\n",
       "\t<tr><th scope=col>custId</th><th scope=col>DemHomeOwnerCode</th><th scope=col>customerGender</th><th scope=col>EstimatedIncome</th><th scope=col>regionMedHomeVal</th><th scope=col>customerSubscrCode</th><th scope=col>birthDate</th></tr>\n",
       "\t<tr><th scope=col>&lt;dbl&gt;</th><th scope=col>&lt;chr&gt;</th><th scope=col>&lt;chr&gt;</th><th scope=col>&lt;dbl&gt;</th><th scope=col>&lt;dbl&gt;</th><th scope=col>&lt;dbl&gt;</th><th scope=col>&lt;date&gt;</th></tr>\n",
       "</thead>\n",
       "<tbody>\n",
       "\t<tr><td>1</td><td>H</td><td>F</td><td> 3000</td><td> 96980</td><td>3</td><td>1989-03-19</td></tr>\n",
       "\t<tr><td>2</td><td>H</td><td>F</td><td> 5000</td><td>771550</td><td>3</td><td>NA</td></tr>\n",
       "\t<tr><td>3</td><td>H</td><td>F</td><td> 6000</td><td>594750</td><td>3</td><td>2001-02-14</td></tr>\n",
       "\t<tr><td>4</td><td>H</td><td>F</td><td> 7000</td><td> 75790</td><td>3</td><td>2005-03-13</td></tr>\n",
       "\t<tr><td>5</td><td>H</td><td>F</td><td>14000</td><td>214370</td><td>3</td><td>1994-11-04</td></tr>\n",
       "\t<tr><td>6</td><td>H</td><td>F</td><td>15000</td><td>202150</td><td>3</td><td>1993-06-02</td></tr>\n",
       "</tbody>\n",
       "</table>\n"
      ],
      "text/latex": [
       "A tibble: 6 × 7\n",
       "\\begin{tabular}{lllllll}\n",
       " custId & DemHomeOwnerCode & customerGender & EstimatedIncome & regionMedHomeVal & customerSubscrCode & birthDate\\\\\n",
       " <dbl> & <chr> & <chr> & <dbl> & <dbl> & <dbl> & <date>\\\\\n",
       "\\hline\n",
       "\t 1 & H & F &  3000 &  96980 & 3 & 1989-03-19\\\\\n",
       "\t 2 & H & F &  5000 & 771550 & 3 & NA\\\\\n",
       "\t 3 & H & F &  6000 & 594750 & 3 & 2001-02-14\\\\\n",
       "\t 4 & H & F &  7000 &  75790 & 3 & 2005-03-13\\\\\n",
       "\t 5 & H & F & 14000 & 214370 & 3 & 1994-11-04\\\\\n",
       "\t 6 & H & F & 15000 & 202150 & 3 & 1993-06-02\\\\\n",
       "\\end{tabular}\n"
      ],
      "text/markdown": [
       "\n",
       "A tibble: 6 × 7\n",
       "\n",
       "| custId &lt;dbl&gt; | DemHomeOwnerCode &lt;chr&gt; | customerGender &lt;chr&gt; | EstimatedIncome &lt;dbl&gt; | regionMedHomeVal &lt;dbl&gt; | customerSubscrCode &lt;dbl&gt; | birthDate &lt;date&gt; |\n",
       "|---|---|---|---|---|---|---|\n",
       "| 1 | H | F |  3000 |  96980 | 3 | 1989-03-19 |\n",
       "| 2 | H | F |  5000 | 771550 | 3 | NA |\n",
       "| 3 | H | F |  6000 | 594750 | 3 | 2001-02-14 |\n",
       "| 4 | H | F |  7000 |  75790 | 3 | 2005-03-13 |\n",
       "| 5 | H | F | 14000 | 214370 | 3 | 1994-11-04 |\n",
       "| 6 | H | F | 15000 | 202150 | 3 | 1993-06-02 |\n",
       "\n"
      ],
      "text/plain": [
       "  custId DemHomeOwnerCode customerGender EstimatedIncome regionMedHomeVal\n",
       "1 1      H                F               3000            96980          \n",
       "2 2      H                F               5000           771550          \n",
       "3 3      H                F               6000           594750          \n",
       "4 4      H                F               7000            75790          \n",
       "5 5      H                F              14000           214370          \n",
       "6 6      H                F              15000           202150          \n",
       "  customerSubscrCode birthDate \n",
       "1 3                  1989-03-19\n",
       "2 3                  <NA>      \n",
       "3 3                  2001-02-14\n",
       "4 3                  2005-03-13\n",
       "5 3                  1994-11-04\n",
       "6 3                  1993-06-02"
      ]
     },
     "metadata": {},
     "output_type": "display_data"
    }
   ],
   "source": [
    "head(customers_df)"
   ]
  },
  {
   "cell_type": "markdown",
   "metadata": {},
   "source": [
    "## Saving data to be accessed later"
   ]
  },
  {
   "cell_type": "code",
   "execution_count": 4,
   "metadata": {
    "vscode": {
     "languageId": "r"
    }
   },
   "outputs": [],
   "source": [
    "save(customers_df, file = \"03_Accessing_and_Reading_Database-Data_Lakehouse_Data.RData\")"
   ]
  },
  {
   "cell_type": "code",
   "execution_count": null,
   "metadata": {},
   "outputs": [],
   "source": []
  }
 ],
 "metadata": {
  "kernelspec": {
   "display_name": "R",
   "language": "R",
   "name": "ir"
  },
  "language_info": {
   "codemirror_mode": "r",
   "file_extension": ".r",
   "mimetype": "text/x-r-source",
   "name": "R",
   "pygments_lexer": "r",
   "version": "4.4.2"
  }
 },
 "nbformat": 4,
 "nbformat_minor": 4
}
