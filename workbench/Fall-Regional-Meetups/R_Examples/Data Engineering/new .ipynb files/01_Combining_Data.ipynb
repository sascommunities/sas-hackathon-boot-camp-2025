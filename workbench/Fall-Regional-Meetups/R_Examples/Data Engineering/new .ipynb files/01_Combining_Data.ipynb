{
 "cells": [
  {
   "cell_type": "markdown",
   "metadata": {},
   "source": [
    "# Combining Data"
   ]
  },
  {
   "cell_type": "markdown",
   "metadata": {},
   "source": [
    "First, install the required R packages if not done already. See [Installing Required R Packages.](../00_Installing_Required_R_Packages.ipynb)\n",
    "\n",
    "Second, be sure to run all notebooks from the **Accessing and Exploring Data** section of **Addressing the Use Case with the R language** before running this notebook:\n",
    "\n",
    "[01_Accessing_and_Reading_Local_Files.ipynb](01_Accessing_and_Reading_Local_Files.ipynb)\n",
    "\n",
    "[02_Accessing_and_Reading_Data_Lake_Files.ipynb](02_Accessing_and_Reading_Data_Lake_Files.ipynb)\n",
    "\n",
    "[03_Accessing_and_Reading_Database-Data_Lakehouse_Data.ipynb](03_Accessing_and_Reading_Database-Data_Lakehouse_Data.ipynb)\n",
    "\n",
    "\n",
    "## Load any necessary packages."
   ]
  },
  {
   "cell_type": "code",
   "execution_count": 1,
   "metadata": {
    "vscode": {
     "languageId": "r"
    }
   },
   "outputs": [
    {
     "name": "stderr",
     "output_type": "stream",
     "text": [
      "── \u001b[1mAttaching core tidyverse packages\u001b[22m ──────────────────────── tidyverse 2.0.0 ──\n",
      "\u001b[32m✔\u001b[39m \u001b[34mdplyr    \u001b[39m 1.1.4     \u001b[32m✔\u001b[39m \u001b[34mreadr    \u001b[39m 2.1.5\n",
      "\u001b[32m✔\u001b[39m \u001b[34mforcats  \u001b[39m 1.0.0     \u001b[32m✔\u001b[39m \u001b[34mstringr  \u001b[39m 1.5.1\n",
      "\u001b[32m✔\u001b[39m \u001b[34mggplot2  \u001b[39m 3.5.2     \u001b[32m✔\u001b[39m \u001b[34mtibble   \u001b[39m 3.2.1\n",
      "\u001b[32m✔\u001b[39m \u001b[34mlubridate\u001b[39m 1.9.4     \u001b[32m✔\u001b[39m \u001b[34mtidyr    \u001b[39m 1.3.1\n",
      "\u001b[32m✔\u001b[39m \u001b[34mpurrr    \u001b[39m 1.0.4     \n",
      "── \u001b[1mConflicts\u001b[22m ────────────────────────────────────────── tidyverse_conflicts() ──\n",
      "\u001b[31m✖\u001b[39m \u001b[34mdplyr\u001b[39m::\u001b[32mfilter()\u001b[39m masks \u001b[34mstats\u001b[39m::filter()\n",
      "\u001b[31m✖\u001b[39m \u001b[34mdplyr\u001b[39m::\u001b[32mlag()\u001b[39m    masks \u001b[34mstats\u001b[39m::lag()\n",
      "\u001b[36mℹ\u001b[39m Use the conflicted package (\u001b[3m\u001b[34m<http://conflicted.r-lib.org/>\u001b[39m\u001b[23m) to force all conflicts to become errors\n"
     ]
    }
   ],
   "source": [
    "library(tidyverse)"
   ]
  },
  {
   "cell_type": "markdown",
   "metadata": {},
   "source": [
    "## Load data created in data access notebooks"
   ]
  },
  {
   "cell_type": "code",
   "execution_count": 5,
   "metadata": {
    "vscode": {
     "languageId": "r"
    }
   },
   "outputs": [],
   "source": [
    "load(\"../04_01_Accessing_and_Exploring_Data/01_Accessing_and_Reading_Local_Files.RData\")\n",
    "load(\"../04_01_Accessing_and_Exploring_Data/02_Accessing_and_Reading_Data_Lake_Files.RData\")\n",
    "load(\"../04_01_Accessing_and_Exploring_Data/03_Accessing_and_Reading_Database-Data_Lakehouse_Data.RData\")"
   ]
  },
  {
   "cell_type": "markdown",
   "metadata": {},
   "source": [
    "## Joining the Data"
   ]
  },
  {
   "cell_type": "code",
   "execution_count": 6,
   "metadata": {
    "vscode": {
     "languageId": "r"
    }
   },
   "outputs": [],
   "source": [
    "df <- cust_churn_df %>%\n",
    "  inner_join(customers_df, by = \"custId\") %>%\n",
    "  select(-custId) %>%\n",
    "  inner_join(subscriptions_df, by = \"customerSubscrCode\") %>%\n",
    "  select(-customerSubscrCode) %>%\n",
    "  inner_join(techsupportevals_df, by = \"ID\") %>%\n",
    "  left_join(reviews_df, by = \"reviewId\") %>%\n",
    "  select(-reviewId)"
   ]
  },
  {
   "cell_type": "code",
   "execution_count": 7,
   "metadata": {},
   "outputs": [
    {
     "data": {
      "text/html": [
       "<style>\n",
       ".list-inline {list-style: none; margin:0; padding: 0}\n",
       ".list-inline>li {display: inline-block}\n",
       ".list-inline>li:not(:last-child)::after {content: \"\\00b7\"; padding: 0 .5ex}\n",
       "</style>\n",
       "<ol class=list-inline><li>782</li><li>3</li></ol>\n"
      ],
      "text/latex": [
       "\\begin{enumerate*}\n",
       "\\item 782\n",
       "\\item 3\n",
       "\\end{enumerate*}\n"
      ],
      "text/markdown": [
       "1. 782\n",
       "2. 3\n",
       "\n",
       "\n"
      ],
      "text/plain": [
       "[1] 782   3"
      ]
     },
     "metadata": {},
     "output_type": "display_data"
    }
   ],
   "source": [
    "dim(reviews_df)"
   ]
  },
  {
   "cell_type": "code",
   "execution_count": 8,
   "metadata": {},
   "outputs": [
    {
     "data": {
      "text/html": [
       "<style>\n",
       ".list-inline {list-style: none; margin:0; padding: 0}\n",
       ".list-inline>li {display: inline-block}\n",
       ".list-inline>li:not(:last-child)::after {content: \"\\00b7\"; padding: 0 .5ex}\n",
       "</style>\n",
       "<ol class=list-inline><li>5000</li><li>29</li></ol>\n"
      ],
      "text/latex": [
       "\\begin{enumerate*}\n",
       "\\item 5000\n",
       "\\item 29\n",
       "\\end{enumerate*}\n"
      ],
      "text/markdown": [
       "1. 5000\n",
       "2. 29\n",
       "\n",
       "\n"
      ],
      "text/plain": [
       "[1] 5000   29"
      ]
     },
     "metadata": {},
     "output_type": "display_data"
    },
    {
     "data": {
      "text/html": [
       "<table class=\"dataframe\">\n",
       "<caption>A tibble: 6 × 29</caption>\n",
       "<thead>\n",
       "\t<tr><th scope=col>ID</th><th scope=col>LostCustomer</th><th scope=col>regionPctCustomers</th><th scope=col>numOfTotalReturns</th><th scope=col>wksSinceLastPurch</th><th scope=col>basktPurchCount12Month</th><th scope=col>LastPurchaseAmount</th><th scope=col>AvgPurchaseAmount12</th><th scope=col>AvgPurchaseAmountTotal</th><th scope=col>intAdExposureCount12</th><th scope=col>⋯</th><th scope=col>wksSinceFirstPurch</th><th scope=col>DemHomeOwnerCode</th><th scope=col>customerGender</th><th scope=col>EstimatedIncome</th><th scope=col>regionMedHomeVal</th><th scope=col>birthDate</th><th scope=col>customerSubscrStat</th><th scope=col>techSupportEval</th><th scope=col>Review_Text</th><th scope=col>Title</th></tr>\n",
       "\t<tr><th scope=col>&lt;dbl&gt;</th><th scope=col>&lt;dbl&gt;</th><th scope=col>&lt;dbl&gt;</th><th scope=col>&lt;dbl&gt;</th><th scope=col>&lt;dbl&gt;</th><th scope=col>&lt;dbl&gt;</th><th scope=col>&lt;dbl&gt;</th><th scope=col>&lt;dbl&gt;</th><th scope=col>&lt;dbl&gt;</th><th scope=col>&lt;dbl&gt;</th><th scope=col>⋯</th><th scope=col>&lt;dbl&gt;</th><th scope=col>&lt;chr&gt;</th><th scope=col>&lt;chr&gt;</th><th scope=col>&lt;dbl&gt;</th><th scope=col>&lt;dbl&gt;</th><th scope=col>&lt;date&gt;</th><th scope=col>&lt;chr&gt;</th><th scope=col>&lt;dbl&gt;</th><th scope=col>&lt;chr&gt;</th><th scope=col>&lt;chr&gt;</th></tr>\n",
       "</thead>\n",
       "<tbody>\n",
       "\t<tr><td>9155</td><td>0</td><td>43</td><td>0</td><td>14</td><td>10</td><td>50</td><td> 0.0</td><td>55.65</td><td>27</td><td>⋯</td><td> 89</td><td>U</td><td>F</td><td> 93000</td><td> 59280</td><td>2004-11-13</td><td>Platinum</td><td>3</td><td>NA</td><td>NA</td></tr>\n",
       "\t<tr><td>9160</td><td>0</td><td>19</td><td>1</td><td>19</td><td> 3</td><td>50</td><td>62.5</td><td>61.90</td><td>13</td><td>⋯</td><td> 89</td><td>H</td><td>M</td><td> 84000</td><td>170820</td><td>1974-03-14</td><td>Platinum</td><td>3</td><td>NA</td><td>NA</td></tr>\n",
       "\t<tr><td>9163</td><td>0</td><td>19</td><td>0</td><td> 7</td><td>10</td><td>50</td><td> 0.0</td><td>35.20</td><td>32</td><td>⋯</td><td>148</td><td>H</td><td>F</td><td>140000</td><td> 92430</td><td>2006-02-22</td><td>Platinum</td><td>2</td><td>NA</td><td>NA</td></tr>\n",
       "\t<tr><td>9170</td><td>0</td><td>33</td><td>5</td><td> 7</td><td> 2</td><td>50</td><td>40.0</td><td>34.75</td><td>31</td><td>⋯</td><td> 93</td><td>U</td><td>F</td><td>142000</td><td> 53430</td><td>2006-04-19</td><td>Platinum</td><td>2</td><td>NA</td><td>NA</td></tr>\n",
       "\t<tr><td>9175</td><td>0</td><td>22</td><td>0</td><td> 6</td><td>10</td><td>50</td><td> 0.0</td><td>62.95</td><td>40</td><td>⋯</td><td>137</td><td>H</td><td>F</td><td> 83000</td><td>443690</td><td>2002-02-23</td><td>Platinum</td><td>2</td><td>NA</td><td>NA</td></tr>\n",
       "\t<tr><td>9190</td><td>0</td><td>30</td><td>0</td><td>20</td><td> 5</td><td>55</td><td>55.0</td><td>80.20</td><td>29</td><td>⋯</td><td>150</td><td>U</td><td>M</td><td> 66000</td><td>107770</td><td>2005-10-23</td><td>Platinum</td><td>2</td><td>NA</td><td>NA</td></tr>\n",
       "</tbody>\n",
       "</table>\n"
      ],
      "text/latex": [
       "A tibble: 6 × 29\n",
       "\\begin{tabular}{lllllllllllllllllllll}\n",
       " ID & LostCustomer & regionPctCustomers & numOfTotalReturns & wksSinceLastPurch & basktPurchCount12Month & LastPurchaseAmount & AvgPurchaseAmount12 & AvgPurchaseAmountTotal & intAdExposureCount12 & ⋯ & wksSinceFirstPurch & DemHomeOwnerCode & customerGender & EstimatedIncome & regionMedHomeVal & birthDate & customerSubscrStat & techSupportEval & Review\\_Text & Title\\\\\n",
       " <dbl> & <dbl> & <dbl> & <dbl> & <dbl> & <dbl> & <dbl> & <dbl> & <dbl> & <dbl> & ⋯ & <dbl> & <chr> & <chr> & <dbl> & <dbl> & <date> & <chr> & <dbl> & <chr> & <chr>\\\\\n",
       "\\hline\n",
       "\t 9155 & 0 & 43 & 0 & 14 & 10 & 50 &  0.0 & 55.65 & 27 & ⋯ &  89 & U & F &  93000 &  59280 & 2004-11-13 & Platinum & 3 & NA & NA\\\\\n",
       "\t 9160 & 0 & 19 & 1 & 19 &  3 & 50 & 62.5 & 61.90 & 13 & ⋯ &  89 & H & M &  84000 & 170820 & 1974-03-14 & Platinum & 3 & NA & NA\\\\\n",
       "\t 9163 & 0 & 19 & 0 &  7 & 10 & 50 &  0.0 & 35.20 & 32 & ⋯ & 148 & H & F & 140000 &  92430 & 2006-02-22 & Platinum & 2 & NA & NA\\\\\n",
       "\t 9170 & 0 & 33 & 5 &  7 &  2 & 50 & 40.0 & 34.75 & 31 & ⋯ &  93 & U & F & 142000 &  53430 & 2006-04-19 & Platinum & 2 & NA & NA\\\\\n",
       "\t 9175 & 0 & 22 & 0 &  6 & 10 & 50 &  0.0 & 62.95 & 40 & ⋯ & 137 & H & F &  83000 & 443690 & 2002-02-23 & Platinum & 2 & NA & NA\\\\\n",
       "\t 9190 & 0 & 30 & 0 & 20 &  5 & 55 & 55.0 & 80.20 & 29 & ⋯ & 150 & U & M &  66000 & 107770 & 2005-10-23 & Platinum & 2 & NA & NA\\\\\n",
       "\\end{tabular}\n"
      ],
      "text/markdown": [
       "\n",
       "A tibble: 6 × 29\n",
       "\n",
       "| ID &lt;dbl&gt; | LostCustomer &lt;dbl&gt; | regionPctCustomers &lt;dbl&gt; | numOfTotalReturns &lt;dbl&gt; | wksSinceLastPurch &lt;dbl&gt; | basktPurchCount12Month &lt;dbl&gt; | LastPurchaseAmount &lt;dbl&gt; | AvgPurchaseAmount12 &lt;dbl&gt; | AvgPurchaseAmountTotal &lt;dbl&gt; | intAdExposureCount12 &lt;dbl&gt; | ⋯ ⋯ | wksSinceFirstPurch &lt;dbl&gt; | DemHomeOwnerCode &lt;chr&gt; | customerGender &lt;chr&gt; | EstimatedIncome &lt;dbl&gt; | regionMedHomeVal &lt;dbl&gt; | birthDate &lt;date&gt; | customerSubscrStat &lt;chr&gt; | techSupportEval &lt;dbl&gt; | Review_Text &lt;chr&gt; | Title &lt;chr&gt; |\n",
       "|---|---|---|---|---|---|---|---|---|---|---|---|---|---|---|---|---|---|---|---|---|\n",
       "| 9155 | 0 | 43 | 0 | 14 | 10 | 50 |  0.0 | 55.65 | 27 | ⋯ |  89 | U | F |  93000 |  59280 | 2004-11-13 | Platinum | 3 | NA | NA |\n",
       "| 9160 | 0 | 19 | 1 | 19 |  3 | 50 | 62.5 | 61.90 | 13 | ⋯ |  89 | H | M |  84000 | 170820 | 1974-03-14 | Platinum | 3 | NA | NA |\n",
       "| 9163 | 0 | 19 | 0 |  7 | 10 | 50 |  0.0 | 35.20 | 32 | ⋯ | 148 | H | F | 140000 |  92430 | 2006-02-22 | Platinum | 2 | NA | NA |\n",
       "| 9170 | 0 | 33 | 5 |  7 |  2 | 50 | 40.0 | 34.75 | 31 | ⋯ |  93 | U | F | 142000 |  53430 | 2006-04-19 | Platinum | 2 | NA | NA |\n",
       "| 9175 | 0 | 22 | 0 |  6 | 10 | 50 |  0.0 | 62.95 | 40 | ⋯ | 137 | H | F |  83000 | 443690 | 2002-02-23 | Platinum | 2 | NA | NA |\n",
       "| 9190 | 0 | 30 | 0 | 20 |  5 | 55 | 55.0 | 80.20 | 29 | ⋯ | 150 | U | M |  66000 | 107770 | 2005-10-23 | Platinum | 2 | NA | NA |\n",
       "\n"
      ],
      "text/plain": [
       "  ID   LostCustomer regionPctCustomers numOfTotalReturns wksSinceLastPurch\n",
       "1 9155 0            43                 0                 14               \n",
       "2 9160 0            19                 1                 19               \n",
       "3 9163 0            19                 0                  7               \n",
       "4 9170 0            33                 5                  7               \n",
       "5 9175 0            22                 0                  6               \n",
       "6 9190 0            30                 0                 20               \n",
       "  basktPurchCount12Month LastPurchaseAmount AvgPurchaseAmount12\n",
       "1 10                     50                  0.0               \n",
       "2  3                     50                 62.5               \n",
       "3 10                     50                  0.0               \n",
       "4  2                     50                 40.0               \n",
       "5 10                     50                  0.0               \n",
       "6  5                     55                 55.0               \n",
       "  AvgPurchaseAmountTotal intAdExposureCount12 ⋯ wksSinceFirstPurch\n",
       "1 55.65                  27                   ⋯  89               \n",
       "2 61.90                  13                   ⋯  89               \n",
       "3 35.20                  32                   ⋯ 148               \n",
       "4 34.75                  31                   ⋯  93               \n",
       "5 62.95                  40                   ⋯ 137               \n",
       "6 80.20                  29                   ⋯ 150               \n",
       "  DemHomeOwnerCode customerGender EstimatedIncome regionMedHomeVal birthDate \n",
       "1 U                F               93000           59280           2004-11-13\n",
       "2 H                M               84000          170820           1974-03-14\n",
       "3 H                F              140000           92430           2006-02-22\n",
       "4 U                F              142000           53430           2006-04-19\n",
       "5 H                F               83000          443690           2002-02-23\n",
       "6 U                M               66000          107770           2005-10-23\n",
       "  customerSubscrStat techSupportEval Review_Text Title\n",
       "1 Platinum           3               NA          NA   \n",
       "2 Platinum           3               NA          NA   \n",
       "3 Platinum           2               NA          NA   \n",
       "4 Platinum           2               NA          NA   \n",
       "5 Platinum           2               NA          NA   \n",
       "6 Platinum           2               NA          NA   "
      ]
     },
     "metadata": {},
     "output_type": "display_data"
    }
   ],
   "source": [
    "dim(df)\n",
    "head(df)"
   ]
  },
  {
   "cell_type": "code",
   "execution_count": 9,
   "metadata": {},
   "outputs": [
    {
     "data": {
      "text/html": [
       "<style>\n",
       ".dl-inline {width: auto; margin:0; padding: 0}\n",
       ".dl-inline>dt, .dl-inline>dd {float: none; width: auto; display: inline-block}\n",
       ".dl-inline>dt::after {content: \":\\0020\"; padding-right: .5ex}\n",
       ".dl-inline>dt:not(:first-of-type) {padding-left: .5ex}\n",
       "</style><dl class=dl-inline><dt>ID</dt><dd>5000</dd><dt>LostCustomer</dt><dd>5000</dd><dt>regionPctCustomers</dt><dd>5000</dd><dt>numOfTotalReturns</dt><dd>5000</dd><dt>wksSinceLastPurch</dt><dd>5000</dd><dt>basktPurchCount12Month</dt><dd>5000</dd><dt>LastPurchaseAmount</dt><dd>5000</dd><dt>AvgPurchaseAmount12</dt><dd>5000</dd><dt>AvgPurchaseAmountTotal</dt><dd>5000</dd><dt>intAdExposureCount12</dt><dd>5000</dd><dt>intAdExposureCount36</dt><dd>5000</dd><dt>intAdExposureCountAll</dt><dd>5000</dd><dt>socialMediaAdCount12</dt><dd>5000</dd><dt>socialMediaAdCount36</dt><dd>5000</dd><dt>socialMediaAdCountAll</dt><dd>5000</dd><dt>totalNumProdPurchased</dt><dd>5000</dd><dt>custInitiatedContacts</dt><dd>5000</dd><dt>avgDiscountValue12</dt><dd>3618</dd><dt>customersales</dt><dd>5000</dd><dt>wksSinceFirstPurch</dt><dd>5000</dd><dt>DemHomeOwnerCode</dt><dd>5000</dd><dt>customerGender</dt><dd>5000</dd><dt>EstimatedIncome</dt><dd>5000</dd><dt>regionMedHomeVal</dt><dd>5000</dd><dt>birthDate</dt><dd>3741</dd><dt>customerSubscrStat</dt><dd>5000</dd><dt>techSupportEval</dt><dd>4730</dd><dt>Review_Text</dt><dd>782</dd><dt>Title</dt><dd>782</dd></dl>\n"
      ],
      "text/latex": [
       "\\begin{description*}\n",
       "\\item[ID] 5000\n",
       "\\item[LostCustomer] 5000\n",
       "\\item[regionPctCustomers] 5000\n",
       "\\item[numOfTotalReturns] 5000\n",
       "\\item[wksSinceLastPurch] 5000\n",
       "\\item[basktPurchCount12Month] 5000\n",
       "\\item[LastPurchaseAmount] 5000\n",
       "\\item[AvgPurchaseAmount12] 5000\n",
       "\\item[AvgPurchaseAmountTotal] 5000\n",
       "\\item[intAdExposureCount12] 5000\n",
       "\\item[intAdExposureCount36] 5000\n",
       "\\item[intAdExposureCountAll] 5000\n",
       "\\item[socialMediaAdCount12] 5000\n",
       "\\item[socialMediaAdCount36] 5000\n",
       "\\item[socialMediaAdCountAll] 5000\n",
       "\\item[totalNumProdPurchased] 5000\n",
       "\\item[custInitiatedContacts] 5000\n",
       "\\item[avgDiscountValue12] 3618\n",
       "\\item[customersales] 5000\n",
       "\\item[wksSinceFirstPurch] 5000\n",
       "\\item[DemHomeOwnerCode] 5000\n",
       "\\item[customerGender] 5000\n",
       "\\item[EstimatedIncome] 5000\n",
       "\\item[regionMedHomeVal] 5000\n",
       "\\item[birthDate] 3741\n",
       "\\item[customerSubscrStat] 5000\n",
       "\\item[techSupportEval] 4730\n",
       "\\item[Review\\textbackslash{}\\_Text] 782\n",
       "\\item[Title] 782\n",
       "\\end{description*}\n"
      ],
      "text/markdown": [
       "ID\n",
       ":   5000LostCustomer\n",
       ":   5000regionPctCustomers\n",
       ":   5000numOfTotalReturns\n",
       ":   5000wksSinceLastPurch\n",
       ":   5000basktPurchCount12Month\n",
       ":   5000LastPurchaseAmount\n",
       ":   5000AvgPurchaseAmount12\n",
       ":   5000AvgPurchaseAmountTotal\n",
       ":   5000intAdExposureCount12\n",
       ":   5000intAdExposureCount36\n",
       ":   5000intAdExposureCountAll\n",
       ":   5000socialMediaAdCount12\n",
       ":   5000socialMediaAdCount36\n",
       ":   5000socialMediaAdCountAll\n",
       ":   5000totalNumProdPurchased\n",
       ":   5000custInitiatedContacts\n",
       ":   5000avgDiscountValue12\n",
       ":   3618customersales\n",
       ":   5000wksSinceFirstPurch\n",
       ":   5000DemHomeOwnerCode\n",
       ":   5000customerGender\n",
       ":   5000EstimatedIncome\n",
       ":   5000regionMedHomeVal\n",
       ":   5000birthDate\n",
       ":   3741customerSubscrStat\n",
       ":   5000techSupportEval\n",
       ":   4730Review_Text\n",
       ":   782Title\n",
       ":   782\n",
       "\n"
      ],
      "text/plain": [
       "                    ID           LostCustomer     regionPctCustomers \n",
       "                  5000                   5000                   5000 \n",
       "     numOfTotalReturns      wksSinceLastPurch basktPurchCount12Month \n",
       "                  5000                   5000                   5000 \n",
       "    LastPurchaseAmount    AvgPurchaseAmount12 AvgPurchaseAmountTotal \n",
       "                  5000                   5000                   5000 \n",
       "  intAdExposureCount12   intAdExposureCount36  intAdExposureCountAll \n",
       "                  5000                   5000                   5000 \n",
       "  socialMediaAdCount12   socialMediaAdCount36  socialMediaAdCountAll \n",
       "                  5000                   5000                   5000 \n",
       " totalNumProdPurchased  custInitiatedContacts     avgDiscountValue12 \n",
       "                  5000                   5000                   3618 \n",
       "         customersales     wksSinceFirstPurch       DemHomeOwnerCode \n",
       "                  5000                   5000                   5000 \n",
       "        customerGender        EstimatedIncome       regionMedHomeVal \n",
       "                  5000                   5000                   5000 \n",
       "             birthDate     customerSubscrStat        techSupportEval \n",
       "                  3741                   5000                   4730 \n",
       "           Review_Text                  Title \n",
       "                   782                    782 "
      ]
     },
     "metadata": {},
     "output_type": "display_data"
    }
   ],
   "source": [
    "colSums(!is.na(df))"
   ]
  },
  {
   "cell_type": "markdown",
   "metadata": {},
   "source": [
    "## Saving data to be accessed later"
   ]
  },
  {
   "cell_type": "code",
   "execution_count": 10,
   "metadata": {
    "vscode": {
     "languageId": "r"
    }
   },
   "outputs": [],
   "source": [
    "save(df, file = \"01_Combining_Data.RData\")"
   ]
  },
  {
   "cell_type": "code",
   "execution_count": null,
   "metadata": {},
   "outputs": [],
   "source": []
  }
 ],
 "metadata": {
  "kernelspec": {
   "display_name": "R",
   "language": "R",
   "name": "ir"
  },
  "language_info": {
   "codemirror_mode": "r",
   "file_extension": ".r",
   "mimetype": "text/x-r-source",
   "name": "R",
   "pygments_lexer": "r",
   "version": "4.4.2"
  }
 },
 "nbformat": 4,
 "nbformat_minor": 4
}
