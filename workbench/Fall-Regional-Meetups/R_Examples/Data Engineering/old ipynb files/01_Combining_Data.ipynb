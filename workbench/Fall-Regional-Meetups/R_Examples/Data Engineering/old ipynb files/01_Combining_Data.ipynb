{
 "cells": [
  {
   "cell_type": "markdown",
   "metadata": {},
   "source": [
    "# Combining Data"
   ]
  },
  {
   "cell_type": "code",
   "execution_count": 6,
   "metadata": {
    "vscode": {
     "languageId": "r"
    }
   },
   "outputs": [],
   "source": [
    "knitr::opts_chunk$set(warning = FALSE, message = FALSE) "
   ]
  },
  {
   "cell_type": "markdown",
   "metadata": {},
   "source": [
    "First, install the required R packages if not done already. \n",
    "\n",
    "## Load any necessary packages."
   ]
  },
  {
   "cell_type": "code",
   "execution_count": 7,
   "metadata": {
    "vscode": {
     "languageId": "r"
    }
   },
   "outputs": [],
   "source": [
    "library(knitr)\n",
    "library(dplyr)"
   ]
  },
  {
   "cell_type": "markdown",
   "metadata": {},
   "source": [
    "## Run the data access notebooks."
   ]
  },
  {
   "cell_type": "code",
   "execution_count": 3,
   "metadata": {
    "vscode": {
     "languageId": "r"
    }
   },
   "outputs": [],
   "source": [
    "load(\"01_Accessing_and_Reading_Local_Files.RData\")\n",
    "load(\"02_Accessing_and_Reading_Data_Lake_Files.RData\")\n",
    "load(\"03_Accessing_and_Reading_Database-Data_Lakehouse_Data.RData\")"
   ]
  },
  {
   "cell_type": "markdown",
   "metadata": {},
   "source": [
    "## Joining the Data"
   ]
  },
  {
   "cell_type": "code",
   "execution_count": 4,
   "metadata": {
    "vscode": {
     "languageId": "r"
    }
   },
   "outputs": [
    {
     "data": {
      "text/html": [
       "<table class=\"dataframe\">\n",
       "<caption>A tibble: 6 × 29</caption>\n",
       "<thead>\n",
       "\t<tr><th scope=col>ID</th><th scope=col>LostCustomer</th><th scope=col>regionPctCustomers</th><th scope=col>numOfTotalReturns</th><th scope=col>wksSinceLastPurch</th><th scope=col>basktPurchCount12Month</th><th scope=col>LastPurchaseAmount</th><th scope=col>AvgPurchaseAmount12</th><th scope=col>AvgPurchaseAmountTotal</th><th scope=col>intAdExposureCount12</th><th scope=col>⋯</th><th scope=col>wksSinceFirstPurch</th><th scope=col>DemHomeOwnerCode</th><th scope=col>customerGender</th><th scope=col>EstimatedIncome</th><th scope=col>regionMedHomeVal</th><th scope=col>birthDate</th><th scope=col>customerSubscrStat</th><th scope=col>techSupportEval</th><th scope=col>Review_Text</th><th scope=col>Title</th></tr>\n",
       "\t<tr><th scope=col>&lt;dbl&gt;</th><th scope=col>&lt;dbl&gt;</th><th scope=col>&lt;dbl&gt;</th><th scope=col>&lt;dbl&gt;</th><th scope=col>&lt;dbl&gt;</th><th scope=col>&lt;dbl&gt;</th><th scope=col>&lt;dbl&gt;</th><th scope=col>&lt;dbl&gt;</th><th scope=col>&lt;dbl&gt;</th><th scope=col>&lt;dbl&gt;</th><th scope=col>⋯</th><th scope=col>&lt;dbl&gt;</th><th scope=col>&lt;chr&gt;</th><th scope=col>&lt;chr&gt;</th><th scope=col>&lt;dbl&gt;</th><th scope=col>&lt;dbl&gt;</th><th scope=col>&lt;date&gt;</th><th scope=col>&lt;chr&gt;</th><th scope=col>&lt;dbl&gt;</th><th scope=col>&lt;chr&gt;</th><th scope=col>&lt;chr&gt;</th></tr>\n",
       "</thead>\n",
       "<tbody>\n",
       "\t<tr><td>9155</td><td>0</td><td>43</td><td>0</td><td>14</td><td>10</td><td>50</td><td> 0.0</td><td>55.65</td><td>27</td><td>⋯</td><td> 89</td><td>U</td><td>F</td><td> 93000</td><td> 59280</td><td>2004-11-13</td><td>Platinum</td><td>3</td><td>NA</td><td>NA</td></tr>\n",
       "\t<tr><td>9160</td><td>0</td><td>19</td><td>1</td><td>19</td><td> 3</td><td>50</td><td>62.5</td><td>61.90</td><td>13</td><td>⋯</td><td> 89</td><td>H</td><td>M</td><td> 84000</td><td>170820</td><td>1974-03-14</td><td>Platinum</td><td>3</td><td>NA</td><td>NA</td></tr>\n",
       "\t<tr><td>9163</td><td>0</td><td>19</td><td>0</td><td> 7</td><td>10</td><td>50</td><td> 0.0</td><td>35.20</td><td>32</td><td>⋯</td><td>148</td><td>H</td><td>F</td><td>140000</td><td> 92430</td><td>2006-02-22</td><td>Platinum</td><td>2</td><td>NA</td><td>NA</td></tr>\n",
       "\t<tr><td>9170</td><td>0</td><td>33</td><td>5</td><td> 7</td><td> 2</td><td>50</td><td>40.0</td><td>34.75</td><td>31</td><td>⋯</td><td> 93</td><td>U</td><td>F</td><td>142000</td><td> 53430</td><td>2006-04-19</td><td>Platinum</td><td>2</td><td>NA</td><td>NA</td></tr>\n",
       "\t<tr><td>9175</td><td>0</td><td>22</td><td>0</td><td> 6</td><td>10</td><td>50</td><td> 0.0</td><td>62.95</td><td>40</td><td>⋯</td><td>137</td><td>H</td><td>F</td><td> 83000</td><td>443690</td><td>2002-02-23</td><td>Platinum</td><td>2</td><td>NA</td><td>NA</td></tr>\n",
       "\t<tr><td>9190</td><td>0</td><td>30</td><td>0</td><td>20</td><td> 5</td><td>55</td><td>55.0</td><td>80.20</td><td>29</td><td>⋯</td><td>150</td><td>U</td><td>M</td><td> 66000</td><td>107770</td><td>2005-10-23</td><td>Platinum</td><td>2</td><td>NA</td><td>NA</td></tr>\n",
       "</tbody>\n",
       "</table>\n"
      ],
      "text/latex": [
       "A tibble: 6 × 29\n",
       "\\begin{tabular}{lllllllllllllllllllll}\n",
       " ID & LostCustomer & regionPctCustomers & numOfTotalReturns & wksSinceLastPurch & basktPurchCount12Month & LastPurchaseAmount & AvgPurchaseAmount12 & AvgPurchaseAmountTotal & intAdExposureCount12 & ⋯ & wksSinceFirstPurch & DemHomeOwnerCode & customerGender & EstimatedIncome & regionMedHomeVal & birthDate & customerSubscrStat & techSupportEval & Review\\_Text & Title\\\\\n",
       " <dbl> & <dbl> & <dbl> & <dbl> & <dbl> & <dbl> & <dbl> & <dbl> & <dbl> & <dbl> & ⋯ & <dbl> & <chr> & <chr> & <dbl> & <dbl> & <date> & <chr> & <dbl> & <chr> & <chr>\\\\\n",
       "\\hline\n",
       "\t 9155 & 0 & 43 & 0 & 14 & 10 & 50 &  0.0 & 55.65 & 27 & ⋯ &  89 & U & F &  93000 &  59280 & 2004-11-13 & Platinum & 3 & NA & NA\\\\\n",
       "\t 9160 & 0 & 19 & 1 & 19 &  3 & 50 & 62.5 & 61.90 & 13 & ⋯ &  89 & H & M &  84000 & 170820 & 1974-03-14 & Platinum & 3 & NA & NA\\\\\n",
       "\t 9163 & 0 & 19 & 0 &  7 & 10 & 50 &  0.0 & 35.20 & 32 & ⋯ & 148 & H & F & 140000 &  92430 & 2006-02-22 & Platinum & 2 & NA & NA\\\\\n",
       "\t 9170 & 0 & 33 & 5 &  7 &  2 & 50 & 40.0 & 34.75 & 31 & ⋯ &  93 & U & F & 142000 &  53430 & 2006-04-19 & Platinum & 2 & NA & NA\\\\\n",
       "\t 9175 & 0 & 22 & 0 &  6 & 10 & 50 &  0.0 & 62.95 & 40 & ⋯ & 137 & H & F &  83000 & 443690 & 2002-02-23 & Platinum & 2 & NA & NA\\\\\n",
       "\t 9190 & 0 & 30 & 0 & 20 &  5 & 55 & 55.0 & 80.20 & 29 & ⋯ & 150 & U & M &  66000 & 107770 & 2005-10-23 & Platinum & 2 & NA & NA\\\\\n",
       "\\end{tabular}\n"
      ],
      "text/markdown": [
       "\n",
       "A tibble: 6 × 29\n",
       "\n",
       "| ID &lt;dbl&gt; | LostCustomer &lt;dbl&gt; | regionPctCustomers &lt;dbl&gt; | numOfTotalReturns &lt;dbl&gt; | wksSinceLastPurch &lt;dbl&gt; | basktPurchCount12Month &lt;dbl&gt; | LastPurchaseAmount &lt;dbl&gt; | AvgPurchaseAmount12 &lt;dbl&gt; | AvgPurchaseAmountTotal &lt;dbl&gt; | intAdExposureCount12 &lt;dbl&gt; | ⋯ ⋯ | wksSinceFirstPurch &lt;dbl&gt; | DemHomeOwnerCode &lt;chr&gt; | customerGender &lt;chr&gt; | EstimatedIncome &lt;dbl&gt; | regionMedHomeVal &lt;dbl&gt; | birthDate &lt;date&gt; | customerSubscrStat &lt;chr&gt; | techSupportEval &lt;dbl&gt; | Review_Text &lt;chr&gt; | Title &lt;chr&gt; |\n",
       "|---|---|---|---|---|---|---|---|---|---|---|---|---|---|---|---|---|---|---|---|---|\n",
       "| 9155 | 0 | 43 | 0 | 14 | 10 | 50 |  0.0 | 55.65 | 27 | ⋯ |  89 | U | F |  93000 |  59280 | 2004-11-13 | Platinum | 3 | NA | NA |\n",
       "| 9160 | 0 | 19 | 1 | 19 |  3 | 50 | 62.5 | 61.90 | 13 | ⋯ |  89 | H | M |  84000 | 170820 | 1974-03-14 | Platinum | 3 | NA | NA |\n",
       "| 9163 | 0 | 19 | 0 |  7 | 10 | 50 |  0.0 | 35.20 | 32 | ⋯ | 148 | H | F | 140000 |  92430 | 2006-02-22 | Platinum | 2 | NA | NA |\n",
       "| 9170 | 0 | 33 | 5 |  7 |  2 | 50 | 40.0 | 34.75 | 31 | ⋯ |  93 | U | F | 142000 |  53430 | 2006-04-19 | Platinum | 2 | NA | NA |\n",
       "| 9175 | 0 | 22 | 0 |  6 | 10 | 50 |  0.0 | 62.95 | 40 | ⋯ | 137 | H | F |  83000 | 443690 | 2002-02-23 | Platinum | 2 | NA | NA |\n",
       "| 9190 | 0 | 30 | 0 | 20 |  5 | 55 | 55.0 | 80.20 | 29 | ⋯ | 150 | U | M |  66000 | 107770 | 2005-10-23 | Platinum | 2 | NA | NA |\n",
       "\n"
      ],
      "text/plain": [
       "  ID   LostCustomer regionPctCustomers numOfTotalReturns wksSinceLastPurch\n",
       "1 9155 0            43                 0                 14               \n",
       "2 9160 0            19                 1                 19               \n",
       "3 9163 0            19                 0                  7               \n",
       "4 9170 0            33                 5                  7               \n",
       "5 9175 0            22                 0                  6               \n",
       "6 9190 0            30                 0                 20               \n",
       "  basktPurchCount12Month LastPurchaseAmount AvgPurchaseAmount12\n",
       "1 10                     50                  0.0               \n",
       "2  3                     50                 62.5               \n",
       "3 10                     50                  0.0               \n",
       "4  2                     50                 40.0               \n",
       "5 10                     50                  0.0               \n",
       "6  5                     55                 55.0               \n",
       "  AvgPurchaseAmountTotal intAdExposureCount12 ⋯ wksSinceFirstPurch\n",
       "1 55.65                  27                   ⋯  89               \n",
       "2 61.90                  13                   ⋯  89               \n",
       "3 35.20                  32                   ⋯ 148               \n",
       "4 34.75                  31                   ⋯  93               \n",
       "5 62.95                  40                   ⋯ 137               \n",
       "6 80.20                  29                   ⋯ 150               \n",
       "  DemHomeOwnerCode customerGender EstimatedIncome regionMedHomeVal birthDate \n",
       "1 U                F               93000           59280           2004-11-13\n",
       "2 H                M               84000          170820           1974-03-14\n",
       "3 H                F              140000           92430           2006-02-22\n",
       "4 U                F              142000           53430           2006-04-19\n",
       "5 H                F               83000          443690           2002-02-23\n",
       "6 U                M               66000          107770           2005-10-23\n",
       "  customerSubscrStat techSupportEval Review_Text Title\n",
       "1 Platinum           3               NA          NA   \n",
       "2 Platinum           3               NA          NA   \n",
       "3 Platinum           2               NA          NA   \n",
       "4 Platinum           2               NA          NA   \n",
       "5 Platinum           2               NA          NA   \n",
       "6 Platinum           2               NA          NA   "
      ]
     },
     "metadata": {},
     "output_type": "display_data"
    }
   ],
   "source": [
    "df <- cust_churn_df %>%\n",
    "  inner_join(customers_df, by = \"custId\") %>%\n",
    "  select(-custId) %>%\n",
    "  inner_join(subscriptions_df, by = \"customerSubscrCode\") %>%\n",
    "  select(-customerSubscrCode) %>%\n",
    "  inner_join(techsupportevals_df, by = \"ID\") %>%\n",
    "  left_join(reviews_df, by = \"reviewId\") %>%\n",
    "  select(-reviewId)\n",
    "\n",
    "head(df)"
   ]
  },
  {
   "cell_type": "code",
   "execution_count": 5,
   "metadata": {
    "vscode": {
     "languageId": "r"
    }
   },
   "outputs": [],
   "source": [
    "save(df, file = \"01_Combining_Data.RData\")"
   ]
  }
 ],
 "metadata": {
  "kernelspec": {
   "display_name": "R",
   "language": "R",
   "name": "ir"
  },
  "language_info": {
   "codemirror_mode": "r",
   "file_extension": ".r",
   "mimetype": "text/x-r-source",
   "name": "R",
   "pygments_lexer": "r",
   "version": "4.4.2"
  }
 },
 "nbformat": 4,
 "nbformat_minor": 2
}
