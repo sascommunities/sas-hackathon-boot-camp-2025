{
 "cells": [
  {
   "cell_type": "markdown",
   "metadata": {},
   "source": [
    "# Transforming and Enriching Data"
   ]
  },
  {
   "cell_type": "code",
   "execution_count": 1,
   "metadata": {
    "vscode": {
     "languageId": "r"
    }
   },
   "outputs": [],
   "source": [
    "knitr::opts_chunk$set(warning = FALSE, message = FALSE) "
   ]
  },
  {
   "cell_type": "markdown",
   "metadata": {},
   "source": [
    "First, install the required R packages if not done already. "
   ]
  },
  {
   "cell_type": "markdown",
   "metadata": {},
   "source": [
    "## Load necessary packages"
   ]
  },
  {
   "cell_type": "code",
   "execution_count": 3,
   "metadata": {
    "vscode": {
     "languageId": "r"
    }
   },
   "outputs": [],
   "source": [
    "library(knitr)\n",
    "library(dplyr)\n",
    "library(rmarkdown)"
   ]
  },
  {
   "cell_type": "markdown",
   "metadata": {},
   "source": [
    "## Run the data access notebooks"
   ]
  },
  {
   "cell_type": "code",
   "execution_count": 4,
   "metadata": {
    "vscode": {
     "languageId": "r"
    }
   },
   "outputs": [],
   "source": [
    "load(\"01_Accessing_and_Reading_Local_Files.RData\")\n",
    "load(\"02_Accessing_and_Reading_Data_Lake_Files.RData\")\n",
    "load(\"03_Accessing_and_Reading_Database-Data_Lakehouse_Data.RData\")\n"
   ]
  },
  {
   "cell_type": "markdown",
   "metadata": {},
   "source": [
    "## Run the data joining notebook"
   ]
  },
  {
   "cell_type": "code",
   "execution_count": 5,
   "metadata": {
    "vscode": {
     "languageId": "r"
    }
   },
   "outputs": [],
   "source": [
    "load(\"01_Combining_Data.RData\")"
   ]
  },
  {
   "cell_type": "markdown",
   "metadata": {},
   "source": [
    "## Feature Engineering\n",
    "\n",
    "### Replace codes with labels for demHomeOwner"
   ]
  },
  {
   "cell_type": "code",
   "execution_count": 6,
   "metadata": {
    "vscode": {
     "languageId": "r"
    }
   },
   "outputs": [
    {
     "data": {
      "text/html": [
       "<style>\n",
       ".list-inline {list-style: none; margin:0; padding: 0}\n",
       ".list-inline>li {display: inline-block}\n",
       ".list-inline>li:not(:last-child)::after {content: \"\\00b7\"; padding: 0 .5ex}\n",
       "</style>\n",
       "<ol class=list-inline><li>'Unknown'</li><li>'HomeOwner'</li><li>'HomeOwner'</li><li>'Unknown'</li><li>'HomeOwner'</li><li>'Unknown'</li></ol>\n"
      ],
      "text/latex": [
       "\\begin{enumerate*}\n",
       "\\item 'Unknown'\n",
       "\\item 'HomeOwner'\n",
       "\\item 'HomeOwner'\n",
       "\\item 'Unknown'\n",
       "\\item 'HomeOwner'\n",
       "\\item 'Unknown'\n",
       "\\end{enumerate*}\n"
      ],
      "text/markdown": [
       "1. 'Unknown'\n",
       "2. 'HomeOwner'\n",
       "3. 'HomeOwner'\n",
       "4. 'Unknown'\n",
       "5. 'HomeOwner'\n",
       "6. 'Unknown'\n",
       "\n",
       "\n"
      ],
      "text/plain": [
       "[1] \"Unknown\"   \"HomeOwner\" \"HomeOwner\" \"Unknown\"   \"HomeOwner\" \"Unknown\"  "
      ]
     },
     "metadata": {},
     "output_type": "display_data"
    }
   ],
   "source": [
    "df <- df %>%\n",
    "  mutate(demHomeOwner = recode(DemHomeOwnerCode, 'U' = 'Unknown', 'H' = 'HomeOwner')) %>%\n",
    "  select(-DemHomeOwnerCode)  # Drop the original column\n",
    "\n",
    "head(df$demHomeOwner)  # Display the first few values"
   ]
  },
  {
   "cell_type": "markdown",
   "metadata": {},
   "source": [
    "### Compute customer age"
   ]
  },
  {
   "cell_type": "code",
   "execution_count": 7,
   "metadata": {
    "vscode": {
     "languageId": "r"
    }
   },
   "outputs": [
    {
     "data": {
      "text/html": [
       "<style>\n",
       ".list-inline {list-style: none; margin:0; padding: 0}\n",
       ".list-inline>li {display: inline-block}\n",
       ".list-inline>li:not(:last-child)::after {content: \"\\00b7\"; padding: 0 .5ex}\n",
       "</style>\n",
       "<ol class=list-inline><li>20</li><li>51</li><li>19</li><li>19</li><li>23</li><li>19</li></ol>\n"
      ],
      "text/latex": [
       "\\begin{enumerate*}\n",
       "\\item 20\n",
       "\\item 51\n",
       "\\item 19\n",
       "\\item 19\n",
       "\\item 23\n",
       "\\item 19\n",
       "\\end{enumerate*}\n"
      ],
      "text/markdown": [
       "1. 20\n",
       "2. 51\n",
       "3. 19\n",
       "4. 19\n",
       "5. 23\n",
       "6. 19\n",
       "\n",
       "\n"
      ],
      "text/plain": [
       "[1] 20 51 19 19 23 19"
      ]
     },
     "metadata": {},
     "output_type": "display_data"
    }
   ],
   "source": [
    "df <- df %>%\n",
    "  mutate(customerAge = as.numeric(difftime(Sys.Date(), as.Date(birthDate), units = \"days\")) / 365.25) %>%\n",
    "  mutate(customerAge = ifelse(!is.na(customerAge), as.integer(customerAge), NA))  # Replace NAs with NA\n",
    "\n",
    "head(df$customerAge)  # Display the first few values"
   ]
  },
  {
   "cell_type": "markdown",
   "metadata": {},
   "source": [
    "### Compute average purchase amount per ad"
   ]
  },
  {
   "cell_type": "code",
   "execution_count": 8,
   "metadata": {
    "vscode": {
     "languageId": "r"
    }
   },
   "outputs": [
    {
     "data": {
      "text/html": [
       "<style>\n",
       ".list-inline {list-style: none; margin:0; padding: 0}\n",
       ".list-inline>li {display: inline-block}\n",
       ".list-inline>li:not(:last-child)::after {content: \"\\00b7\"; padding: 0 .5ex}\n",
       "</style>\n",
       "<ol class=list-inline><li>0</li><li>4.80769230769231</li><li>0</li><li>1.29032258064516</li><li>0</li><li>1.89655172413793</li></ol>\n"
      ],
      "text/latex": [
       "\\begin{enumerate*}\n",
       "\\item 0\n",
       "\\item 4.80769230769231\n",
       "\\item 0\n",
       "\\item 1.29032258064516\n",
       "\\item 0\n",
       "\\item 1.89655172413793\n",
       "\\end{enumerate*}\n"
      ],
      "text/markdown": [
       "1. 0\n",
       "2. 4.80769230769231\n",
       "3. 0\n",
       "4. 1.29032258064516\n",
       "5. 0\n",
       "6. 1.89655172413793\n",
       "\n",
       "\n"
      ],
      "text/plain": [
       "[1] 0.000000 4.807692 0.000000 1.290323 0.000000 1.896552"
      ]
     },
     "metadata": {},
     "output_type": "display_data"
    }
   ],
   "source": [
    "df <- df %>%\n",
    "  mutate(AvgPurchasePerAd = AvgPurchaseAmount12 / intAdExposureCount12)\n",
    "\n",
    "head(df$AvgPurchasePerAd)  # Display the first few values"
   ]
  },
  {
   "cell_type": "code",
   "execution_count": 9,
   "metadata": {
    "vscode": {
     "languageId": "r"
    }
   },
   "outputs": [],
   "source": [
    "save(df, file = \"02_Transforming_and_Enriching_Data.RData\")"
   ]
  }
 ],
 "metadata": {
  "kernelspec": {
   "display_name": "R",
   "language": "R",
   "name": "ir"
  },
  "language_info": {
   "codemirror_mode": "r",
   "file_extension": ".r",
   "mimetype": "text/x-r-source",
   "name": "R",
   "pygments_lexer": "r",
   "version": "4.4.2"
  }
 },
 "nbformat": 4,
 "nbformat_minor": 2
}
