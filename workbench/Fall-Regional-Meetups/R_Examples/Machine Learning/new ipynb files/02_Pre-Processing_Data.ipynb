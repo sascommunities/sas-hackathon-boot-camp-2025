{
 "cells": [
  {
   "cell_type": "markdown",
   "metadata": {},
   "source": [
    "# Pre-Processing Data"
   ]
  },
  {
   "cell_type": "markdown",
   "metadata": {},
   "source": [
    "First, install the required R packages if not done already. See [Installing Required R Packages.](../00_Installing_Required_R_Packages.ipynb)\n",
    "\n",
    "This notebook is meant to be viewed after the Data Exploration notebook and is a continuation of said exploration. In this notebook we will address some of the issues we've identified in our data exploration for model development and explore the ways we could address said issues.\n",
    "\n",
    "We will perform the following tasks:\n",
    "\n",
    "* Removing columns with large missingness\n",
    "* Data Partitioning\n",
    "* Imputation\n",
    "* Rare Event Handling\n",
    "* Variable Encoding\n",
    "* Variable Scaling\n",
    "* Feature Creation\n",
    "* Feature Selection"
   ]
  },
  {
   "cell_type": "markdown",
   "metadata": {},
   "source": [
    "## Loading Libraries\n",
    "\n",
    "In the next section we will load the necessary libraries and dataset that will be used throughout this project."
   ]
  },
  {
   "cell_type": "code",
   "execution_count": 1,
   "metadata": {
    "vscode": {
     "languageId": "r"
    }
   },
   "outputs": [
    {
     "name": "stderr",
     "output_type": "stream",
     "text": [
      "── \u001b[1mAttaching core tidyverse packages\u001b[22m ──────────────────────── tidyverse 2.0.0 ──\n",
      "\u001b[32m✔\u001b[39m \u001b[34mdplyr    \u001b[39m 1.1.4     \u001b[32m✔\u001b[39m \u001b[34mreadr    \u001b[39m 2.1.5\n",
      "\u001b[32m✔\u001b[39m \u001b[34mforcats  \u001b[39m 1.0.0     \u001b[32m✔\u001b[39m \u001b[34mstringr  \u001b[39m 1.5.1\n",
      "\u001b[32m✔\u001b[39m \u001b[34mggplot2  \u001b[39m 3.5.2     \u001b[32m✔\u001b[39m \u001b[34mtibble   \u001b[39m 3.2.1\n",
      "\u001b[32m✔\u001b[39m \u001b[34mlubridate\u001b[39m 1.9.4     \u001b[32m✔\u001b[39m \u001b[34mtidyr    \u001b[39m 1.3.1\n",
      "\u001b[32m✔\u001b[39m \u001b[34mpurrr    \u001b[39m 1.0.4     \n",
      "── \u001b[1mConflicts\u001b[22m ────────────────────────────────────────── tidyverse_conflicts() ──\n",
      "\u001b[31m✖\u001b[39m \u001b[34mdplyr\u001b[39m::\u001b[32mfilter()\u001b[39m masks \u001b[34mstats\u001b[39m::filter()\n",
      "\u001b[31m✖\u001b[39m \u001b[34mdplyr\u001b[39m::\u001b[32mlag()\u001b[39m    masks \u001b[34mstats\u001b[39m::lag()\n",
      "\u001b[36mℹ\u001b[39m Use the conflicted package (\u001b[3m\u001b[34m<http://conflicted.r-lib.org/>\u001b[39m\u001b[23m) to force all conflicts to become errors\n",
      "Loading required package: lattice\n",
      "\n",
      "\n",
      "Attaching package: ‘caret’\n",
      "\n",
      "\n",
      "The following object is masked from ‘package:purrr’:\n",
      "\n",
      "    lift\n",
      "\n",
      "\n",
      "\n",
      "Attaching package: ‘gridExtra’\n",
      "\n",
      "\n",
      "The following object is masked from ‘package:dplyr’:\n",
      "\n",
      "    combine\n",
      "\n",
      "\n"
     ]
    }
   ],
   "source": [
    "library(tidyverse)\n",
    "library(caret)\n",
    "library(caTools)\n",
    "library(gridExtra)\n",
    "library(rpart)\n",
    "library(readr)"
   ]
  },
  {
   "cell_type": "code",
   "execution_count": 2,
   "metadata": {
    "vscode": {
     "languageId": "r"
    }
   },
   "outputs": [],
   "source": [
    "# Imports the dataset and relevels factors\n",
    "\n",
    "churn_df <- read.csv(\"../../data/output/customer_churn_abt.csv\")\n",
    "churn_df$customerGender <- relevel(as.factor(churn_df$customerGender), ref = \"U\")\n",
    "churn_df$demHomeOwner <- relevel(as.factor(churn_df$demHomeOwner), ref = \"Unknown\")\n",
    "churn_df$customerSubscrStat <- relevel(as.factor(churn_df$customerSubscrStat), ref = \"Member\")"
   ]
  },
  {
   "cell_type": "markdown",
   "metadata": {},
   "source": [
    "### Removing Columns\n",
    "\n",
    "Removes strongly correlated columns, as well as columns involved in computing composite columns."
   ]
  },
  {
   "cell_type": "code",
   "execution_count": 3,
   "metadata": {
    "vscode": {
     "languageId": "r"
    }
   },
   "outputs": [],
   "source": [
    "#Drop columns in place\n",
    "\n",
    "churn_df <- churn_df %>% select(-avgDiscountValue12, -intAdExposureCountAll)"
   ]
  },
  {
   "cell_type": "code",
   "execution_count": 4,
   "metadata": {
    "vscode": {
     "languageId": "r"
    }
   },
   "outputs": [],
   "source": [
    "# Define threshold (50% of total rows)\n",
    "\n",
    "threshold <- 0.5 * nrow(churn_df)\n",
    "\n",
    "# Drop columns with more than 50% missing values\n",
    "\n",
    "churn_df <- churn_df %>% \n",
    "  select(where(~ sum(is.na(.)) < threshold))"
   ]
  },
  {
   "cell_type": "markdown",
   "metadata": {},
   "source": [
    "### Column Names\n",
    "\n",
    "Over the next few code cells new variables will be created to quickly reference columns belonging to a given group based on type, missingness, etc."
   ]
  },
  {
   "cell_type": "code",
   "execution_count": 5,
   "metadata": {
    "vscode": {
     "languageId": "r"
    }
   },
   "outputs": [],
   "source": [
    "# Creates lists representing the input variables and target\n",
    "\n",
    "target <- \"LostCustomer\"\n",
    "ID <- \"ID\"\n",
    "inputs <- setdiff(names(churn_df), c(target, ID))\n",
    "numerics <- setdiff(names(churn_df)[sapply(churn_df, is.numeric)], c(target, ID))\n",
    "categoricals <- names(churn_df)[sapply(churn_df, is.character) | sapply(churn_df, is.factor)]"
   ]
  },
  {
   "cell_type": "code",
   "execution_count": 6,
   "metadata": {
    "vscode": {
     "languageId": "r"
    }
   },
   "outputs": [],
   "source": [
    "# Compute skewness and kurtosis for all numeric variables\n",
    "\n",
    "numeric_cols <- churn_df[,numerics]\n",
    "skewness <- sapply(numeric_cols, function(x) psych::skew(x))\n",
    "kurtosis <- sapply(numeric_cols, function(x) psych::kurtosi(x))\n",
    "\n",
    "#Selecting highly non-normal columns\n",
    "\n",
    "high_skewness <- skewness[abs(skewness) > 3]\n",
    "high_kurtosis <- kurtosis[abs(kurtosis) > 3]\n",
    "\n",
    "# Creates list of skewed columns\n",
    "\n",
    "skewed_cols <- intersect(names(high_skewness), names(high_kurtosis))\n"
   ]
  },
  {
   "cell_type": "code",
   "execution_count": 7,
   "metadata": {
    "vscode": {
     "languageId": "r"
    }
   },
   "outputs": [],
   "source": [
    "# Displays the proportion of missing values\n",
    "\n",
    "missing <- colSums(is.na(churn_df))\n",
    "missing <- missing[missing > 0] / nrow(churn_df)\n",
    "missing_list <- names(missing)"
   ]
  },
  {
   "cell_type": "markdown",
   "metadata": {},
   "source": [
    "### Data Partitioning\n",
    "\n",
    "Partitions data into stratified training and testing partitions using an 80/20 split."
   ]
  },
  {
   "cell_type": "code",
   "execution_count": 8,
   "metadata": {
    "vscode": {
     "languageId": "r"
    }
   },
   "outputs": [],
   "source": [
    "# Split the data into training and testing sets (80% training, 20% testing)\n",
    "\n",
    "set.seed(45) \n",
    "split <- sample.split(churn_df[[target]], SplitRatio = 0.8)\n",
    "\n",
    "trainID <- churn_df[split, ID]\n",
    "testID <- churn_df[!split, ID]\n",
    "X_train <- churn_df[split, inputs]\n",
    "X_test <- churn_df[!split, inputs]\n",
    "y_train <- churn_df[split, target]\n",
    "y_test <- churn_df[!split, target]\n",
    "\n"
   ]
  },
  {
   "cell_type": "code",
   "execution_count": 9,
   "metadata": {
    "vscode": {
     "languageId": "r"
    }
   },
   "outputs": [
    {
     "name": "stdout",
     "output_type": "stream",
     "text": [
      "The training partition inputs have dimensions: 4000 by 24 and the targets have a length of 4000 \n",
      "The validation partition inputs have dimensions: 1000 by 24 and the targets have a length of 1000 \n"
     ]
    }
   ],
   "source": [
    "# For training data\n",
    "\n",
    "cat(\"The training partition inputs have dimensions:\", nrow(X_train), \"by\", ncol(X_train), \"and the targets have a length of\", length(y_train), \"\\n\")\n",
    "\n",
    "# For testing/validation data\n",
    "\n",
    "cat(\"The validation partition inputs have dimensions:\", nrow(X_test), \"by\", ncol(X_test),\"and the targets have a length of\", length(y_test), \"\\n\")\n"
   ]
  },
  {
   "cell_type": "code",
   "execution_count": 10,
   "metadata": {
    "vscode": {
     "languageId": "r"
    }
   },
   "outputs": [
    {
     "name": "stdout",
     "output_type": "stream",
     "text": [
      "The difference in the target distribution proportion between both partitions is: \n",
      "\n",
      "y_train\n",
      "       0        1 \n",
      " 0.00025 -0.00025 \n"
     ]
    }
   ],
   "source": [
    "# Verifies that target distributions are close to one another\n",
    "\n",
    "y_train_dist <- prop.table(table(y_train))\n",
    "y_test_dist <- prop.table(table(y_test))\n",
    "\n",
    "cat(\"The difference in the target distribution proportion between both partitions is:\", \"\\n\\n\")\n",
    "difference <- y_train_dist - y_test_dist\n",
    "print(difference)"
   ]
  },
  {
   "cell_type": "markdown",
   "metadata": {},
   "source": [
    "### Imputation\n",
    "\n",
    "Imputes missing values with the median given the distribution of the columns with missingness."
   ]
  },
  {
   "cell_type": "code",
   "execution_count": 11,
   "metadata": {
    "vscode": {
     "languageId": "r"
    }
   },
   "outputs": [],
   "source": [
    "# Creates, fits, and applies a simple imputer \n",
    "\n",
    "preprocessor <- preProcess(X_train[, numerics], method = \"medianImpute\")\n",
    "X_train[, numerics] <- predict(preprocessor, X_train[, numerics])"
   ]
  },
  {
   "cell_type": "code",
   "execution_count": 12,
   "metadata": {
    "vscode": {
     "languageId": "r"
    }
   },
   "outputs": [],
   "source": [
    "# Imputes missing value in the testing partition \n",
    "\n",
    "X_test[, numerics] <- predict(preprocessor, X_test[, numerics])"
   ]
  },
  {
   "cell_type": "code",
   "execution_count": 13,
   "metadata": {
    "vscode": {
     "languageId": "r"
    }
   },
   "outputs": [
    {
     "data": {
      "text/html": [
       "<table class=\"dataframe\">\n",
       "<caption>A data.frame: 21 × 1</caption>\n",
       "<thead>\n",
       "\t<tr><th></th><th scope=col>preprocessor.median</th></tr>\n",
       "\t<tr><th></th><th scope=col>&lt;dbl&gt;</th></tr>\n",
       "</thead>\n",
       "<tbody>\n",
       "\t<tr><th scope=row>regionPctCustomers</th><td>   31.00</td></tr>\n",
       "\t<tr><th scope=row>numOfTotalReturns</th><td>    1.00</td></tr>\n",
       "\t<tr><th scope=row>wksSinceLastPurch</th><td>   18.00</td></tr>\n",
       "\t<tr><th scope=row>basktPurchCount12Month</th><td>    3.00</td></tr>\n",
       "\t<tr><th scope=row>LastPurchaseAmount</th><td>   75.00</td></tr>\n",
       "\t<tr><th scope=row>AvgPurchaseAmount12</th><td>   75.00</td></tr>\n",
       "\t<tr><th scope=row>AvgPurchaseAmountTotal</th><td>   62.00</td></tr>\n",
       "\t<tr><th scope=row>intAdExposureCount12</th><td>   13.00</td></tr>\n",
       "\t<tr><th scope=row>intAdExposureCount36</th><td>   31.00</td></tr>\n",
       "\t<tr><th scope=row>socialMediaAdCount12</th><td>    6.00</td></tr>\n",
       "\t<tr><th scope=row>socialMediaAdCount36</th><td>   12.00</td></tr>\n",
       "\t<tr><th scope=row>socialMediaAdCountAll</th><td>   18.00</td></tr>\n",
       "\t<tr><th scope=row>totalNumProdPurchased</th><td>    7.00</td></tr>\n",
       "\t<tr><th scope=row>custInitiatedContacts</th><td>    2.00</td></tr>\n",
       "\t<tr><th scope=row>customersales</th><td>  703.54</td></tr>\n",
       "\t<tr><th scope=row>wksSinceFirstPurch</th><td>   87.00</td></tr>\n",
       "\t<tr><th scope=row>EstimatedIncome</th><td>84000.00</td></tr>\n",
       "\t<tr><th scope=row>regionMedHomeVal</th><td>93080.00</td></tr>\n",
       "\t<tr><th scope=row>techSupportEval</th><td>    4.00</td></tr>\n",
       "\t<tr><th scope=row>customerAge</th><td>   26.00</td></tr>\n",
       "\t<tr><th scope=row>AvgPurchasePerAd</th><td>    6.25</td></tr>\n",
       "</tbody>\n",
       "</table>\n"
      ],
      "text/latex": [
       "A data.frame: 21 × 1\n",
       "\\begin{tabular}{r|l}\n",
       "  & preprocessor.median\\\\\n",
       "  & <dbl>\\\\\n",
       "\\hline\n",
       "\tregionPctCustomers &    31.00\\\\\n",
       "\tnumOfTotalReturns &     1.00\\\\\n",
       "\twksSinceLastPurch &    18.00\\\\\n",
       "\tbasktPurchCount12Month &     3.00\\\\\n",
       "\tLastPurchaseAmount &    75.00\\\\\n",
       "\tAvgPurchaseAmount12 &    75.00\\\\\n",
       "\tAvgPurchaseAmountTotal &    62.00\\\\\n",
       "\tintAdExposureCount12 &    13.00\\\\\n",
       "\tintAdExposureCount36 &    31.00\\\\\n",
       "\tsocialMediaAdCount12 &     6.00\\\\\n",
       "\tsocialMediaAdCount36 &    12.00\\\\\n",
       "\tsocialMediaAdCountAll &    18.00\\\\\n",
       "\ttotalNumProdPurchased &     7.00\\\\\n",
       "\tcustInitiatedContacts &     2.00\\\\\n",
       "\tcustomersales &   703.54\\\\\n",
       "\twksSinceFirstPurch &    87.00\\\\\n",
       "\tEstimatedIncome & 84000.00\\\\\n",
       "\tregionMedHomeVal & 93080.00\\\\\n",
       "\ttechSupportEval &     4.00\\\\\n",
       "\tcustomerAge &    26.00\\\\\n",
       "\tAvgPurchasePerAd &     6.25\\\\\n",
       "\\end{tabular}\n"
      ],
      "text/markdown": [
       "\n",
       "A data.frame: 21 × 1\n",
       "\n",
       "| <!--/--> | preprocessor.median &lt;dbl&gt; |\n",
       "|---|---|\n",
       "| regionPctCustomers |    31.00 |\n",
       "| numOfTotalReturns |     1.00 |\n",
       "| wksSinceLastPurch |    18.00 |\n",
       "| basktPurchCount12Month |     3.00 |\n",
       "| LastPurchaseAmount |    75.00 |\n",
       "| AvgPurchaseAmount12 |    75.00 |\n",
       "| AvgPurchaseAmountTotal |    62.00 |\n",
       "| intAdExposureCount12 |    13.00 |\n",
       "| intAdExposureCount36 |    31.00 |\n",
       "| socialMediaAdCount12 |     6.00 |\n",
       "| socialMediaAdCount36 |    12.00 |\n",
       "| socialMediaAdCountAll |    18.00 |\n",
       "| totalNumProdPurchased |     7.00 |\n",
       "| custInitiatedContacts |     2.00 |\n",
       "| customersales |   703.54 |\n",
       "| wksSinceFirstPurch |    87.00 |\n",
       "| EstimatedIncome | 84000.00 |\n",
       "| regionMedHomeVal | 93080.00 |\n",
       "| techSupportEval |     4.00 |\n",
       "| customerAge |    26.00 |\n",
       "| AvgPurchasePerAd |     6.25 |\n",
       "\n"
      ],
      "text/plain": [
       "                       preprocessor.median\n",
       "regionPctCustomers        31.00           \n",
       "numOfTotalReturns          1.00           \n",
       "wksSinceLastPurch         18.00           \n",
       "basktPurchCount12Month     3.00           \n",
       "LastPurchaseAmount        75.00           \n",
       "AvgPurchaseAmount12       75.00           \n",
       "AvgPurchaseAmountTotal    62.00           \n",
       "intAdExposureCount12      13.00           \n",
       "intAdExposureCount36      31.00           \n",
       "socialMediaAdCount12       6.00           \n",
       "socialMediaAdCount36      12.00           \n",
       "socialMediaAdCountAll     18.00           \n",
       "totalNumProdPurchased      7.00           \n",
       "custInitiatedContacts      2.00           \n",
       "customersales            703.54           \n",
       "wksSinceFirstPurch        87.00           \n",
       "EstimatedIncome        84000.00           \n",
       "regionMedHomeVal       93080.00           \n",
       "techSupportEval            4.00           \n",
       "customerAge               26.00           \n",
       "AvgPurchasePerAd           6.25           "
      ]
     },
     "metadata": {},
     "output_type": "display_data"
    }
   ],
   "source": [
    "# Displays the number of missing values in all the listed columns\n",
    "\n",
    "data.frame(preprocessor$median) "
   ]
  },
  {
   "cell_type": "markdown",
   "metadata": {},
   "source": [
    "### Addressing Rare Observations\n",
    "\n",
    "Addresses outliers in columns with high skewness and kurtosis."
   ]
  },
  {
   "cell_type": "code",
   "execution_count": 14,
   "metadata": {
    "vscode": {
     "languageId": "r"
    }
   },
   "outputs": [],
   "source": [
    "# Applies a log transformation to the skewed columns\n",
    "\n",
    "log_cols <- paste0(\"LOG\", skewed_cols)\n",
    "X_train[, log_cols] <- log1p(X_train[, skewed_cols])\n",
    "\n",
    "# Applies log transformation to the validation partition\n",
    "\n",
    "X_test[, log_cols] <- log1p(X_test[, skewed_cols])"
   ]
  },
  {
   "cell_type": "code",
   "execution_count": 15,
   "metadata": {
    "vscode": {
     "languageId": "r"
    }
   },
   "outputs": [
    {
     "name": "stdout",
     "output_type": "stream",
     "text": [
      "----------NEW SKEWNESS----------\n",
      "\n",
      "    LOGLastPurchaseAmount    LOGAvgPurchaseAmount12 LOGAvgPurchaseAmountTotal \n",
      "               -2.2783674                -2.9286599                 0.5378101 \n",
      "         LOGcustomersales       LOGAvgPurchasePerAd \n",
      "                1.0741354                -0.6640926 \n",
      "\n",
      "----------NEW KURTOSIS----------\n",
      "\n",
      "    LOGLastPurchaseAmount    LOGAvgPurchaseAmount12 LOGAvgPurchaseAmountTotal \n",
      "                14.672760                 12.745609                  2.304848 \n",
      "         LOGcustomersales       LOGAvgPurchasePerAd \n",
      "                 4.050043                  1.641035 \n"
     ]
    }
   ],
   "source": [
    "cat(\"----------NEW SKEWNESS----------\\n\\n\")\n",
    "print(sapply(X_train[log_cols], psych::skew))\n",
    "cat(\"\\n\")\n",
    "\n",
    "cat(\"----------NEW KURTOSIS----------\\n\\n\")\n",
    "print(sapply(X_train[log_cols], psych::kurtosi))"
   ]
  },
  {
   "cell_type": "code",
   "execution_count": 16,
   "metadata": {
    "vscode": {
     "languageId": "r"
    }
   },
   "outputs": [],
   "source": [
    "# Defines a function to compare the distributions before and after they are log transformed\n",
    "\n",
    "hist_compare <- function(data, before_cols, after_cols, fig_per_row = 2) {\n",
    "  if (length(before_cols) != length(after_cols)) {\n",
    "    stop(sprintf(\"The length of the column lists are of different dimensions. cols1:%d, cols2:%d\", \n",
    "                 length(before_cols), length(after_cols)))\n",
    "  }\n",
    "\n",
    "  plots <- list()\n",
    "\n",
    "  for (i in seq_along(before_cols)) {\n",
    "    # Before plot\n",
    "    p_before <- ggplot(data, aes(x = .data[[before_cols[i]]])) +\n",
    "      geom_density(color = \"blue\", fill = \"blue\", alpha = 0.3) +\n",
    "      ggtitle(paste(before_cols[i], \"Density Plot\")) +\n",
    "      theme_classic(base_size = 6) +\n",
    "      theme(plot.title = element_text(hjust = 0.5),\n",
    "            axis.title.x = element_blank())\n",
    "\n",
    "    # After plot\n",
    "    p_after <- ggplot(data, aes(x = .data[[after_cols[i]]])) +\n",
    "      geom_density(color = \"orange\", fill = \"orange\", alpha = 0.3) +\n",
    "      ggtitle(paste(after_cols[i], \"Density Plot\")) +\n",
    "      theme_classic(base_size = 6) +\n",
    "      theme(plot.title = element_text(hjust = 0.5),\n",
    "            axis.title.x = element_blank())\n",
    "\n",
    "    plots <- append(plots, list(p_before, p_after))\n",
    "  }\n",
    "\n",
    "  # Plot layout\n",
    "  n_plots <- length(plots)\n",
    "  ncols <- fig_per_row\n",
    "  nrows <- ceiling(n_plots / ncols)\n",
    "\n",
    "  grid.arrange(grobs = plots, ncol = ncols, nrow = nrows)\n",
    "}\n"
   ]
  },
  {
   "cell_type": "code",
   "execution_count": 17,
   "metadata": {
    "vscode": {
     "languageId": "r"
    }
   },
   "outputs": [
    {
     "data": {
      "image/png": "[encoded data removed]",
      "text/plain": [
       "plot without title"
      ]
     },
     "metadata": {
      "image/png": {
       "height": 420,
       "width": 420
      }
     },
     "output_type": "display_data"
    }
   ],
   "source": [
    "# Plots the difference between the distribution of the variables pre and post log transformation \n",
    "\n",
    "hist_compare(X_train, skewed_cols, log_cols)"
   ]
  },
  {
   "cell_type": "code",
   "execution_count": 18,
   "metadata": {
    "vscode": {
     "languageId": "r"
    }
   },
   "outputs": [],
   "source": [
    "# Updates the input list to include only log transformed columns\n",
    "\n",
    "inputs <- c(setdiff(inputs, skewed_cols), log_cols)\n",
    "numerics <- c(setdiff(numerics, skewed_cols), log_cols)\n"
   ]
  },
  {
   "cell_type": "markdown",
   "metadata": {},
   "source": [
    "### One-Hot Encoding\n",
    "One-Hot encodes the categorical column values."
   ]
  },
  {
   "cell_type": "code",
   "execution_count": 19,
   "metadata": {
    "vscode": {
     "languageId": "r"
    }
   },
   "outputs": [],
   "source": [
    "# Fits a one hot encoder using the categorical columns\n",
    "ohe <- dummyVars(~ ., data = X_train[, categoricals], fullRank = TRUE)\n",
    "\n",
    "# Transforms both partitions\n",
    "\n",
    "ohe_train <- predict(ohe, newdata = X_train[, categoricals])\n",
    "ohe_test <- predict(ohe, newdata = X_test[, categoricals])\n",
    "\n",
    "ohe_train <- as.data.frame(ohe_train)\n",
    "ohe_test <- as.data.frame(ohe_test)\n",
    "\n",
    "# Adds the new features to the partitions\n",
    "\n",
    "ohe_features <- colnames(ohe_train)\n",
    "X_train[ohe_features] <- ohe_train\n",
    "X_test[ohe_features] <- ohe_test"
   ]
  },
  {
   "cell_type": "code",
   "execution_count": 20,
   "metadata": {
    "vscode": {
     "languageId": "r"
    }
   },
   "outputs": [],
   "source": [
    "# Drop non-OHE columns\n",
    "\n",
    "X_train <- X_train[, !(colnames(X_train) %in% categoricals)]\n",
    "X_test <- X_test[, !(colnames(X_test) %in% categoricals)]\n",
    "\n",
    "# Update the inputs and categoricals lists\n",
    "\n",
    "inputs <- c(setdiff(inputs, categoricals), ohe_features)\n",
    "categoricals <- ohe_features"
   ]
  },
  {
   "cell_type": "code",
   "execution_count": 21,
   "metadata": {
    "vscode": {
     "languageId": "r"
    }
   },
   "outputs": [
    {
     "data": {
      "text/html": [
       "<table class=\"dataframe\">\n",
       "<caption>A data.frame: 6 × 5</caption>\n",
       "<thead>\n",
       "\t<tr><th></th><th scope=col>customerGender.F</th><th scope=col>customerGender.M</th><th scope=col>customerSubscrStat.Gold</th><th scope=col>customerSubscrStat.Platinum</th><th scope=col>demHomeOwner.HomeOwner</th></tr>\n",
       "\t<tr><th></th><th scope=col>&lt;dbl&gt;</th><th scope=col>&lt;dbl&gt;</th><th scope=col>&lt;dbl&gt;</th><th scope=col>&lt;dbl&gt;</th><th scope=col>&lt;dbl&gt;</th></tr>\n",
       "</thead>\n",
       "<tbody>\n",
       "\t<tr><th scope=row>1</th><td>1</td><td>0</td><td>0</td><td>1</td><td>0</td></tr>\n",
       "\t<tr><th scope=row>2</th><td>0</td><td>1</td><td>0</td><td>1</td><td>1</td></tr>\n",
       "\t<tr><th scope=row>3</th><td>1</td><td>0</td><td>0</td><td>1</td><td>1</td></tr>\n",
       "\t<tr><th scope=row>4</th><td>1</td><td>0</td><td>0</td><td>1</td><td>0</td></tr>\n",
       "\t<tr><th scope=row>5</th><td>1</td><td>0</td><td>0</td><td>1</td><td>1</td></tr>\n",
       "\t<tr><th scope=row>6</th><td>0</td><td>1</td><td>0</td><td>1</td><td>0</td></tr>\n",
       "</tbody>\n",
       "</table>\n"
      ],
      "text/latex": [
       "A data.frame: 6 × 5\n",
       "\\begin{tabular}{r|lllll}\n",
       "  & customerGender.F & customerGender.M & customerSubscrStat.Gold & customerSubscrStat.Platinum & demHomeOwner.HomeOwner\\\\\n",
       "  & <dbl> & <dbl> & <dbl> & <dbl> & <dbl>\\\\\n",
       "\\hline\n",
       "\t1 & 1 & 0 & 0 & 1 & 0\\\\\n",
       "\t2 & 0 & 1 & 0 & 1 & 1\\\\\n",
       "\t3 & 1 & 0 & 0 & 1 & 1\\\\\n",
       "\t4 & 1 & 0 & 0 & 1 & 0\\\\\n",
       "\t5 & 1 & 0 & 0 & 1 & 1\\\\\n",
       "\t6 & 0 & 1 & 0 & 1 & 0\\\\\n",
       "\\end{tabular}\n"
      ],
      "text/markdown": [
       "\n",
       "A data.frame: 6 × 5\n",
       "\n",
       "| <!--/--> | customerGender.F &lt;dbl&gt; | customerGender.M &lt;dbl&gt; | customerSubscrStat.Gold &lt;dbl&gt; | customerSubscrStat.Platinum &lt;dbl&gt; | demHomeOwner.HomeOwner &lt;dbl&gt; |\n",
       "|---|---|---|---|---|---|\n",
       "| 1 | 1 | 0 | 0 | 1 | 0 |\n",
       "| 2 | 0 | 1 | 0 | 1 | 1 |\n",
       "| 3 | 1 | 0 | 0 | 1 | 1 |\n",
       "| 4 | 1 | 0 | 0 | 1 | 0 |\n",
       "| 5 | 1 | 0 | 0 | 1 | 1 |\n",
       "| 6 | 0 | 1 | 0 | 1 | 0 |\n",
       "\n"
      ],
      "text/plain": [
       "  customerGender.F customerGender.M customerSubscrStat.Gold\n",
       "1 1                0                0                      \n",
       "2 0                1                0                      \n",
       "3 1                0                0                      \n",
       "4 1                0                0                      \n",
       "5 1                0                0                      \n",
       "6 0                1                0                      \n",
       "  customerSubscrStat.Platinum demHomeOwner.HomeOwner\n",
       "1 1                           0                     \n",
       "2 1                           1                     \n",
       "3 1                           1                     \n",
       "4 1                           0                     \n",
       "5 1                           1                     \n",
       "6 1                           0                     "
      ]
     },
     "metadata": {},
     "output_type": "display_data"
    }
   ],
   "source": [
    "# Display sample of the output\n",
    "\n",
    "head(X_train[, categoricals])"
   ]
  },
  {
   "cell_type": "markdown",
   "metadata": {},
   "source": [
    "### Variable Scaling\n",
    "Scales the numeric columns based on their distribution."
   ]
  },
  {
   "cell_type": "code",
   "execution_count": 22,
   "metadata": {
    "vscode": {
     "languageId": "r"
    }
   },
   "outputs": [],
   "source": [
    "# Standardizes the numeric columns so they have a similar scale\n",
    "\n",
    "standardized_data <- scale(X_train[, numerics])"
   ]
  },
  {
   "cell_type": "code",
   "execution_count": 23,
   "metadata": {
    "vscode": {
     "languageId": "r"
    }
   },
   "outputs": [],
   "source": [
    "# Calculate means and sds from training data\n",
    "train_means <- sapply(X_train[, numerics], mean, na.rm = TRUE)\n",
    "train_sds   <- sapply(X_train[, numerics], sd, na.rm = TRUE)\n",
    "\n",
    "# Standardize train and test data\n",
    "X_train[, numerics] <- scale(X_train[, numerics], center = train_means, scale = train_sds)\n",
    "X_test[, numerics]  <- scale(X_test[, numerics], center = train_means, scale = train_sds)\n"
   ]
  },
  {
   "cell_type": "code",
   "execution_count": 24,
   "metadata": {
    "vscode": {
     "languageId": "r"
    }
   },
   "outputs": [
    {
     "data": {
      "text/plain": [
       " regionPctCustomers numOfTotalReturns wksSinceLastPurch  \n",
       " Min.   :-2.7238    Min.   :-1.0127   Min.   :-3.016714  \n",
       " 1st Qu.:-0.5396    1st Qu.:-1.0127   1st Qu.:-0.425916  \n",
       " Median :-0.0154    Median :-0.3424   Median : 0.005883  \n",
       " Mean   : 0.0000    Mean   : 0.0000   Mean   : 0.000000  \n",
       " 3rd Qu.: 0.5962    3rd Qu.: 0.3280   3rd Qu.: 0.437683  \n",
       " Max.   : 3.9162    Max.   : 5.0203   Max.   : 1.948981  \n",
       " basktPurchCount12Month intAdExposureCount12 intAdExposureCount36\n",
       " Min.   :-1.3851        Min.   :-2.00196     Min.   :-2.7337     \n",
       " 1st Qu.:-0.8070        1st Qu.:-0.43603     1st Qu.:-0.5502     \n",
       " Median :-0.2289        Median :-0.08804     Median : 0.2141     \n",
       " Mean   : 0.0000        Mean   : 0.00000     Mean   : 0.0000     \n",
       " 3rd Qu.: 0.9272        3rd Qu.: 0.08595     3rd Qu.: 0.5416     \n",
       " Max.   : 3.8176        Max.   : 6.00171     Max.   : 4.2537     \n",
       " socialMediaAdCount12 socialMediaAdCount36 socialMediaAdCountAll\n",
       " Min.   :-2.6445      Min.   :-1.9123      Min.   :-1.76563     \n",
       " 1st Qu.:-0.8282      1st Qu.:-0.9462      1st Qu.:-0.78285     \n",
       " Median : 0.3826      Median : 0.2131      Median :-0.01845     \n",
       " Mean   : 0.0000      Mean   : 0.0000      Mean   : 0.00000     \n",
       " 3rd Qu.: 0.3826      3rd Qu.: 0.9860      3rd Qu.: 0.74594     \n",
       " Max.   : 7.0423      Max.   : 3.3046      Max.   : 4.78629     \n",
       " totalNumProdPurchased custInitiatedContacts wksSinceFirstPurch\n",
       " Min.   :-0.9946       Min.   :-2.26561      Min.   :-1.38738  \n",
       " 1st Qu.:-0.7497       1st Qu.:-1.09717      1st Qu.:-0.92560  \n",
       " Median :-0.2599       Median : 0.07128      Median :-0.08353  \n",
       " Mean   : 0.0000       Mean   : 0.00000      Mean   : 0.00000  \n",
       " 3rd Qu.: 0.4748       3rd Qu.: 1.23972      3rd Qu.: 0.81286  \n",
       " Max.   : 6.9646       Max.   : 2.40816      Max.   : 4.28978  \n",
       " EstimatedIncome   regionMedHomeVal  techSupportEval    customerAge     \n",
       " Min.   :-2.1383   Min.   :-1.1343   Min.   :-2.0091   Min.   :-1.1891  \n",
       " 1st Qu.:-0.6791   1st Qu.:-0.5499   1st Qu.:-1.2423   1st Qu.:-0.5801  \n",
       " Median :-0.2007   Median :-0.3102   Median : 0.2912   Median :-0.2147  \n",
       " Mean   : 0.0000   Mean   : 0.0000   Mean   : 0.0000   Mean   : 0.0000  \n",
       " 3rd Qu.: 0.4930   3rd Qu.: 0.1091   3rd Qu.: 1.0579   3rd Qu.: 0.2725  \n",
       " Max.   : 7.1429   Max.   : 5.7541   Max.   : 1.0579   Max.   : 6.4845  \n",
       " LOGLastPurchaseAmount LOGAvgPurchaseAmount12 LOGAvgPurchaseAmountTotal\n",
       " Min.   :-6.015905     Min.   :-4.7865        Min.   :-3.631706        \n",
       " 1st Qu.:-0.561607     1st Qu.:-0.2601        1st Qu.:-0.630394        \n",
       " Median :-0.008235     Median : 0.1392        Median : 0.004439        \n",
       " Mean   : 0.000000     Mean   : 0.0000        Mean   : 0.000000        \n",
       " 3rd Qu.: 0.386272     3rd Qu.: 0.4626        3rd Qu.: 0.573100        \n",
       " Max.   : 5.799574     Max.   : 3.8592        Max.   : 6.674284        \n",
       " LOGcustomersales    LOGAvgPurchasePerAd\n",
       " Min.   :-2.237743   Min.   :-3.1912    \n",
       " 1st Qu.:-0.770852   1st Qu.:-0.5406    \n",
       " Median : 0.005801   Median : 0.1007    \n",
       " Mean   : 0.000000   Mean   : 0.0000    \n",
       " 3rd Qu.: 0.629547   3rd Qu.: 0.6502    \n",
       " Max.   : 6.538901   Max.   : 3.5604    "
      ]
     },
     "metadata": {},
     "output_type": "display_data"
    }
   ],
   "source": [
    "# Displays the distribution of the numeric variables\n",
    "\n",
    "summary_stats <- summary(X_train[, numerics])\n",
    "summary_stats"
   ]
  },
  {
   "cell_type": "markdown",
   "metadata": {},
   "source": [
    "### Feature Selection\n",
    "Performs supervised and unsupervised feature selection. Unsupervised feature selection technique used is variance threshold. Supervised feature selection technique used are lasso selection and a decision tree selector."
   ]
  },
  {
   "cell_type": "code",
   "execution_count": 25,
   "metadata": {
    "vscode": {
     "languageId": "r"
    }
   },
   "outputs": [],
   "source": [
    "# Compute variance of each numeric feature\n",
    "feature_vars <- apply(X_train[, inputs], 2, var)\n",
    "\n",
    "# Keep features above threshold (0.1 in your example)\n",
    "variance_features <- names(feature_vars[feature_vars > 0.1])\n",
    "\n",
    "# Subset the training data if you want\n",
    "X_train_filtered <- X_train[, variance_features]\n"
   ]
  },
  {
   "cell_type": "code",
   "execution_count": 26,
   "metadata": {
    "vscode": {
     "languageId": "r"
    }
   },
   "outputs": [],
   "source": [
    "# Unsupervised Variable Selection - Variance Threshold\n",
    "\n",
    "variances <- apply(X_train[, inputs], 2, var)\n",
    "\n",
    "threshold <- 0.1\n",
    "variance_features <- names(variances[variances >= threshold])"
   ]
  },
  {
   "cell_type": "code",
   "execution_count": 27,
   "metadata": {
    "vscode": {
     "languageId": "r"
    }
   },
   "outputs": [],
   "source": [
    "# Backwards Elimination Variable Selection\n",
    "\n",
    "set.seed(42)\n",
    "ctrl <- rfeControl(functions = lrFuncs, method = \"cv\", number = 10)\n",
    "\n",
    "rfe_result <- rfe(\n",
    "  x = X_train[, inputs], \n",
    "  y = as.factor(y_train),\n",
    "  sizes = seq_along(inputs),\n",
    "  rfeControl = ctrl\n",
    ")\n",
    "\n",
    "rfe_features <- predictors(rfe_result)"
   ]
  },
  {
   "cell_type": "code",
   "execution_count": 28,
   "metadata": {
    "vscode": {
     "languageId": "r"
    }
   },
   "outputs": [],
   "source": [
    "#Dtree Variable Selection\n",
    "\n",
    "set.seed(42)\n",
    "tree_model <- rpart(y_train ~ ., data = X_train[, inputs, drop = FALSE])\n",
    "\n",
    "importance_scores <- tree_model$variable.importance\n",
    "\n",
    "tree_features <- names(importance_scores)\n"
   ]
  },
  {
   "cell_type": "code",
   "execution_count": 29,
   "metadata": {
    "vscode": {
     "languageId": "r"
    }
   },
   "outputs": [
    {
     "name": "stdout",
     "output_type": "stream",
     "text": [
      "Variance Threshold Removed Features:\n",
      "\n",
      "character(0)\n",
      "\n",
      "RFE Removed Features:\n",
      "\n",
      "[1] \"intAdExposureCount36\"        \"socialMediaAdCount12\"       \n",
      "[3] \"LOGAvgPurchasePerAd\"         \"customerGender.F\"           \n",
      "[5] \"customerGender.M\"            \"customerSubscrStat.Gold\"    \n",
      "[7] \"customerSubscrStat.Platinum\" \"demHomeOwner.HomeOwner\"     \n",
      "\n",
      "Decision Tree Removed Features:\n",
      "\n",
      "[1] \"wksSinceLastPurch\"           \"intAdExposureCount12\"       \n",
      "[3] \"customerAge\"                 \"customerGender.F\"           \n",
      "[5] \"customerGender.M\"            \"customerSubscrStat.Gold\"    \n",
      "[7] \"customerSubscrStat.Platinum\" \"demHomeOwner.HomeOwner\"     \n"
     ]
    }
   ],
   "source": [
    "# Displays the removed features\n",
    "\n",
    "all_features <- inputs  # assuming 'inputs' is your full starting feature list\n",
    "\n",
    "rm_variance_features <- setdiff(all_features, variance_features)\n",
    "rm_rfe_features <- setdiff(all_features, rfe_features)\n",
    "rm_tree_features <- setdiff(all_features, tree_features)\n",
    "\n",
    "cat(\"Variance Threshold Removed Features:\\n\\n\")\n",
    "print(rm_variance_features)\n",
    "\n",
    "cat(\"\\nRFE Removed Features:\\n\\n\")\n",
    "print(rm_rfe_features)\n",
    "\n",
    "cat(\"\\nDecision Tree Removed Features:\\n\\n\")\n",
    "print(rm_tree_features)"
   ]
  },
  {
   "cell_type": "code",
   "execution_count": 30,
   "metadata": {
    "vscode": {
     "languageId": "r"
    }
   },
   "outputs": [
    {
     "data": {
      "text/html": [
       "<style>\n",
       ".list-inline {list-style: none; margin:0; padding: 0}\n",
       ".list-inline>li {display: inline-block}\n",
       ".list-inline>li:not(:last-child)::after {content: \"\\00b7\"; padding: 0 .5ex}\n",
       "</style>\n",
       "<ol class=list-inline><li>'regionPctCustomers'</li><li>'numOfTotalReturns'</li><li>'wksSinceLastPurch'</li><li>'basktPurchCount12Month'</li><li>'intAdExposureCount12'</li><li>'intAdExposureCount36'</li><li>'socialMediaAdCount12'</li><li>'socialMediaAdCount36'</li><li>'socialMediaAdCountAll'</li><li>'totalNumProdPurchased'</li><li>'custInitiatedContacts'</li><li>'wksSinceFirstPurch'</li><li>'EstimatedIncome'</li><li>'regionMedHomeVal'</li><li>'techSupportEval'</li><li>'customerAge'</li><li>'LOGLastPurchaseAmount'</li><li>'LOGAvgPurchaseAmount12'</li><li>'LOGAvgPurchaseAmountTotal'</li><li>'LOGcustomersales'</li><li>'LOGAvgPurchasePerAd'</li><li>'customerGender.F'</li><li>'customerGender.M'</li><li>'customerSubscrStat.Gold'</li><li>'customerSubscrStat.Platinum'</li><li>'demHomeOwner.HomeOwner'</li></ol>\n"
      ],
      "text/latex": [
       "\\begin{enumerate*}\n",
       "\\item 'regionPctCustomers'\n",
       "\\item 'numOfTotalReturns'\n",
       "\\item 'wksSinceLastPurch'\n",
       "\\item 'basktPurchCount12Month'\n",
       "\\item 'intAdExposureCount12'\n",
       "\\item 'intAdExposureCount36'\n",
       "\\item 'socialMediaAdCount12'\n",
       "\\item 'socialMediaAdCount36'\n",
       "\\item 'socialMediaAdCountAll'\n",
       "\\item 'totalNumProdPurchased'\n",
       "\\item 'custInitiatedContacts'\n",
       "\\item 'wksSinceFirstPurch'\n",
       "\\item 'EstimatedIncome'\n",
       "\\item 'regionMedHomeVal'\n",
       "\\item 'techSupportEval'\n",
       "\\item 'customerAge'\n",
       "\\item 'LOGLastPurchaseAmount'\n",
       "\\item 'LOGAvgPurchaseAmount12'\n",
       "\\item 'LOGAvgPurchaseAmountTotal'\n",
       "\\item 'LOGcustomersales'\n",
       "\\item 'LOGAvgPurchasePerAd'\n",
       "\\item 'customerGender.F'\n",
       "\\item 'customerGender.M'\n",
       "\\item 'customerSubscrStat.Gold'\n",
       "\\item 'customerSubscrStat.Platinum'\n",
       "\\item 'demHomeOwner.HomeOwner'\n",
       "\\end{enumerate*}\n"
      ],
      "text/markdown": [
       "1. 'regionPctCustomers'\n",
       "2. 'numOfTotalReturns'\n",
       "3. 'wksSinceLastPurch'\n",
       "4. 'basktPurchCount12Month'\n",
       "5. 'intAdExposureCount12'\n",
       "6. 'intAdExposureCount36'\n",
       "7. 'socialMediaAdCount12'\n",
       "8. 'socialMediaAdCount36'\n",
       "9. 'socialMediaAdCountAll'\n",
       "10. 'totalNumProdPurchased'\n",
       "11. 'custInitiatedContacts'\n",
       "12. 'wksSinceFirstPurch'\n",
       "13. 'EstimatedIncome'\n",
       "14. 'regionMedHomeVal'\n",
       "15. 'techSupportEval'\n",
       "16. 'customerAge'\n",
       "17. 'LOGLastPurchaseAmount'\n",
       "18. 'LOGAvgPurchaseAmount12'\n",
       "19. 'LOGAvgPurchaseAmountTotal'\n",
       "20. 'LOGcustomersales'\n",
       "21. 'LOGAvgPurchasePerAd'\n",
       "22. 'customerGender.F'\n",
       "23. 'customerGender.M'\n",
       "24. 'customerSubscrStat.Gold'\n",
       "25. 'customerSubscrStat.Platinum'\n",
       "26. 'demHomeOwner.HomeOwner'\n",
       "\n",
       "\n"
      ],
      "text/plain": [
       " [1] \"regionPctCustomers\"          \"numOfTotalReturns\"          \n",
       " [3] \"wksSinceLastPurch\"           \"basktPurchCount12Month\"     \n",
       " [5] \"intAdExposureCount12\"        \"intAdExposureCount36\"       \n",
       " [7] \"socialMediaAdCount12\"        \"socialMediaAdCount36\"       \n",
       " [9] \"socialMediaAdCountAll\"       \"totalNumProdPurchased\"      \n",
       "[11] \"custInitiatedContacts\"       \"wksSinceFirstPurch\"         \n",
       "[13] \"EstimatedIncome\"             \"regionMedHomeVal\"           \n",
       "[15] \"techSupportEval\"             \"customerAge\"                \n",
       "[17] \"LOGLastPurchaseAmount\"       \"LOGAvgPurchaseAmount12\"     \n",
       "[19] \"LOGAvgPurchaseAmountTotal\"   \"LOGcustomersales\"           \n",
       "[21] \"LOGAvgPurchasePerAd\"         \"customerGender.F\"           \n",
       "[23] \"customerGender.M\"            \"customerSubscrStat.Gold\"    \n",
       "[25] \"customerSubscrStat.Platinum\" \"demHomeOwner.HomeOwner\"     "
      ]
     },
     "metadata": {},
     "output_type": "display_data"
    }
   ],
   "source": [
    "# Selected features\n",
    "\n",
    "selected_features <- inputs[\n",
    "  inputs %in% variance_features |\n",
    "  inputs %in% rfe_features |\n",
    "  inputs %in% tree_features\n",
    "]\n",
    "\n",
    "selected_features"
   ]
  },
  {
   "cell_type": "code",
   "execution_count": 31,
   "metadata": {
    "vscode": {
     "languageId": "r"
    }
   },
   "outputs": [],
   "source": [
    "# Create final training and testing data for model building\n",
    "write_csv(cbind(trainID, y_train, X_train[,selected_features]), \"../../data/output/customer_churn_ml_train_final.csv\")\n",
    "write_csv(cbind(testID, y_test, X_test[,selected_features]),  \"../../data/output/customer_churn_ml_test_final.csv\")"
   ]
  }
 ],
 "metadata": {
  "kernelspec": {
   "display_name": "R",
   "language": "R",
   "name": "ir"
  },
  "language_info": {
   "codemirror_mode": "r",
   "file_extension": ".r",
   "mimetype": "text/x-r-source",
   "name": "R",
   "pygments_lexer": "r",
   "version": "4.4.2"
  }
 },
 "nbformat": 4,
 "nbformat_minor": 4
}
