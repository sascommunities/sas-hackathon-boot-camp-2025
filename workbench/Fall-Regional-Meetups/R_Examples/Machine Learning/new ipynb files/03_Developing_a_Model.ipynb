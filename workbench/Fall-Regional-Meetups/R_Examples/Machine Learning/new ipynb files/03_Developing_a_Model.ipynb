{
 "cells": [
  {
   "cell_type": "markdown",
   "metadata": {},
   "source": [
    "# Developing a Model"
   ]
  },
  {
   "cell_type": "markdown",
   "metadata": {},
   "source": [
    "First, install the required R packages if not done already. See [Installing Required R Packages.](../00_Installing_Required_R_Packages.ipynb)\n",
    "\n",
    "This notebook is a continuation meant to be viewed after the Data Exploration and Data Pre-Processing notebooks. In this notebook we will develop and assess various models and address some of the issues we've identified in our data exploration for model development."
   ]
  },
  {
   "cell_type": "markdown",
   "metadata": {},
   "source": [
    "## Loading Libraries\n",
    "\n",
    "In the next section we will load the necessary libraries and dataset that will be used throughout this project."
   ]
  },
  {
   "cell_type": "code",
   "execution_count": 2,
   "metadata": {
    "vscode": {
     "languageId": "r"
    }
   },
   "outputs": [
    {
     "name": "stderr",
     "output_type": "stream",
     "text": [
      "Loading required package: Matrix\n",
      "\n",
      "Loaded glmnet 4.1-10\n",
      "\n",
      "\n",
      "Attaching package: ‘dplyr’\n",
      "\n",
      "\n",
      "The following objects are masked from ‘package:stats’:\n",
      "\n",
      "    filter, lag\n",
      "\n",
      "\n",
      "The following objects are masked from ‘package:base’:\n",
      "\n",
      "    intersect, setdiff, setequal, union\n",
      "\n",
      "\n",
      "\n",
      "Attaching package: ‘xgboost’\n",
      "\n",
      "\n",
      "The following object is masked from ‘package:dplyr’:\n",
      "\n",
      "    slice\n",
      "\n",
      "\n",
      "Type 'citation(\"pROC\")' for a citation.\n",
      "\n",
      "\n",
      "Attaching package: ‘pROC’\n",
      "\n",
      "\n",
      "The following objects are masked from ‘package:stats’:\n",
      "\n",
      "    cov, smooth, var\n",
      "\n",
      "\n"
     ]
    }
   ],
   "source": [
    "library(glmnet)\n",
    "library(dplyr)\n",
    "library(xgboost)\n",
    "library(pROC)"
   ]
  },
  {
   "cell_type": "code",
   "execution_count": 3,
   "metadata": {
    "vscode": {
     "languageId": "r"
    }
   },
   "outputs": [],
   "source": [
    "# Imports the dataset\n",
    "\n",
    "train_final <- read.csv(\"../../data/output/customer_churn_ml_train_final.csv\")\n",
    "test_final <- read.csv(\"../../data/output/customer_churn_ml_test_final.csv\")"
   ]
  },
  {
   "cell_type": "code",
   "execution_count": 4,
   "metadata": {
    "vscode": {
     "languageId": "r"
    }
   },
   "outputs": [],
   "source": [
    "# Changes column names of ID and LostCustomer variables\n",
    "colnames(train_final)[1]<- \"ID\"\n",
    "colnames(test_final)[1]<- \"ID\"\n",
    "colnames(train_final)[2]<- \"LostCustomer\"\n",
    "colnames(test_final)[2]<- \"LostCustomer\""
   ]
  },
  {
   "cell_type": "code",
   "execution_count": 5,
   "metadata": {
    "vscode": {
     "languageId": "r"
    }
   },
   "outputs": [
    {
     "data": {
      "text/html": [
       "'LostCustomer'"
      ],
      "text/latex": [
       "'LostCustomer'"
      ],
      "text/markdown": [
       "'LostCustomer'"
      ],
      "text/plain": [
       "[1] \"LostCustomer\""
      ]
     },
     "metadata": {},
     "output_type": "display_data"
    },
    {
     "data": {
      "text/html": [
       "<style>\n",
       ".list-inline {list-style: none; margin:0; padding: 0}\n",
       ".list-inline>li {display: inline-block}\n",
       ".list-inline>li:not(:last-child)::after {content: \"\\00b7\"; padding: 0 .5ex}\n",
       "</style>\n",
       "<ol class=list-inline><li>'regionPctCustomers'</li><li>'numOfTotalReturns'</li><li>'wksSinceLastPurch'</li><li>'basktPurchCount12Month'</li><li>'intAdExposureCount12'</li><li>'intAdExposureCount36'</li><li>'socialMediaAdCount12'</li><li>'socialMediaAdCount36'</li><li>'socialMediaAdCountAll'</li><li>'totalNumProdPurchased'</li><li>'custInitiatedContacts'</li><li>'wksSinceFirstPurch'</li><li>'EstimatedIncome'</li><li>'regionMedHomeVal'</li><li>'techSupportEval'</li><li>'customerAge'</li><li>'LOGLastPurchaseAmount'</li><li>'LOGAvgPurchaseAmount12'</li><li>'LOGAvgPurchaseAmountTotal'</li><li>'LOGcustomersales'</li><li>'LOGAvgPurchasePerAd'</li><li>'customerGender.F'</li><li>'customerGender.M'</li><li>'customerSubscrStat.Gold'</li><li>'customerSubscrStat.Platinum'</li><li>'demHomeOwner.HomeOwner'</li></ol>\n"
      ],
      "text/latex": [
       "\\begin{enumerate*}\n",
       "\\item 'regionPctCustomers'\n",
       "\\item 'numOfTotalReturns'\n",
       "\\item 'wksSinceLastPurch'\n",
       "\\item 'basktPurchCount12Month'\n",
       "\\item 'intAdExposureCount12'\n",
       "\\item 'intAdExposureCount36'\n",
       "\\item 'socialMediaAdCount12'\n",
       "\\item 'socialMediaAdCount36'\n",
       "\\item 'socialMediaAdCountAll'\n",
       "\\item 'totalNumProdPurchased'\n",
       "\\item 'custInitiatedContacts'\n",
       "\\item 'wksSinceFirstPurch'\n",
       "\\item 'EstimatedIncome'\n",
       "\\item 'regionMedHomeVal'\n",
       "\\item 'techSupportEval'\n",
       "\\item 'customerAge'\n",
       "\\item 'LOGLastPurchaseAmount'\n",
       "\\item 'LOGAvgPurchaseAmount12'\n",
       "\\item 'LOGAvgPurchaseAmountTotal'\n",
       "\\item 'LOGcustomersales'\n",
       "\\item 'LOGAvgPurchasePerAd'\n",
       "\\item 'customerGender.F'\n",
       "\\item 'customerGender.M'\n",
       "\\item 'customerSubscrStat.Gold'\n",
       "\\item 'customerSubscrStat.Platinum'\n",
       "\\item 'demHomeOwner.HomeOwner'\n",
       "\\end{enumerate*}\n"
      ],
      "text/markdown": [
       "1. 'regionPctCustomers'\n",
       "2. 'numOfTotalReturns'\n",
       "3. 'wksSinceLastPurch'\n",
       "4. 'basktPurchCount12Month'\n",
       "5. 'intAdExposureCount12'\n",
       "6. 'intAdExposureCount36'\n",
       "7. 'socialMediaAdCount12'\n",
       "8. 'socialMediaAdCount36'\n",
       "9. 'socialMediaAdCountAll'\n",
       "10. 'totalNumProdPurchased'\n",
       "11. 'custInitiatedContacts'\n",
       "12. 'wksSinceFirstPurch'\n",
       "13. 'EstimatedIncome'\n",
       "14. 'regionMedHomeVal'\n",
       "15. 'techSupportEval'\n",
       "16. 'customerAge'\n",
       "17. 'LOGLastPurchaseAmount'\n",
       "18. 'LOGAvgPurchaseAmount12'\n",
       "19. 'LOGAvgPurchaseAmountTotal'\n",
       "20. 'LOGcustomersales'\n",
       "21. 'LOGAvgPurchasePerAd'\n",
       "22. 'customerGender.F'\n",
       "23. 'customerGender.M'\n",
       "24. 'customerSubscrStat.Gold'\n",
       "25. 'customerSubscrStat.Platinum'\n",
       "26. 'demHomeOwner.HomeOwner'\n",
       "\n",
       "\n"
      ],
      "text/plain": [
       " [1] \"regionPctCustomers\"          \"numOfTotalReturns\"          \n",
       " [3] \"wksSinceLastPurch\"           \"basktPurchCount12Month\"     \n",
       " [5] \"intAdExposureCount12\"        \"intAdExposureCount36\"       \n",
       " [7] \"socialMediaAdCount12\"        \"socialMediaAdCount36\"       \n",
       " [9] \"socialMediaAdCountAll\"       \"totalNumProdPurchased\"      \n",
       "[11] \"custInitiatedContacts\"       \"wksSinceFirstPurch\"         \n",
       "[13] \"EstimatedIncome\"             \"regionMedHomeVal\"           \n",
       "[15] \"techSupportEval\"             \"customerAge\"                \n",
       "[17] \"LOGLastPurchaseAmount\"       \"LOGAvgPurchaseAmount12\"     \n",
       "[19] \"LOGAvgPurchaseAmountTotal\"   \"LOGcustomersales\"           \n",
       "[21] \"LOGAvgPurchasePerAd\"         \"customerGender.F\"           \n",
       "[23] \"customerGender.M\"            \"customerSubscrStat.Gold\"    \n",
       "[25] \"customerSubscrStat.Platinum\" \"demHomeOwner.HomeOwner\"     "
      ]
     },
     "metadata": {},
     "output_type": "display_data"
    }
   ],
   "source": [
    "# Separate the target and input variable names\n",
    "target <- \"LostCustomer\"\n",
    "inputs <- setdiff(names(train_final), c(target, \"ID\"))\n",
    "\n",
    "target\n",
    "inputs"
   ]
  },
  {
   "cell_type": "code",
   "execution_count": 6,
   "metadata": {
    "vscode": {
     "languageId": "r"
    }
   },
   "outputs": [],
   "source": [
    "# Isolate the target variable values and create x matrix to use in models\n",
    "y_train <- train_final[[target]]\n",
    "formula <- as.formula(paste(target, \"~\", paste(inputs, collapse = \" + \")))\n",
    "x_train <- model.matrix(formula, data = train_final)[, -1] "
   ]
  },
  {
   "cell_type": "markdown",
   "metadata": {},
   "source": [
    "## Benchmark Logistic Regression Model"
   ]
  },
  {
   "cell_type": "code",
   "execution_count": 7,
   "metadata": {
    "vscode": {
     "languageId": "r"
    }
   },
   "outputs": [],
   "source": [
    "# Fit with cross-validation to pick best lambda\n",
    "model_logit <- cv.glmnet(x_train, y_train, family = \"binomial\", alpha = .5)\n",
    "\n",
    "# Best lambda\n",
    "best_lambda <- model_logit$lambda.min"
   ]
  },
  {
   "cell_type": "code",
   "execution_count": 8,
   "metadata": {
    "vscode": {
     "languageId": "r"
    }
   },
   "outputs": [],
   "source": [
    "# Prepare test matrix\n",
    "x_test <- model.matrix(formula, data = test_final)[, -1]\n",
    "y_test <- test_final[[target]]\n",
    "\n",
    "# Predict probabilities\n",
    "pred_logit <- predict(model_logit, newx = x_test, s = best_lambda, type = \"response\")"
   ]
  },
  {
   "cell_type": "markdown",
   "metadata": {},
   "source": [
    "## Gradient Boosting Model"
   ]
  },
  {
   "cell_type": "code",
   "execution_count": 9,
   "metadata": {
    "vscode": {
     "languageId": "r"
    }
   },
   "outputs": [],
   "source": [
    "# Parameters \n",
    "params <- list(\n",
    "  objective = \"binary:logistic\",\n",
    "  max_depth = 5,                  \n",
    "  eta = 0.1,                      \n",
    "  eval_metric = \"auc\"                \n",
    ")\n",
    "\n",
    "# Convert to DMatrix \n",
    "dtrain <- xgb.DMatrix(data = x_train, label = y_train)\n",
    "\n",
    "# Train the model \n",
    "gb_model <- xgb.train(\n",
    "  params = params,\n",
    "  data = dtrain,\n",
    "  nrounds = 100, \n",
    "  verbose = 0\n",
    ")"
   ]
  },
  {
   "cell_type": "code",
   "execution_count": 10,
   "metadata": {
    "vscode": {
     "languageId": "r"
    }
   },
   "outputs": [],
   "source": [
    "# Prepare test matrix\n",
    "dtest <- xgb.DMatrix(data = as.matrix(x_test), label = y_test)\n",
    "\n",
    "# Predict probabilities\n",
    "pred_gb <- predict(gb_model, dtest)"
   ]
  },
  {
   "cell_type": "markdown",
   "metadata": {},
   "source": [
    "## Create an Ensemble Model by Combining Logistic Regression and Gradient Boosting Predictions"
   ]
  },
  {
   "cell_type": "code",
   "execution_count": 11,
   "metadata": {
    "vscode": {
     "languageId": "r"
    }
   },
   "outputs": [],
   "source": [
    "\n",
    "# Average predictions\n",
    "pred_ensemble<- (pred_logit + pred_gb) / 2"
   ]
  },
  {
   "cell_type": "markdown",
   "metadata": {},
   "source": [
    "## Decision Tree and Random Forest Code (come back to this)"
   ]
  },
  {
   "cell_type": "code",
   "execution_count": 12,
   "metadata": {
    "vscode": {
     "languageId": "r"
    }
   },
   "outputs": [],
   "source": [
    "# Decision Tree\n",
    "#library(rpart)\n",
    "\n",
    "# Fit decision tree\n",
    "#tree_model <- rpart(y_train ~ ., data = train_final[,-1], method = \"class\")\n",
    "\n",
    "# Predict probabilities\n",
    "#pred_tree <- predict(tree_model, newdata = test_final[,-1], type = \"prob\")[,2]\n",
    "\n",
    "# Evaluate using your function\n",
    "#best_thresh_tree <- as.numeric(coords(roc(true_labels, pred_tree), \"best\", ret=\"threshold\", best.method=\"youden\"))"
   ]
  },
  {
   "cell_type": "code",
   "execution_count": 13,
   "metadata": {
    "vscode": {
     "languageId": "r"
    }
   },
   "outputs": [],
   "source": [
    "# Random Forest\n",
    "\n",
    "\n",
    "#library(randomForest)\n",
    "\n",
    "# Fit random forest\n",
    "#rf_model <- randomForest(as.factor(y_train) ~ ., data = train_final[,-1], ntree = 500)\n",
    "\n",
    "# Predict probabilities\n",
    "#pred_rf <- predict(rf_model, newdata = test_final[,-1], type = \"prob\")[,2]\n",
    "\n",
    "# Evaluate\n",
    "#best_thresh_rf <- as.numeric(coords(roc(true_labels, pred_rf), \"best\", ret=\"threshold\", best.method=\"youden\"))\n",
    "#modelPerformance(pred_rf, best_thresh_rf, \"Random Forest\")"
   ]
  },
  {
   "cell_type": "markdown",
   "metadata": {},
   "source": [
    "## Model Comparison\n",
    "\n",
    "ROC curves are used to assess the performance of each model in predicting events."
   ]
  },
  {
   "cell_type": "code",
   "execution_count": 14,
   "metadata": {
    "vscode": {
     "languageId": "r"
    }
   },
   "outputs": [
    {
     "name": "stderr",
     "output_type": "stream",
     "text": [
      "Setting levels: control = 0, case = 1\n",
      "\n",
      "Setting direction: controls < cases\n",
      "\n",
      "Setting levels: control = 0, case = 1\n",
      "\n",
      "Setting direction: controls < cases\n",
      "\n",
      "Setting levels: control = 0, case = 1\n",
      "\n",
      "Setting direction: controls < cases\n",
      "\n"
     ]
    }
   ],
   "source": [
    "# Logistic regression ROC\n",
    "roc_logit <- roc(y_test, as.numeric(pred_logit))\n",
    "\n",
    "# Gradient boosting ROC\n",
    "roc_gb <- roc(y_test, as.numeric(pred_gb))\n",
    "\n",
    "# Ensemble ROC\n",
    "roc_ens <- roc(y_test, as.numeric(pred_ensemble))"
   ]
  },
  {
   "cell_type": "code",
   "execution_count": 15,
   "metadata": {
    "vscode": {
     "languageId": "r"
    }
   },
   "outputs": [
    {
     "data": {
      "image/png": "[encoded data removed]",
      "text/plain": [
       "Plot with title “ROC Curves Comparison”"
      ]
     },
     "metadata": {
      "image/png": {
       "height": 420,
       "width": 420
      }
     },
     "output_type": "display_data"
    }
   ],
   "source": [
    "plot(roc_logit, col=\"cyan\", lwd=2, main=\"ROC Curves Comparison\", legacy.axes=TRUE)\n",
    "lines(roc_gb, col=\"purple\", lwd=2)\n",
    "lines(roc_ens, col=\"green\", lwd=2)\n",
    "legend(\"bottom\", title=\"ROC Curve (Area)\",\n",
    "       legend=c(paste0(\"Logistic Regression (\", round(auc(roc_logit), 4),\")\"), paste0(\"Gradient Boosting (\", round(auc(roc_gb), 4),\")\"), paste0(\"Ensemble (\", round(auc(roc_ens), 4),\")\")),\n",
    "       col=c(\"cyan\", \"purple\", \"green\"),\n",
    "       lwd=2, \n",
    "       bty = \"n\")\n"
   ]
  },
  {
   "cell_type": "markdown",
   "metadata": {},
   "source": [
    "## Model Performance Statistics\n",
    "\n",
    "Calculate accuracy, sensitivity, and specificity for each model."
   ]
  },
  {
   "cell_type": "code",
   "execution_count": 16,
   "metadata": {
    "vscode": {
     "languageId": "r"
    }
   },
   "outputs": [
    {
     "name": "stdout",
     "output_type": "stream",
     "text": [
      "                Model Accuracy Sensitivity Specificity  TP  TN  FP FN\n",
      "1 Logistic Regression    0.716   0.7368421   0.7133183  84 632 254 30\n",
      "2   Gradient Boosting    0.912   0.9210526   0.9108352 105 807  79  9\n",
      "3            Ensemble    0.922   0.8333333   0.9334086  95 827  59 19\n"
     ]
    }
   ],
   "source": [
    "best_thresh_logit <- as.numeric(coords(roc_logit, \"best\", ret=\"threshold\", best.method=\"youden\"))\n",
    "best_thresh_gb <- as.numeric(coords(roc_gb, \"best\", ret=\"threshold\", best.method=\"youden\"))\n",
    "best_thresh_ens <- as.numeric(coords(roc_ens, \"best\", ret=\"threshold\", best.method=\"youden\"))\n",
    "\n",
    "\n",
    "\n",
    "true_labels <- y_test\n",
    "\n",
    "modelPerformance <- function(pred_probs, best_threshold, model_name){\n",
    "  pred_labels <- ifelse(pred_probs >= best_threshold, 1, 0)\n",
    "  conf_mat <- table(Predicted = pred_labels, Actual = true_labels)\n",
    "\n",
    "  TP <- conf_mat[\"1\",\"1\"]\n",
    "  TN <- conf_mat[\"0\",\"0\"]\n",
    "  FP <- conf_mat[\"1\",\"0\"]\n",
    "  FN <- conf_mat[\"0\",\"1\"]\n",
    "\n",
    "  accuracy <- (TP + TN) / sum(conf_mat)\n",
    "  sensitivity <- TP / (TP + FN)\n",
    "  specificity <- TN / (TN + FP)\n",
    "\n",
    "  metrics <- data.frame(\n",
    "    Model = model_name,\n",
    "    Accuracy = accuracy,\n",
    "    Sensitivity = sensitivity,\n",
    "    Specificity = specificity,\n",
    "    TP = TP,\n",
    "    TN = TN,\n",
    "    FP = FP,\n",
    "    FN = FN\n",
    "  )\n",
    "\n",
    "  return(metrics)\n",
    "}\n",
    "\n",
    "# Now call:\n",
    "df_logit <- modelPerformance(pred_logit, best_thresh_logit, \"Logistic Regression\")\n",
    "df_gb <- modelPerformance(pred_gb,best_thresh_gb, \"Gradient Boosting\")\n",
    "df_ens <- modelPerformance(pred_ensemble, best_thresh_ens, \"Ensemble\")\n",
    "\n",
    "# Combine all\n",
    "all_models <- rbind(df_logit, df_gb, df_ens)\n",
    "print(all_models)"
   ]
  },
  {
   "cell_type": "markdown",
   "metadata": {},
   "source": [
    "## Productionizing the Model"
   ]
  },
  {
   "cell_type": "code",
   "execution_count": 18,
   "metadata": {
    "vscode": {
     "languageId": "r"
    }
   },
   "outputs": [],
   "source": [
    "# creating predictions data frame to bind with data\n",
    "rownames(pred_logit) <- NULL\n",
    "logit_pred_df <- as.data.frame(pred_logit)\n",
    "names(logit_pred_df)[1] <- \"P_LostCustomer\"\n"
   ]
  },
  {
   "cell_type": "code",
   "execution_count": 19,
   "metadata": {
    "vscode": {
     "languageId": "r"
    }
   },
   "outputs": [
    {
     "data": {
      "text/html": [
       "<table class=\"dataframe\">\n",
       "<caption>A data.frame: 20 × 5</caption>\n",
       "<thead>\n",
       "\t<tr><th></th><th scope=col>ID</th><th scope=col>customerGender.M</th><th scope=col>customerGender.F</th><th scope=col>LostCustomer</th><th scope=col>P_LostCustomer</th></tr>\n",
       "\t<tr><th></th><th scope=col>&lt;int&gt;</th><th scope=col>&lt;int&gt;</th><th scope=col>&lt;int&gt;</th><th scope=col>&lt;int&gt;</th><th scope=col>&lt;dbl&gt;</th></tr>\n",
       "</thead>\n",
       "<tbody>\n",
       "\t<tr><th scope=row>1</th><td>144729</td><td>1</td><td>0</td><td>1</td><td>0.8338663</td></tr>\n",
       "\t<tr><th scope=row>2</th><td>162213</td><td>1</td><td>0</td><td>1</td><td>0.7568828</td></tr>\n",
       "\t<tr><th scope=row>3</th><td>177660</td><td>0</td><td>1</td><td>0</td><td>0.6997755</td></tr>\n",
       "\t<tr><th scope=row>4</th><td>   505</td><td>0</td><td>1</td><td>1</td><td>0.6231183</td></tr>\n",
       "\t<tr><th scope=row>5</th><td>143600</td><td>1</td><td>0</td><td>0</td><td>0.6096679</td></tr>\n",
       "\t<tr><th scope=row>6</th><td>180307</td><td>1</td><td>0</td><td>0</td><td>0.5902768</td></tr>\n",
       "\t<tr><th scope=row>7</th><td>143998</td><td>1</td><td>0</td><td>0</td><td>0.5819781</td></tr>\n",
       "\t<tr><th scope=row>8</th><td> 11943</td><td>0</td><td>1</td><td>1</td><td>0.5749781</td></tr>\n",
       "\t<tr><th scope=row>9</th><td>145383</td><td>1</td><td>0</td><td>1</td><td>0.5624855</td></tr>\n",
       "\t<tr><th scope=row>10</th><td>189038</td><td>1</td><td>0</td><td>1</td><td>0.5481500</td></tr>\n",
       "\t<tr><th scope=row>11</th><td>151547</td><td>1</td><td>0</td><td>1</td><td>0.5470570</td></tr>\n",
       "\t<tr><th scope=row>12</th><td>161763</td><td>1</td><td>0</td><td>1</td><td>0.5351865</td></tr>\n",
       "\t<tr><th scope=row>13</th><td>182976</td><td>0</td><td>1</td><td>0</td><td>0.5169912</td></tr>\n",
       "\t<tr><th scope=row>14</th><td>145911</td><td>0</td><td>1</td><td>1</td><td>0.5102106</td></tr>\n",
       "\t<tr><th scope=row>15</th><td>175313</td><td>1</td><td>0</td><td>1</td><td>0.5083220</td></tr>\n",
       "\t<tr><th scope=row>16</th><td>168186</td><td>0</td><td>0</td><td>1</td><td>0.4800642</td></tr>\n",
       "\t<tr><th scope=row>17</th><td>157817</td><td>0</td><td>1</td><td>1</td><td>0.4731588</td></tr>\n",
       "\t<tr><th scope=row>18</th><td> 46330</td><td>0</td><td>1</td><td>0</td><td>0.4509684</td></tr>\n",
       "\t<tr><th scope=row>19</th><td>149173</td><td>1</td><td>0</td><td>1</td><td>0.4496037</td></tr>\n",
       "\t<tr><th scope=row>20</th><td>  1847</td><td>1</td><td>0</td><td>0</td><td>0.4467111</td></tr>\n",
       "</tbody>\n",
       "</table>\n"
      ],
      "text/latex": [
       "A data.frame: 20 × 5\n",
       "\\begin{tabular}{r|lllll}\n",
       "  & ID & customerGender.M & customerGender.F & LostCustomer & P\\_LostCustomer\\\\\n",
       "  & <int> & <int> & <int> & <int> & <dbl>\\\\\n",
       "\\hline\n",
       "\t1 & 144729 & 1 & 0 & 1 & 0.8338663\\\\\n",
       "\t2 & 162213 & 1 & 0 & 1 & 0.7568828\\\\\n",
       "\t3 & 177660 & 0 & 1 & 0 & 0.6997755\\\\\n",
       "\t4 &    505 & 0 & 1 & 1 & 0.6231183\\\\\n",
       "\t5 & 143600 & 1 & 0 & 0 & 0.6096679\\\\\n",
       "\t6 & 180307 & 1 & 0 & 0 & 0.5902768\\\\\n",
       "\t7 & 143998 & 1 & 0 & 0 & 0.5819781\\\\\n",
       "\t8 &  11943 & 0 & 1 & 1 & 0.5749781\\\\\n",
       "\t9 & 145383 & 1 & 0 & 1 & 0.5624855\\\\\n",
       "\t10 & 189038 & 1 & 0 & 1 & 0.5481500\\\\\n",
       "\t11 & 151547 & 1 & 0 & 1 & 0.5470570\\\\\n",
       "\t12 & 161763 & 1 & 0 & 1 & 0.5351865\\\\\n",
       "\t13 & 182976 & 0 & 1 & 0 & 0.5169912\\\\\n",
       "\t14 & 145911 & 0 & 1 & 1 & 0.5102106\\\\\n",
       "\t15 & 175313 & 1 & 0 & 1 & 0.5083220\\\\\n",
       "\t16 & 168186 & 0 & 0 & 1 & 0.4800642\\\\\n",
       "\t17 & 157817 & 0 & 1 & 1 & 0.4731588\\\\\n",
       "\t18 &  46330 & 0 & 1 & 0 & 0.4509684\\\\\n",
       "\t19 & 149173 & 1 & 0 & 1 & 0.4496037\\\\\n",
       "\t20 &   1847 & 1 & 0 & 0 & 0.4467111\\\\\n",
       "\\end{tabular}\n"
      ],
      "text/markdown": [
       "\n",
       "A data.frame: 20 × 5\n",
       "\n",
       "| <!--/--> | ID &lt;int&gt; | customerGender.M &lt;int&gt; | customerGender.F &lt;int&gt; | LostCustomer &lt;int&gt; | P_LostCustomer &lt;dbl&gt; |\n",
       "|---|---|---|---|---|---|\n",
       "| 1 | 144729 | 1 | 0 | 1 | 0.8338663 |\n",
       "| 2 | 162213 | 1 | 0 | 1 | 0.7568828 |\n",
       "| 3 | 177660 | 0 | 1 | 0 | 0.6997755 |\n",
       "| 4 |    505 | 0 | 1 | 1 | 0.6231183 |\n",
       "| 5 | 143600 | 1 | 0 | 0 | 0.6096679 |\n",
       "| 6 | 180307 | 1 | 0 | 0 | 0.5902768 |\n",
       "| 7 | 143998 | 1 | 0 | 0 | 0.5819781 |\n",
       "| 8 |  11943 | 0 | 1 | 1 | 0.5749781 |\n",
       "| 9 | 145383 | 1 | 0 | 1 | 0.5624855 |\n",
       "| 10 | 189038 | 1 | 0 | 1 | 0.5481500 |\n",
       "| 11 | 151547 | 1 | 0 | 1 | 0.5470570 |\n",
       "| 12 | 161763 | 1 | 0 | 1 | 0.5351865 |\n",
       "| 13 | 182976 | 0 | 1 | 0 | 0.5169912 |\n",
       "| 14 | 145911 | 0 | 1 | 1 | 0.5102106 |\n",
       "| 15 | 175313 | 1 | 0 | 1 | 0.5083220 |\n",
       "| 16 | 168186 | 0 | 0 | 1 | 0.4800642 |\n",
       "| 17 | 157817 | 0 | 1 | 1 | 0.4731588 |\n",
       "| 18 |  46330 | 0 | 1 | 0 | 0.4509684 |\n",
       "| 19 | 149173 | 1 | 0 | 1 | 0.4496037 |\n",
       "| 20 |   1847 | 1 | 0 | 0 | 0.4467111 |\n",
       "\n"
      ],
      "text/plain": [
       "   ID     customerGender.M customerGender.F LostCustomer P_LostCustomer\n",
       "1  144729 1                0                1            0.8338663     \n",
       "2  162213 1                0                1            0.7568828     \n",
       "3  177660 0                1                0            0.6997755     \n",
       "4     505 0                1                1            0.6231183     \n",
       "5  143600 1                0                0            0.6096679     \n",
       "6  180307 1                0                0            0.5902768     \n",
       "7  143998 1                0                0            0.5819781     \n",
       "8   11943 0                1                1            0.5749781     \n",
       "9  145383 1                0                1            0.5624855     \n",
       "10 189038 1                0                1            0.5481500     \n",
       "11 151547 1                0                1            0.5470570     \n",
       "12 161763 1                0                1            0.5351865     \n",
       "13 182976 0                1                0            0.5169912     \n",
       "14 145911 0                1                1            0.5102106     \n",
       "15 175313 1                0                1            0.5083220     \n",
       "16 168186 0                0                1            0.4800642     \n",
       "17 157817 0                1                1            0.4731588     \n",
       "18  46330 0                1                0            0.4509684     \n",
       "19 149173 1                0                1            0.4496037     \n",
       "20   1847 1                0                0            0.4467111     "
      ]
     },
     "metadata": {},
     "output_type": "display_data"
    }
   ],
   "source": [
    "# binding testing data and predictions\n",
    "\n",
    "data_logitpreds <- test_final %>%\n",
    "  bind_cols(logit_pred_df) %>%   # adds the Preds column\n",
    "  arrange(desc(P_LostCustomer)) %>%       # sort by Preds descending\n",
    "  select(ID, customerGender.M, customerGender.F, LostCustomer, P_LostCustomer)\n",
    "\n",
    "head(data_logitpreds, 20)"
   ]
  },
  {
   "cell_type": "code",
   "execution_count": 20,
   "metadata": {
    "vscode": {
     "languageId": "r"
    }
   },
   "outputs": [],
   "source": [
    "# creating predictions data frame to bind with data\n",
    "rownames(pred_gb) <- NULL\n",
    "gb_pred_df <- as.data.frame(pred_gb)\n",
    "names(gb_pred_df)[1] <- \"P_LostCustomer\"\n"
   ]
  },
  {
   "cell_type": "code",
   "execution_count": 22,
   "metadata": {
    "vscode": {
     "languageId": "r"
    }
   },
   "outputs": [
    {
     "data": {
      "text/html": [
       "<table class=\"dataframe\">\n",
       "<caption>A data.frame: 40 × 5</caption>\n",
       "<thead>\n",
       "\t<tr><th></th><th scope=col>ID</th><th scope=col>customerGender.M</th><th scope=col>customerGender.F</th><th scope=col>LostCustomer</th><th scope=col>P_LostCustomer</th></tr>\n",
       "\t<tr><th></th><th scope=col>&lt;int&gt;</th><th scope=col>&lt;int&gt;</th><th scope=col>&lt;int&gt;</th><th scope=col>&lt;int&gt;</th><th scope=col>&lt;dbl&gt;</th></tr>\n",
       "</thead>\n",
       "<tbody>\n",
       "\t<tr><th scope=row>1</th><td>139626</td><td>1</td><td>0</td><td>1</td><td>0.9613071</td></tr>\n",
       "\t<tr><th scope=row>2</th><td> 64983</td><td>0</td><td>1</td><td>1</td><td>0.9593287</td></tr>\n",
       "\t<tr><th scope=row>3</th><td>151547</td><td>1</td><td>0</td><td>1</td><td>0.9561270</td></tr>\n",
       "\t<tr><th scope=row>4</th><td>144309</td><td>1</td><td>0</td><td>1</td><td>0.9508812</td></tr>\n",
       "\t<tr><th scope=row>5</th><td>144729</td><td>1</td><td>0</td><td>1</td><td>0.9416355</td></tr>\n",
       "\t<tr><th scope=row>6</th><td>161763</td><td>1</td><td>0</td><td>1</td><td>0.9410781</td></tr>\n",
       "\t<tr><th scope=row>7</th><td>159507</td><td>0</td><td>1</td><td>1</td><td>0.9403527</td></tr>\n",
       "\t<tr><th scope=row>8</th><td>156174</td><td>1</td><td>0</td><td>1</td><td>0.9350550</td></tr>\n",
       "\t<tr><th scope=row>9</th><td>146695</td><td>0</td><td>1</td><td>1</td><td>0.9333385</td></tr>\n",
       "\t<tr><th scope=row>10</th><td>155851</td><td>0</td><td>1</td><td>1</td><td>0.9292265</td></tr>\n",
       "\t<tr><th scope=row>11</th><td>156428</td><td>0</td><td>1</td><td>1</td><td>0.9270163</td></tr>\n",
       "\t<tr><th scope=row>12</th><td>150970</td><td>0</td><td>1</td><td>1</td><td>0.9259371</td></tr>\n",
       "\t<tr><th scope=row>13</th><td>188385</td><td>0</td><td>1</td><td>1</td><td>0.9233993</td></tr>\n",
       "\t<tr><th scope=row>14</th><td> 38707</td><td>1</td><td>0</td><td>1</td><td>0.9211076</td></tr>\n",
       "\t<tr><th scope=row>15</th><td>175112</td><td>0</td><td>1</td><td>1</td><td>0.9190166</td></tr>\n",
       "\t<tr><th scope=row>16</th><td>128857</td><td>1</td><td>0</td><td>1</td><td>0.9158887</td></tr>\n",
       "\t<tr><th scope=row>17</th><td> 95260</td><td>1</td><td>0</td><td>1</td><td>0.9114218</td></tr>\n",
       "\t<tr><th scope=row>18</th><td>150043</td><td>1</td><td>0</td><td>1</td><td>0.9071813</td></tr>\n",
       "\t<tr><th scope=row>19</th><td>145383</td><td>1</td><td>0</td><td>1</td><td>0.9042832</td></tr>\n",
       "\t<tr><th scope=row>20</th><td> 25948</td><td>0</td><td>1</td><td>1</td><td>0.9016296</td></tr>\n",
       "\t<tr><th scope=row>21</th><td>173872</td><td>0</td><td>1</td><td>1</td><td>0.8764185</td></tr>\n",
       "\t<tr><th scope=row>22</th><td>148022</td><td>0</td><td>1</td><td>1</td><td>0.8731882</td></tr>\n",
       "\t<tr><th scope=row>23</th><td> 42068</td><td>0</td><td>1</td><td>1</td><td>0.8712603</td></tr>\n",
       "\t<tr><th scope=row>24</th><td>144310</td><td>1</td><td>0</td><td>1</td><td>0.8690690</td></tr>\n",
       "\t<tr><th scope=row>25</th><td>   505</td><td>0</td><td>1</td><td>1</td><td>0.8534405</td></tr>\n",
       "\t<tr><th scope=row>26</th><td>152528</td><td>0</td><td>1</td><td>1</td><td>0.8450463</td></tr>\n",
       "\t<tr><th scope=row>27</th><td>  6851</td><td>0</td><td>0</td><td>1</td><td>0.8442761</td></tr>\n",
       "\t<tr><th scope=row>28</th><td>157817</td><td>0</td><td>1</td><td>1</td><td>0.8312521</td></tr>\n",
       "\t<tr><th scope=row>29</th><td>180303</td><td>0</td><td>1</td><td>1</td><td>0.8285139</td></tr>\n",
       "\t<tr><th scope=row>30</th><td> 46548</td><td>1</td><td>0</td><td>1</td><td>0.8241860</td></tr>\n",
       "\t<tr><th scope=row>31</th><td>176183</td><td>0</td><td>1</td><td>1</td><td>0.8178576</td></tr>\n",
       "\t<tr><th scope=row>32</th><td>159696</td><td>0</td><td>1</td><td>1</td><td>0.8156379</td></tr>\n",
       "\t<tr><th scope=row>33</th><td> 11943</td><td>0</td><td>1</td><td>1</td><td>0.8150733</td></tr>\n",
       "\t<tr><th scope=row>34</th><td>168186</td><td>0</td><td>0</td><td>1</td><td>0.8096296</td></tr>\n",
       "\t<tr><th scope=row>35</th><td>  1427</td><td>1</td><td>0</td><td>0</td><td>0.8011281</td></tr>\n",
       "\t<tr><th scope=row>36</th><td> 59744</td><td>0</td><td>1</td><td>1</td><td>0.8010777</td></tr>\n",
       "\t<tr><th scope=row>37</th><td>137276</td><td>0</td><td>1</td><td>1</td><td>0.7808812</td></tr>\n",
       "\t<tr><th scope=row>38</th><td> 15894</td><td>1</td><td>0</td><td>1</td><td>0.7803532</td></tr>\n",
       "\t<tr><th scope=row>39</th><td>158935</td><td>0</td><td>1</td><td>1</td><td>0.7798215</td></tr>\n",
       "\t<tr><th scope=row>40</th><td>142579</td><td>0</td><td>1</td><td>1</td><td>0.7732944</td></tr>\n",
       "</tbody>\n",
       "</table>\n"
      ],
      "text/latex": [
       "A data.frame: 40 × 5\n",
       "\\begin{tabular}{r|lllll}\n",
       "  & ID & customerGender.M & customerGender.F & LostCustomer & P\\_LostCustomer\\\\\n",
       "  & <int> & <int> & <int> & <int> & <dbl>\\\\\n",
       "\\hline\n",
       "\t1 & 139626 & 1 & 0 & 1 & 0.9613071\\\\\n",
       "\t2 &  64983 & 0 & 1 & 1 & 0.9593287\\\\\n",
       "\t3 & 151547 & 1 & 0 & 1 & 0.9561270\\\\\n",
       "\t4 & 144309 & 1 & 0 & 1 & 0.9508812\\\\\n",
       "\t5 & 144729 & 1 & 0 & 1 & 0.9416355\\\\\n",
       "\t6 & 161763 & 1 & 0 & 1 & 0.9410781\\\\\n",
       "\t7 & 159507 & 0 & 1 & 1 & 0.9403527\\\\\n",
       "\t8 & 156174 & 1 & 0 & 1 & 0.9350550\\\\\n",
       "\t9 & 146695 & 0 & 1 & 1 & 0.9333385\\\\\n",
       "\t10 & 155851 & 0 & 1 & 1 & 0.9292265\\\\\n",
       "\t11 & 156428 & 0 & 1 & 1 & 0.9270163\\\\\n",
       "\t12 & 150970 & 0 & 1 & 1 & 0.9259371\\\\\n",
       "\t13 & 188385 & 0 & 1 & 1 & 0.9233993\\\\\n",
       "\t14 &  38707 & 1 & 0 & 1 & 0.9211076\\\\\n",
       "\t15 & 175112 & 0 & 1 & 1 & 0.9190166\\\\\n",
       "\t16 & 128857 & 1 & 0 & 1 & 0.9158887\\\\\n",
       "\t17 &  95260 & 1 & 0 & 1 & 0.9114218\\\\\n",
       "\t18 & 150043 & 1 & 0 & 1 & 0.9071813\\\\\n",
       "\t19 & 145383 & 1 & 0 & 1 & 0.9042832\\\\\n",
       "\t20 &  25948 & 0 & 1 & 1 & 0.9016296\\\\\n",
       "\t21 & 173872 & 0 & 1 & 1 & 0.8764185\\\\\n",
       "\t22 & 148022 & 0 & 1 & 1 & 0.8731882\\\\\n",
       "\t23 &  42068 & 0 & 1 & 1 & 0.8712603\\\\\n",
       "\t24 & 144310 & 1 & 0 & 1 & 0.8690690\\\\\n",
       "\t25 &    505 & 0 & 1 & 1 & 0.8534405\\\\\n",
       "\t26 & 152528 & 0 & 1 & 1 & 0.8450463\\\\\n",
       "\t27 &   6851 & 0 & 0 & 1 & 0.8442761\\\\\n",
       "\t28 & 157817 & 0 & 1 & 1 & 0.8312521\\\\\n",
       "\t29 & 180303 & 0 & 1 & 1 & 0.8285139\\\\\n",
       "\t30 &  46548 & 1 & 0 & 1 & 0.8241860\\\\\n",
       "\t31 & 176183 & 0 & 1 & 1 & 0.8178576\\\\\n",
       "\t32 & 159696 & 0 & 1 & 1 & 0.8156379\\\\\n",
       "\t33 &  11943 & 0 & 1 & 1 & 0.8150733\\\\\n",
       "\t34 & 168186 & 0 & 0 & 1 & 0.8096296\\\\\n",
       "\t35 &   1427 & 1 & 0 & 0 & 0.8011281\\\\\n",
       "\t36 &  59744 & 0 & 1 & 1 & 0.8010777\\\\\n",
       "\t37 & 137276 & 0 & 1 & 1 & 0.7808812\\\\\n",
       "\t38 &  15894 & 1 & 0 & 1 & 0.7803532\\\\\n",
       "\t39 & 158935 & 0 & 1 & 1 & 0.7798215\\\\\n",
       "\t40 & 142579 & 0 & 1 & 1 & 0.7732944\\\\\n",
       "\\end{tabular}\n"
      ],
      "text/markdown": [
       "\n",
       "A data.frame: 40 × 5\n",
       "\n",
       "| <!--/--> | ID &lt;int&gt; | customerGender.M &lt;int&gt; | customerGender.F &lt;int&gt; | LostCustomer &lt;int&gt; | P_LostCustomer &lt;dbl&gt; |\n",
       "|---|---|---|---|---|---|\n",
       "| 1 | 139626 | 1 | 0 | 1 | 0.9613071 |\n",
       "| 2 |  64983 | 0 | 1 | 1 | 0.9593287 |\n",
       "| 3 | 151547 | 1 | 0 | 1 | 0.9561270 |\n",
       "| 4 | 144309 | 1 | 0 | 1 | 0.9508812 |\n",
       "| 5 | 144729 | 1 | 0 | 1 | 0.9416355 |\n",
       "| 6 | 161763 | 1 | 0 | 1 | 0.9410781 |\n",
       "| 7 | 159507 | 0 | 1 | 1 | 0.9403527 |\n",
       "| 8 | 156174 | 1 | 0 | 1 | 0.9350550 |\n",
       "| 9 | 146695 | 0 | 1 | 1 | 0.9333385 |\n",
       "| 10 | 155851 | 0 | 1 | 1 | 0.9292265 |\n",
       "| 11 | 156428 | 0 | 1 | 1 | 0.9270163 |\n",
       "| 12 | 150970 | 0 | 1 | 1 | 0.9259371 |\n",
       "| 13 | 188385 | 0 | 1 | 1 | 0.9233993 |\n",
       "| 14 |  38707 | 1 | 0 | 1 | 0.9211076 |\n",
       "| 15 | 175112 | 0 | 1 | 1 | 0.9190166 |\n",
       "| 16 | 128857 | 1 | 0 | 1 | 0.9158887 |\n",
       "| 17 |  95260 | 1 | 0 | 1 | 0.9114218 |\n",
       "| 18 | 150043 | 1 | 0 | 1 | 0.9071813 |\n",
       "| 19 | 145383 | 1 | 0 | 1 | 0.9042832 |\n",
       "| 20 |  25948 | 0 | 1 | 1 | 0.9016296 |\n",
       "| 21 | 173872 | 0 | 1 | 1 | 0.8764185 |\n",
       "| 22 | 148022 | 0 | 1 | 1 | 0.8731882 |\n",
       "| 23 |  42068 | 0 | 1 | 1 | 0.8712603 |\n",
       "| 24 | 144310 | 1 | 0 | 1 | 0.8690690 |\n",
       "| 25 |    505 | 0 | 1 | 1 | 0.8534405 |\n",
       "| 26 | 152528 | 0 | 1 | 1 | 0.8450463 |\n",
       "| 27 |   6851 | 0 | 0 | 1 | 0.8442761 |\n",
       "| 28 | 157817 | 0 | 1 | 1 | 0.8312521 |\n",
       "| 29 | 180303 | 0 | 1 | 1 | 0.8285139 |\n",
       "| 30 |  46548 | 1 | 0 | 1 | 0.8241860 |\n",
       "| 31 | 176183 | 0 | 1 | 1 | 0.8178576 |\n",
       "| 32 | 159696 | 0 | 1 | 1 | 0.8156379 |\n",
       "| 33 |  11943 | 0 | 1 | 1 | 0.8150733 |\n",
       "| 34 | 168186 | 0 | 0 | 1 | 0.8096296 |\n",
       "| 35 |   1427 | 1 | 0 | 0 | 0.8011281 |\n",
       "| 36 |  59744 | 0 | 1 | 1 | 0.8010777 |\n",
       "| 37 | 137276 | 0 | 1 | 1 | 0.7808812 |\n",
       "| 38 |  15894 | 1 | 0 | 1 | 0.7803532 |\n",
       "| 39 | 158935 | 0 | 1 | 1 | 0.7798215 |\n",
       "| 40 | 142579 | 0 | 1 | 1 | 0.7732944 |\n",
       "\n"
      ],
      "text/plain": [
       "   ID     customerGender.M customerGender.F LostCustomer P_LostCustomer\n",
       "1  139626 1                0                1            0.9613071     \n",
       "2   64983 0                1                1            0.9593287     \n",
       "3  151547 1                0                1            0.9561270     \n",
       "4  144309 1                0                1            0.9508812     \n",
       "5  144729 1                0                1            0.9416355     \n",
       "6  161763 1                0                1            0.9410781     \n",
       "7  159507 0                1                1            0.9403527     \n",
       "8  156174 1                0                1            0.9350550     \n",
       "9  146695 0                1                1            0.9333385     \n",
       "10 155851 0                1                1            0.9292265     \n",
       "11 156428 0                1                1            0.9270163     \n",
       "12 150970 0                1                1            0.9259371     \n",
       "13 188385 0                1                1            0.9233993     \n",
       "14  38707 1                0                1            0.9211076     \n",
       "15 175112 0                1                1            0.9190166     \n",
       "16 128857 1                0                1            0.9158887     \n",
       "17  95260 1                0                1            0.9114218     \n",
       "18 150043 1                0                1            0.9071813     \n",
       "19 145383 1                0                1            0.9042832     \n",
       "20  25948 0                1                1            0.9016296     \n",
       "21 173872 0                1                1            0.8764185     \n",
       "22 148022 0                1                1            0.8731882     \n",
       "23  42068 0                1                1            0.8712603     \n",
       "24 144310 1                0                1            0.8690690     \n",
       "25    505 0                1                1            0.8534405     \n",
       "26 152528 0                1                1            0.8450463     \n",
       "27   6851 0                0                1            0.8442761     \n",
       "28 157817 0                1                1            0.8312521     \n",
       "29 180303 0                1                1            0.8285139     \n",
       "30  46548 1                0                1            0.8241860     \n",
       "31 176183 0                1                1            0.8178576     \n",
       "32 159696 0                1                1            0.8156379     \n",
       "33  11943 0                1                1            0.8150733     \n",
       "34 168186 0                0                1            0.8096296     \n",
       "35   1427 1                0                0            0.8011281     \n",
       "36  59744 0                1                1            0.8010777     \n",
       "37 137276 0                1                1            0.7808812     \n",
       "38  15894 1                0                1            0.7803532     \n",
       "39 158935 0                1                1            0.7798215     \n",
       "40 142579 0                1                1            0.7732944     "
      ]
     },
     "metadata": {},
     "output_type": "display_data"
    }
   ],
   "source": [
    "# binding testing data and predictions\n",
    "\n",
    "data_gbpreds <- test_final %>%\n",
    "  bind_cols(gb_pred_df) %>%  \n",
    "  arrange(desc(P_LostCustomer)) %>%   \n",
    "  select(ID, customerGender.M, customerGender.F, LostCustomer, P_LostCustomer)\n",
    "\n",
    "head(data_gbpreds, 40)"
   ]
  },
  {
   "cell_type": "markdown",
   "metadata": {},
   "source": [
    "## Saving the Chamption Model for Deployment"
   ]
  },
  {
   "cell_type": "code",
   "execution_count": 23,
   "metadata": {
    "vscode": {
     "languageId": "r"
    }
   },
   "outputs": [
    {
     "data": {
      "text/html": [
       "TRUE"
      ],
      "text/latex": [
       "TRUE"
      ],
      "text/markdown": [
       "TRUE"
      ],
      "text/plain": [
       "[1] TRUE"
      ]
     },
     "metadata": {},
     "output_type": "display_data"
    }
   ],
   "source": [
    "xgb.save(gb_model, \"gb_model.model\")"
   ]
  },
  {
   "cell_type": "code",
   "execution_count": 24,
   "metadata": {
    "vscode": {
     "languageId": "r"
    }
   },
   "outputs": [
    {
     "data": {
      "text/html": [
       "<style>\n",
       ".list-inline {list-style: none; margin:0; padding: 0}\n",
       ".list-inline>li {display: inline-block}\n",
       ".list-inline>li:not(:last-child)::after {content: \"\\00b7\"; padding: 0 .5ex}\n",
       "</style>\n",
       "<ol class=list-inline><li>0.734514057636261</li><li>0.0455419719219208</li><li>0.0117257265374064</li><li>0.0257405750453472</li><li>0.00603999709710479</li><li>0.00628391746431589</li></ol>\n"
      ],
      "text/latex": [
       "\\begin{enumerate*}\n",
       "\\item 0.734514057636261\n",
       "\\item 0.0455419719219208\n",
       "\\item 0.0117257265374064\n",
       "\\item 0.0257405750453472\n",
       "\\item 0.00603999709710479\n",
       "\\item 0.00628391746431589\n",
       "\\end{enumerate*}\n"
      ],
      "text/markdown": [
       "1. 0.734514057636261\n",
       "2. 0.0455419719219208\n",
       "3. 0.0117257265374064\n",
       "4. 0.0257405750453472\n",
       "5. 0.00603999709710479\n",
       "6. 0.00628391746431589\n",
       "\n",
       "\n"
      ],
      "text/plain": [
       "[1] 0.734514058 0.045541972 0.011725727 0.025740575 0.006039997 0.006283917"
      ]
     },
     "metadata": {},
     "output_type": "display_data"
    }
   ],
   "source": [
    "# Load the model to test it\n",
    "loaded_xgb <- xgb.load(\"gb_model.model\")\n",
    "\n",
    "\n",
    "# Create predictions using test data\n",
    "new_preds <- predict(loaded_xgb, dtest)\n",
    "head(new_preds)"
   ]
  },
  {
   "cell_type": "code",
   "execution_count": null,
   "metadata": {},
   "outputs": [],
   "source": []
  }
 ],
 "metadata": {
  "kernelspec": {
   "display_name": "R",
   "language": "R",
   "name": "ir"
  },
  "language_info": {
   "codemirror_mode": "r",
   "file_extension": ".r",
   "mimetype": "text/x-r-source",
   "name": "R",
   "pygments_lexer": "r",
   "version": "4.4.2"
  }
 },
 "nbformat": 4,
 "nbformat_minor": 4
}
