{
 "cells": [
  {
   "cell_type": "markdown",
   "metadata": {},
   "source": [
    "### SAS® Viya® Workbench - Innovate 2025 Hackathon Bootcamp R Example\n",
    "\n",
    "## Try it with R Code\n",
    "•\tNow that you have seen the power of SAS and Python, let’s try running R code\n",
    "\n",
    "#### Step 1: Select the R Kernel. \n",
    "\n",
    "<b><em>Not seeing the R Kernel?</em></b>\\\n",
    "Go back to Workbench Home and change your coding experience for R\\\n",
    "    <em>Select either: <b>\"Launch VSCode SAS & R\"</b> or <b>\"Launch Jupyter SAS & R\"</b></em>\\\n",
    "<em> Once you re-open Workbench, you will see an R Kernel</em>\n",
    "\n",
    "\n",
    "\n",
    "First R Example. Explore UCI data\n",
    "\n",
    "https://cran.r-project.org/web/packages/ucimlrepo/index.html \n"
   ]
  },
  {
   "cell_type": "code",
   "execution_count": null,
   "metadata": {
    "vscode": {
     "languageId": "plaintext"
    }
   },
   "outputs": [],
   "source": []
  },
  {
   "cell_type": "markdown",
   "metadata": {},
   "source": [
    "Next, let's create an interactive dashboard with R Shiny"
   ]
  },
  {
   "cell_type": "code",
   "execution_count": null,
   "metadata": {
    "vscode": {
     "languageId": "plaintext"
    }
   },
   "outputs": [],
   "source": [
    "install.packages(\"shiny\")"
   ]
  },
  {
   "cell_type": "code",
   "execution_count": null,
   "metadata": {
    "vscode": {
     "languageId": "plaintext"
    }
   },
   "outputs": [],
   "source": [
    "library(shiny)\n",
    "runExample(\"01_hello\")"
   ]
  }
 ],
 "metadata": {
  "language_info": {
   "name": "python"
  }
 },
 "nbformat": 4,
 "nbformat_minor": 2
}
