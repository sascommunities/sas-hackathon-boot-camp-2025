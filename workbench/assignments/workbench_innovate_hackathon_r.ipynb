{
 "cells": [
  {
   "cell_type": "markdown",
   "metadata": {},
   "source": [
    "### SAS® Viya® Workbench - Innovate 2025 Hackathon Bootcamp R Example\n",
    "\n",
    "## Try it with R Code\n",
    "•\tNow that you have seen the power of SAS and Python, let’s try running R code\n",
    "\n",
    "#### Step 1: Select the R Kernel. \n",
    "\n",
    "<b><em>Not seeing the R Kernel?</em></b>\\\n",
    "Go back to Workbench Home and change your coding experience for R\\\n",
    "    <em>Select either: <b>\"Launch VSCode SAS & R\"</b> or <b>\"Launch Jupyter SAS & R\"</b></em>\\\n",
    "<em> Once you re-open Workbench, you will see an R Kernel</em>\n",
    "\n",
    "\n",
    "\n",
    "First R Example. Explore UCI data\n",
    "\n",
    "https://cran.r-project.org/web/packages/ucimlrepo/index.html \n"
   ]
  },
  {
   "cell_type": "code",
   "execution_count": 1,
   "metadata": {
    "vscode": {
     "languageId": "r"
    }
   },
   "outputs": [
    {
     "name": "stdout",
     "output_type": "stream",
     "text": [
      "[1] \"hello R\"\n"
     ]
    }
   ],
   "source": [
    "print(\"hello R\")"
   ]
  },
  {
   "cell_type": "markdown",
   "metadata": {},
   "source": [
    "Next, let's create an interactive dashboard with R Shiny\n",
    "\n",
    "This example was created based on the tutorial from Posit: \n",
    "\n",
    "https://shiny.posit.co/r/getstarted/shiny-basics/lesson1/"
   ]
  },
  {
   "cell_type": "markdown",
   "metadata": {},
   "source": [
    "# First, let's install the Shiny Package"
   ]
  },
  {
   "cell_type": "code",
   "execution_count": 4,
   "metadata": {
    "vscode": {
     "languageId": "r"
    }
   },
   "outputs": [
    {
     "name": "stderr",
     "output_type": "stream",
     "text": [
      "Installing package into ‘/workspaces/myfolder/.user-R-packages’\n",
      "(as ‘lib’ is unspecified)\n",
      "\n"
     ]
    }
   ],
   "source": [
    "install.packages(\"shiny\")"
   ]
  },
  {
   "cell_type": "markdown",
   "metadata": {},
   "source": [
    "Once you run the command below, open the URL provided (e.g. 127.00.00). \n",
    "This is your Shiny Server. You can then interact with the example dashboard provided by Shiny"
   ]
  },
  {
   "cell_type": "code",
   "execution_count": 5,
   "metadata": {
    "vscode": {
     "languageId": "r"
    }
   },
   "outputs": [
    {
     "name": "stderr",
     "output_type": "stream",
     "text": [
      "\n",
      "Listening on http://127.0.0.1:4993\n",
      "\n"
     ]
    }
   ],
   "source": [
    "library(shiny)\n",
    "runExample(\"01_hello\")"
   ]
  }
 ],
 "metadata": {
  "kernelspec": {
   "display_name": "R",
   "language": "R",
   "name": "ir"
  },
  "language_info": {
   "codemirror_mode": "r",
   "file_extension": ".r",
   "mimetype": "text/x-r-source",
   "name": "R",
   "pygments_lexer": "r",
   "version": "4.4.2"
  }
 },
 "nbformat": 4,
 "nbformat_minor": 2
}
