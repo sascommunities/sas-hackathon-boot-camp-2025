{
 "cells": [
  {
   "cell_type": "markdown",
   "metadata": {},
   "source": [
    "### SAS® Viya® Workbench - Innovate 2025 Hackathon Bootcamp R Example\n",
    "#### Step 1\n",
    "Select the R Kernel\n",
    "\n",
    "This example has been adapted from [title](link) .\n",
    "\n",
    "#### Data Preparation\n",
    "##### About the data set\n",
    "\n",
    "lorem ipsum"
   ]
  }
 ],
 "metadata": {
  "language_info": {
   "name": "python"
  }
 },
 "nbformat": 4,
 "nbformat_minor": 2
}
