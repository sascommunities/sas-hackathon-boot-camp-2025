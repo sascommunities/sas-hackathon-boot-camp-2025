{
 "cells": [
  {
   "cell_type": "markdown",
   "metadata": {},
   "source": [
    "# Text Analytics - Sentiment"
   ]
  },
  {
   "cell_type": "markdown",
   "metadata": {},
   "source": [
    "## Import modules, variable assignment\n",
    "The first step of the process is to import the required packages and assign variable values."
   ]
  },
  {
   "cell_type": "code",
   "execution_count": 80,
   "metadata": {},
   "outputs": [],
   "source": [
    "import requests\n",
    "import json\n",
    "\n",
    "## Variables to assign\n",
    "sasserver = \"https://viya-cq9hud3gec.engage.sas.com\"\n",
    "text = \" Today it rained; we didn't go to school\\r\\n456, Our team won the game\\r\\n789, The funeral was a sad event\\r\\n012, The quick brown fox jumped over the lazy dog\\r\\n345, What a long strange trip it's been\\r\\n678, The telephone was rang and I handed it to Liz. She said \\\"This isn't who it would be If it wasn't who it is\\\"\\r\\n901, She was having a no good terrible very bad day\\r\\n234, If I could be the sun I'd radiate like Africa and Smile upon the world Intergalactic love laughter\"\n",
    "access_token = \"eyJqa3UiOiJodHRwczovL2xvY2FsaG9zdC9TQVNMb2dvbi90b2tlbl9rZXlzIiwia2lkIjoibGVnYWN5LXRva2VuLWtleSIsInR5cCI6IkpXVCIsImFsZyI6IlJTMjU2In0.eyJzdWIiOiJkNDFhODllYy01NGRjLTQyZGMtOWUxMS02NmQ3NmVlMjFkYTMiLCJzZXNzaW9uX3NpZyI6IjAwZDMxMzdhLTNlOTEtNGRhNy04ODU2LTA3OTkzZDczZDBmMiIsInVzZXJfbmFtZSI6ImpvZS5mdXJiZWVAc2FzLmNvbSIsIm9yaWdpbiI6ImV4dGVybmFsX29hdXRoIiwiaXNzIjoiaHR0cDovL2xvY2FsaG9zdC9TQVNMb2dvbi9vYXV0aC90b2tlbiIsImF1dGhvcml0aWVzIjpbIkRhdGFCdWlsZGVycyIsIlNjaGVkdWxlU2VydmljZUFjY291bnRVc2VycyIsIkFwcGxpY2F0aW9uQWRtaW5pc3RyYXRvcnMiLCJCYXRjaFNlcnZpY2VBY2NvdW50VXNlcnMiLCJMYXVuY2hlclN1cGVyVXNlcnMiLCJFc3JpVXNlcnMiLCJEYXRhQWdlbnRBZG1pbmlzdHJhdG9ycyIsIlNDSU0iLCJEYXRhQWdlbnRQb3dlclVzZXJzIiwiU0FTU2NvcmVVc2VycyIsIkdsb3NzYXJ5Lkdsb3NzYXJ5QWRtaW5pc3RyYXRvcnMiLCJDYXRhbG9nLlN1YmplY3RNYXR0ZXJFeHBlcnRzIiwiQ29tcHV0ZVNlcnZpY2VBY2NvdW50VXNlcnMiLCJDQVNIb3N0QWNjb3VudFJlcXVpcmVkIl0sImNsaWVudF9pZCI6ImpodWJ1c2VyIiwiYXVkIjpbImpodWJ1c2VyIiwib3BlbmlkIl0sImV4dF9pZCI6IjAwdTJzbHk2YzZTb3c2T1J5MnA3IiwicmVtb3RlX2lwIjoiMTQ5LjE3My44LjM5IiwiemlkIjoidWFhIiwiZ3JhbnRfdHlwZSI6ImF1dGhvcml6YXRpb25fY29kZSIsInVzZXJfaWQiOiJkNDFhODllYy01NGRjLTQyZGMtOWUxMS02NmQ3NmVlMjFkYTMiLCJhenAiOiJqaHVidXNlciIsInNjb3BlIjpbIm9wZW5pZCJdLCJhdXRoX3RpbWUiOjE3NDIzMDkzMTAsImV4cCI6MTc0MzYwNTMxMCwiaWF0IjoxNzQyMzA5MzEwLCJqdGkiOiJiNmY0MWE1ODA3NDI0OTA4OTlmYWMxNjhhYjQ0NzY3MCIsImVtYWlsIjoiam9lLmZ1cmJlZUBzYXMuY29tIiwicmV2X3NpZyI6ImQ1Y2I0MDgxIiwiY2lkIjoiamh1YnVzZXIifQ.bA9EDNv7cblOfTbb6cPjZmvp7IYbM92fNQtXdkgoG-guNBOBqlFjv5NAkkI0wRFHmpVICReODkC3GwLtDczTOYkimEGi_H5rJzB4Gl02YRwNeDvqULaL10h57z4OqGLNluHb5ykjSTrIwm0ygiVqODWPA1I_Z3YezoZ0xiLrKj9AcaUHIjRwqutzxPWmmFhatULM7fdifbc0snG9k7kNnc4QU38xCFHXy5PHTl8bq-fcFzJ8ltwkjQort54QDeRQbkgdgX2GvqwLfI5b3aSHqw5BL4CtCXbP0fGQwdDUoUtR54YsxmfbYNaXvzJvBnWvbnej0o6KtTKCwFL7uvPP7A\" # Get from the authentication project"
   ]
  },
  {
   "cell_type": "markdown",
   "metadata": {},
   "source": [
    "## Create CAS connection to start making calls"
   ]
  },
  {
   "cell_type": "code",
   "execution_count": 81,
   "metadata": {},
   "outputs": [
    {
     "data": {
      "text/plain": [
       "CAS('controller.sas-cas-server-default.viya', 5570, 'joe.furbee@sas.com', protocol='cas', name='py-session-6', session='fb028c7f-e562-fc46-a37c-5d377b788395')"
      ]
     },
     "execution_count": 81,
     "metadata": {},
     "output_type": "execute_result"
    }
   ],
   "source": [
    "import swat, os\n",
    "conn = swat.CAS(os.environ['CAS_CONTROLLER'], 5570, password=os.environ['ACCESS_TOKEN'])\n",
    "conn"
   ]
  },
  {
   "cell_type": "code",
   "execution_count": 82,
   "metadata": {},
   "outputs": [
    {
     "data": {
      "text/plain": [
       "'fb028c7f-e562-fc46-a37c-5d377b788395'"
      ]
     },
     "execution_count": 82,
     "metadata": {},
     "output_type": "execute_result"
    }
   ],
   "source": [
    "# Get session id and print it out\n",
    "sessionId = conn.sessionid().session\n",
    "sessionId"
   ]
  },
  {
   "cell_type": "markdown",
   "metadata": {},
   "source": [
    "## Load data from the form to be scored"
   ]
  },
  {
   "cell_type": "code",
   "execution_count": 83,
   "metadata": {},
   "outputs": [],
   "source": [
    "#Upload data function\n",
    "def csv_load(sessionId, access_token, sasserver, data):\n",
    "\n",
    "   url = sasserver + \"/cas-shared-default-http/cas/sessions/\"+sessionId+\"/actions/upload\"\n",
    "   payload = \"UID,Text\\r\\n\"+data\n",
    "\n",
    "   headers = {\n",
    "      'Accept': 'application/json',\n",
    "      'Content-Type': 'binary/octet-stream',\n",
    "      'JSON-Parameters': '{\"casout\":{\"caslib\":\"casuser\",\"name\":\"tableToScore\",\"replace\":true},\"importOptions\":{\"fileType\":\"csv\"}}',\n",
    "      'Authorization': 'Bearer '+ access_token\n",
    "   }\n",
    "\n",
    "\n",
    "   try:\n",
    "      response = requests.request(\"PUT\", url, headers=headers, data = payload, verify=False)\n",
    "      return str(response)\n",
    "   except requests.exceptions.RequestException as e:\n",
    "      return e"
   ]
  },
  {
   "cell_type": "code",
   "execution_count": 84,
   "metadata": {},
   "outputs": [
    {
     "name": "stdout",
     "output_type": "stream",
     "text": [
      "123, Today it rained; we didn't go to school\n",
      "456, Our team won the game\n",
      "789, The funeral was a sad event\n",
      "012, The quick brown fox jumped over the lazy dog\n",
      "345, What a long strange trip it's been\n",
      "678, The telephone was rang and I handed it to Liz. She said \"This isn't who it would be If it wasn't who it is\"\n",
      "901, She was having a no good terrible very bad day\n",
      "234, If I could be the sun I'd radiate like Africa and Smile upon the world Intergalactic love laughter\n"
     ]
    },
    {
     "name": "stderr",
     "output_type": "stream",
     "text": [
      "/opt/conda/lib/python3.10/site-packages/urllib3/connectionpool.py:1045: InsecureRequestWarning: Unverified HTTPS request is being made to host 'viya-cq9hud3gec.engage.sas.com'. Adding certificate verification is strongly advised. See: https://urllib3.readthedocs.io/en/1.26.x/advanced-usage.html#ssl-warnings\n",
      "  warnings.warn(\n"
     ]
    },
    {
     "name": "stdout",
     "output_type": "stream",
     "text": [
      "<Response [200]>\n"
     ]
    }
   ],
   "source": [
    "# Upload Data\n",
    "unique_id = 123\n",
    "parsedData = str(unique_id)+\",\"+text\n",
    "print(parsedData)\n",
    "\n",
    "# Load CSV\n",
    "load_data = csv_load(sessionId, access_token, sasserver, parsedData)\n",
    "print(load_data)"
   ]
  },
  {
   "cell_type": "markdown",
   "metadata": {},
   "source": [
    "## Run Sentiment Model"
   ]
  },
  {
   "cell_type": "code",
   "execution_count": 76,
   "metadata": {},
   "outputs": [],
   "source": [
    "# Run Sentiment Model function\n",
    "def callSentimentModel(sessionId, access_token, sasserver):\n",
    "   headers = {\n",
    "      \"Accept\": \"application/json\",\n",
    "      \"Content-Type\": \"application/json\",\n",
    "      \"Authorization\": \"Bearer \" + access_token }\n",
    "\n",
    "   url = sasserver + '/cas-shared-default-http/cas/sessions/'+sessionId+'/actions/sentimentAnalysis.applySent'\n",
    "\n",
    "   payload = \"{\"table\":{\"caslib\":\"casuser\", \"name\":\"tableToScore\"},\\r\\n\\\"docId\\\":\\\"uid\\\",\\r\\n\\\"text\\\":\\\"text\\\",\\r\\n\\\"language\\\":\\\"ENGLISH\\\",\\r\\n\\\"casOut\\\":{\\\"caslib\\\":\\\"casuser\\\", \\\"name\\\":\\\"sentimentAnalysis\\\", \\\"promote\\\":true}}\"\n",
    "#   payload = \"{\\\"table\\\":{\\\"caslib\\\":\\\"casuser\\\", \\\"name\\\":\\\"tableToScore\\\"},\\r\\n\\\"docId\\\":\\\"uid\\\",\\r\\n\\\"text\\\":\\\"text\\\",\\r\\n\\\"language\\\":\\\"ENGLISH\\\",\\r\\n\\\"casOut\\\":{\\\"caslib\\\":\\\"casuser\\\", \\\"name\\\":\\\"sentimentAnalysis\\\", \\\"promote\\\":true}}\"\n",
    "\n",
    "   try:\n",
    "      response = requests.request(\"POST\", url, headers=headers, data=payload, verify=False).json()\n",
    "      return(response)\n",
    "   except requests.exceptions.RequestException as e:\n",
    "      return e"
   ]
  },
  {
   "cell_type": "code",
   "execution_count": 77,
   "metadata": {},
   "outputs": [
    {
     "name": "stderr",
     "output_type": "stream",
     "text": [
      "/opt/conda/lib/python3.10/site-packages/urllib3/connectionpool.py:1045: InsecureRequestWarning: Unverified HTTPS request is being made to host 'viya-cq9hud3gec.engage.sas.com'. Adding certificate verification is strongly advised. See: https://urllib3.readthedocs.io/en/1.26.x/advanced-usage.html#ssl-warnings\n",
      "  warnings.warn(\n"
     ]
    },
    {
     "name": "stdout",
     "output_type": "stream",
     "text": [
      "{\n",
      "  \"changedResources\": [\n",
      "    \"tables\",\n",
      "    \"actionsets\"\n",
      "  ],\n",
      "  \"disposition\": {\n",
      "    \"debugInfo\": null,\n",
      "    \"formattedStatus\": null,\n",
      "    \"reason\": \"OK\",\n",
      "    \"severity\": \"Normal\",\n",
      "    \"statusCode\": 0\n",
      "  },\n",
      "  \"log\": \"NOTE: Added action set 'sentimentAnalysis'.\\n\",\n",
      "  \"logEntries\": [\n",
      "    {\n",
      "      \"level\": \"info\",\n",
      "      \"message\": \"NOTE: Added action set 'sentimentAnalysis'.\"\n",
      "    }\n",
      "  ],\n",
      "  \"metrics\": {\n",
      "    \"cpuSystemTime\": 0.340726,\n",
      "    \"cpuUserTime\": 0.66469,\n",
      "    \"dataMovementBytes\": 22429800,\n",
      "    \"elapsedTime\": 0.570871,\n",
      "    \"involuntaryContextSwitches\": 0,\n",
      "    \"ioPageFaults\": 0,\n",
      "    \"ioPageReclaims\": 0,\n",
      "    \"ioReadBlocks\": 0,\n",
      "    \"ioReadBytes\": 0,\n",
      "    \"ioReadCalls\": 0,\n",
      "    \"ioReadFaults\": 0,\n",
      "    \"ioWriteBytes\": 0,\n",
      "    \"ioWriteBytesCancelled\": 0,\n",
      "    \"ioWriteCalls\": 0,\n",
      "    \"memory\": 873056,\n",
      "    \"memoryQuota\": 185499648,\n",
      "    \"osMemory\": 85778432,\n",
      "    \"systemCores\": 40,\n",
      "    \"systemMemory\": 0,\n",
      "    \"systemNodes\": 3,\n",
      "    \"systemTotalMemory\": 337560707072,\n",
      "    \"voluntaryContextSwitches\": 0\n",
      "  },\n",
      "  \"results\": {\n",
      "    \"OutputCasTablesFull\": {\n",
      "      \"_ctb\": true,\n",
      "      \"attributes\": {\n",
      "        \"Action\": {\n",
      "          \"type\": \"string\",\n",
      "          \"value\": \"applySent\"\n",
      "        },\n",
      "        \"Actionset\": {\n",
      "          \"type\": \"string\",\n",
      "          \"value\": \"sentimentAnalysis\"\n",
      "        },\n",
      "        \"CreateTime\": {\n",
      "          \"type\": \"double\",\n",
      "          \"value\": 2057932316.98338\n",
      "        }\n",
      "      },\n",
      "      \"label\": \"\",\n",
      "      \"name\": \"OutputCasTablesFull\",\n",
      "      \"rows\": [\n",
      "        [\n",
      "          \"CASUSER(joe.furbee@sas.com)\",\n",
      "          \"sentimentAnalysis\",\n",
      "          \"\",\n",
      "          8,\n",
      "          3\n",
      "        ]\n",
      "      ],\n",
      "      \"schema\": [\n",
      "        {\n",
      "          \"attributes\": {},\n",
      "          \"format\": \"\",\n",
      "          \"label\": \"CAS Library\",\n",
      "          \"name\": \"casLib\",\n",
      "          \"type\": \"string\",\n",
      "          \"width\": 27\n",
      "        },\n",
      "        {\n",
      "          \"attributes\": {},\n",
      "          \"format\": \"\",\n",
      "          \"label\": \"Name\",\n",
      "          \"name\": \"Name\",\n",
      "          \"type\": \"string\",\n",
      "          \"width\": 17\n",
      "        },\n",
      "        {\n",
      "          \"attributes\": {},\n",
      "          \"format\": \"\",\n",
      "          \"label\": \"Label\",\n",
      "          \"name\": \"Label\",\n",
      "          \"type\": \"string\",\n",
      "          \"width\": 0\n",
      "        },\n",
      "        {\n",
      "          \"attributes\": {},\n",
      "          \"format\": \"\",\n",
      "          \"label\": \"Number of Rows\",\n",
      "          \"name\": \"Rows\",\n",
      "          \"type\": \"int\",\n",
      "          \"width\": 8\n",
      "        },\n",
      "        {\n",
      "          \"attributes\": {},\n",
      "          \"format\": \"\",\n",
      "          \"label\": \"Number of Columns\",\n",
      "          \"name\": \"Columns\",\n",
      "          \"type\": \"int\",\n",
      "          \"width\": 8\n",
      "        }\n",
      "      ],\n",
      "      \"title\": \"Output CAS Tables\"\n",
      "    }\n",
      "  },\n",
      "  \"status\": 0\n",
      "}\n"
     ]
    }
   ],
   "source": [
    "# Run Sentiment Model\n",
    "sentiment_output = callSentimentModel(sessionId, access_token, sasserver)\n",
    "sentiment_output_format = json.dumps(sentiment_output, indent=2)\n",
    "print(sentiment_output_format) # optional print statement to view output"
   ]
  },
  {
   "cell_type": "markdown",
   "metadata": {},
   "source": [
    "## Get the data using the Fetch action"
   ]
  },
  {
   "cell_type": "code",
   "execution_count": 78,
   "metadata": {},
   "outputs": [],
   "source": [
    "# Get Sentiment data function\n",
    "def getData(sasserver, sessionId, access_token, tblName):\n",
    "   url = sasserver + \"/cas-shared-default-http/cas/sessions/\" + sessionId + \"/actions/table.fetch\"\n",
    "\n",
    "   payload = \"{ \\\"table\\\": {\\\"caslib\\\":\\\"casuser\\\", \\\"name\\\":\\\"\" + tblName + \"\\\"} }\"\n",
    "\n",
    "   headers = {\n",
    "      'Authorization': \"Bearer \" + access_token,\n",
    "      'Content-Type': 'application/json'\n",
    "   }\n",
    "\n",
    "   try:\n",
    "      response = requests.request(\"POST\", url, headers=headers, data = payload, verify=False).json()\n",
    "      return(response)\n",
    "   except requests.exceptions.RequestException as e:\n",
    "      return e    "
   ]
  },
  {
   "cell_type": "code",
   "execution_count": 79,
   "metadata": {},
   "outputs": [
    {
     "name": "stderr",
     "output_type": "stream",
     "text": [
      "/opt/conda/lib/python3.10/site-packages/urllib3/connectionpool.py:1045: InsecureRequestWarning: Unverified HTTPS request is being made to host 'viya-cq9hud3gec.engage.sas.com'. Adding certificate verification is strongly advised. See: https://urllib3.readthedocs.io/en/1.26.x/advanced-usage.html#ssl-warnings\n",
      "  warnings.warn(\n"
     ]
    },
    {
     "name": "stdout",
     "output_type": "stream",
     "text": [
      "{\n",
      "  \"changedResources\": [],\n",
      "  \"disposition\": {\n",
      "    \"debugInfo\": null,\n",
      "    \"formattedStatus\": null,\n",
      "    \"reason\": \"OK\",\n",
      "    \"severity\": \"Normal\",\n",
      "    \"statusCode\": 0\n",
      "  },\n",
      "  \"log\": \"\",\n",
      "  \"logEntries\": [],\n",
      "  \"metrics\": {\n",
      "    \"cpuSystemTime\": 0.008453,\n",
      "    \"cpuUserTime\": 0.003795,\n",
      "    \"dataMovementBytes\": 0,\n",
      "    \"elapsedTime\": 0.024814,\n",
      "    \"involuntaryContextSwitches\": 0,\n",
      "    \"ioPageFaults\": 0,\n",
      "    \"ioPageReclaims\": 0,\n",
      "    \"ioReadBlocks\": 0,\n",
      "    \"ioReadBytes\": 0,\n",
      "    \"ioReadCalls\": 0,\n",
      "    \"ioReadFaults\": 0,\n",
      "    \"ioWriteBytes\": 0,\n",
      "    \"ioWriteBytesCancelled\": 0,\n",
      "    \"ioWriteCalls\": 0,\n",
      "    \"memory\": 4157472,\n",
      "    \"memoryQuota\": 185499648,\n",
      "    \"osMemory\": 37310464,\n",
      "    \"systemCores\": 40,\n",
      "    \"systemMemory\": 0,\n",
      "    \"systemNodes\": 3,\n",
      "    \"systemTotalMemory\": 337560707072,\n",
      "    \"voluntaryContextSwitches\": 0\n",
      "  },\n",
      "  \"results\": {\n",
      "    \"Fetch\": {\n",
      "      \"_ctb\": true,\n",
      "      \"attributes\": {\n",
      "        \"Action\": {\n",
      "          \"type\": \"string\",\n",
      "          \"value\": \"fetch\"\n",
      "        },\n",
      "        \"Actionset\": {\n",
      "          \"type\": \"string\",\n",
      "          \"value\": \"table\"\n",
      "        },\n",
      "        \"CreateTime\": {\n",
      "          \"type\": \"double\",\n",
      "          \"value\": 2057932331.38093\n",
      "        }\n",
      "      },\n",
      "      \"label\": \"Selected Rows from Table SENTIMENTANALYSIS\",\n",
      "      \"name\": \"Fetch\",\n",
      "      \"rows\": [\n",
      "        [\n",
      "          1,\n",
      "          123,\n",
      "          \"Neutral\",\n",
      "          0.5\n",
      "        ],\n",
      "        [\n",
      "          2,\n",
      "          456,\n",
      "          \"Positive\",\n",
      "          0.60000002384185\n",
      "        ],\n",
      "        [\n",
      "          3,\n",
      "          789,\n",
      "          \"Negative\",\n",
      "          0.40000000596046\n",
      "        ],\n",
      "        [\n",
      "          4,\n",
      "          12,\n",
      "          \"Negative\",\n",
      "          0.40000000596046\n",
      "        ],\n",
      "        [\n",
      "          5,\n",
      "          345,\n",
      "          \"Neutral\",\n",
      "          0.5\n",
      "        ],\n",
      "        [\n",
      "          6,\n",
      "          678,\n",
      "          \"Neutral\",\n",
      "          0.5\n",
      "        ],\n",
      "        [\n",
      "          7,\n",
      "          901,\n",
      "          \"Negative\",\n",
      "          0.2285714149475\n",
      "        ],\n",
      "        [\n",
      "          8,\n",
      "          234,\n",
      "          \"Positive\",\n",
      "          0.60000002384185\n",
      "        ]\n",
      "      ],\n",
      "      \"schema\": [\n",
      "        {\n",
      "          \"attributes\": {},\n",
      "          \"format\": \"\",\n",
      "          \"label\": \"\",\n",
      "          \"name\": \"_Index_\",\n",
      "          \"type\": \"int\",\n",
      "          \"width\": 8\n",
      "        },\n",
      "        {\n",
      "          \"attributes\": {},\n",
      "          \"format\": \"\",\n",
      "          \"label\": \"\",\n",
      "          \"name\": \"UID\",\n",
      "          \"type\": \"double\",\n",
      "          \"width\": 8\n",
      "        },\n",
      "        {\n",
      "          \"attributes\": {},\n",
      "          \"format\": \"\",\n",
      "          \"label\": \"Sentiment\",\n",
      "          \"name\": \"_sentiment_\",\n",
      "          \"type\": \"string\",\n",
      "          \"width\": 8\n",
      "        },\n",
      "        {\n",
      "          \"attributes\": {},\n",
      "          \"format\": \"\",\n",
      "          \"label\": \"Score\",\n",
      "          \"name\": \"_score_\",\n",
      "          \"type\": \"double\",\n",
      "          \"width\": 8\n",
      "        }\n",
      "      ],\n",
      "      \"title\": \"Selected Rows from Table SENTIMENTANALYSIS\"\n",
      "    }\n",
      "  },\n",
      "  \"status\": 0\n",
      "}\n"
     ]
    }
   ],
   "source": [
    "# Get Sentiment data\n",
    "sentiment_data = getData(sasserver, sessionId, access_token, \"sentimentAnalysis\")\n",
    "sentiment_format = json.dumps(sentiment_data, indent=2)\n",
    "print(sentiment_format)\n",
    "\n",
    "# Write results to a json file\n",
    "with open(\"sentiment_data.json\", \"w\") as file:\n",
    "    file.write(str(sentiment_format))"
   ]
  },
  {
   "cell_type": "markdown",
   "metadata": {},
   "source": [
    "## Drop table at end of use case"
   ]
  },
  {
   "cell_type": "code",
   "execution_count": 53,
   "metadata": {},
   "outputs": [],
   "source": [
    "# Drop table function\n",
    "def dropTable(sasserver, sessionId, access_token):\n",
    "   url = sasserver + \"/cas-shared-default-http/cas/sessions/\" + sessionId + \"/actions/table.dropTable\"\n",
    "\n",
    "   payload = \"{\\\"caslib\\\": \\\"casuser\\\", \\\"name\\\": \\\"sentimentanalysis\\\"}\"\n",
    "\n",
    "   headers = {\n",
    "       'Authorization': 'Bearer '+ access_token,\n",
    "       'Content-Type': 'application/json'\n",
    "   }\n",
    "\n",
    "   try:\n",
    "      response = requests.request(\"POST\", url, headers=headers, data=payload, verify=False).json\n",
    "      return(response)\n",
    "   except requests.exceptions.RequestException as e:\n",
    "      return e"
   ]
  },
  {
   "cell_type": "code",
   "execution_count": 54,
   "metadata": {},
   "outputs": [
    {
     "name": "stderr",
     "output_type": "stream",
     "text": [
      "/opt/conda/lib/python3.10/site-packages/urllib3/connectionpool.py:1045: InsecureRequestWarning: Unverified HTTPS request is being made to host 'viya-cq9hud3gec.engage.sas.com'. Adding certificate verification is strongly advised. See: https://urllib3.readthedocs.io/en/1.26.x/advanced-usage.html#ssl-warnings\n",
      "  warnings.warn(\n"
     ]
    }
   ],
   "source": [
    "# Drop table\n",
    "drop_table = dropTable(sasserver, sessionId, access_token)"
   ]
  },
  {
   "cell_type": "markdown",
   "metadata": {},
   "source": [
    "## End session"
   ]
  },
  {
   "cell_type": "code",
   "execution_count": 66,
   "metadata": {},
   "outputs": [],
   "source": [
    "# End session function\n",
    "def endSession(sasserver, sessionId, access_token):\n",
    "   url = sasserver + \"/cas-shared-default-http/cas/sessions/\" + sessionId + \"/actions\"\n",
    "\n",
    "   headers = {\n",
    "      'Authorization': \"Bearer \" + access_token,\n",
    "      'Content-Type': 'application/json'\n",
    "   }\n",
    "\n",
    "   try:\n",
    "      response = requests.request(\"DELETE\", url, headers=headers, verify=False).json\n",
    "      return(response)\n",
    "   except requests.exceptions.RequestException as e:\n",
    "      return e"
   ]
  },
  {
   "cell_type": "code",
   "execution_count": 67,
   "metadata": {},
   "outputs": [
    {
     "name": "stderr",
     "output_type": "stream",
     "text": [
      "/opt/conda/lib/python3.10/site-packages/urllib3/connectionpool.py:1045: InsecureRequestWarning: Unverified HTTPS request is being made to host 'viya-cq9hud3gec.engage.sas.com'. Adding certificate verification is strongly advised. See: https://urllib3.readthedocs.io/en/1.26.x/advanced-usage.html#ssl-warnings\n",
      "  warnings.warn(\n"
     ]
    },
    {
     "name": "stdout",
     "output_type": "stream",
     "text": [
      "<bound method Response.json of <Response [200]>>\n"
     ]
    }
   ],
   "source": [
    "# End session\n",
    "endSession= endSession(sasserver, sessionId, access_token)\n",
    "print(endSession)"
   ]
  },
  {
   "cell_type": "code",
   "execution_count": null,
   "metadata": {},
   "outputs": [],
   "source": []
  }
 ],
 "metadata": {
  "kernelspec": {
   "display_name": "Python 3 (ipykernel)",
   "language": "python",
   "name": "python3"
  },
  "language_info": {
   "codemirror_mode": {
    "name": "ipython",
    "version": 3
   },
   "file_extension": ".py",
   "mimetype": "text/x-python",
   "name": "python",
   "nbconvert_exporter": "python",
   "pygments_lexer": "ipython3",
   "version": "3.10.6"
  }
 },
 "nbformat": 4,
 "nbformat_minor": 4
}
