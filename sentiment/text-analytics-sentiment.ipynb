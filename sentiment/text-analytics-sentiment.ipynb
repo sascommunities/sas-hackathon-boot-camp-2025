{
 "cells": [
  {
   "cell_type": "markdown",
   "metadata": {},
   "source": [
    "# Text Analytics - Sentiment"
   ]
  },
  {
   "cell_type": "markdown",
   "metadata": {},
   "source": [
    "## Description  \n",
    "This use case walks through a sentiment analysis of text strings use case. Participants will access a Jupyter notebook and run through a series of commands that will load data, create a sentiment model, score the model, and then process the results in SAS Studio. To complete the task, hackers will be asked a series of questions about the resulting data set.\n",
    "\n",
    "## Objectives  \n",
    "- Create a data set and apply the sentiment Text Anlytics Models through REST requests using the sentimentAnalysis.applySent CAS action.  \n",
    "- Analyze the results in SAS Studio"
   ]
  },
  {
   "cell_type": "markdown",
   "metadata": {},
   "source": [
    "## Import modules, variable assignment\n",
    "The first step of the process is to import the required packages and assign variable values."
   ]
  },
  {
   "cell_type": "markdown",
   "metadata": {},
   "source": [
    "## Create CAS connection to start making calls"
   ]
  },
  {
   "cell_type": "code",
   "execution_count": null,
   "metadata": {},
   "outputs": [],
   "source": [
    "import requests\n",
    "import json\n",
    "import os\n",
    "\n",
    "## Variables to assign\n",
    "\n",
    "sasserver = \"<enter SAS Viya server URL here>\"\n",
    "text = \" Today it rained; we didn't go to school\\r\\n456, Our team won the game\\r\\n789, The funeral was a sad event\\r\\n012, The quick brown fox jumped over the lazy dog\\r\\n345, What a long strange trip it's been\\r\\n678, The telephone was rang and I handed it to Liz. She said \\\"This isn't who it would be If it wasn't who it is\\\"\\r\\n901, She was having a no good terrible very bad day\\r\\n234, If I could be the sun I'd radiate like Africa and Smile upon the world Intergalactic love laughter\"\n",
    "access_token = os.environ['ACCESS_TOKEN'] # Get from the authentication project"
   ]
  },
  {
   "cell_type": "code",
   "execution_count": 30,
   "metadata": {},
   "outputs": [
    {
     "data": {
      "text/plain": [
       "CAS('controller.sas-cas-server-default.viya', 5570, 'joe.furbee@sas.com', protocol='cas', name='py-session-3', session='3d5e9ef9-1de3-6b48-b32b-92b81e9e29d6')"
      ]
     },
     "execution_count": 30,
     "metadata": {},
     "output_type": "execute_result"
    }
   ],
   "source": [
    "import swat\n",
    "conn = swat.CAS(os.environ['CAS_CONTROLLER'], 5570, password=access_token)\n",
    "conn"
   ]
  },
  {
   "cell_type": "code",
   "execution_count": 31,
   "metadata": {},
   "outputs": [
    {
     "data": {
      "text/plain": [
       "'3d5e9ef9-1de3-6b48-b32b-92b81e9e29d6'"
      ]
     },
     "execution_count": 31,
     "metadata": {},
     "output_type": "execute_result"
    }
   ],
   "source": [
    "# Get session id and print it out\n",
    "sessionId = conn.sessionid().session\n",
    "sessionId"
   ]
  },
  {
   "cell_type": "markdown",
   "metadata": {},
   "source": [
    "## Load data from the form to be scored"
   ]
  },
  {
   "cell_type": "code",
   "execution_count": null,
   "metadata": {},
   "outputs": [],
   "source": [
    "def csv_load(sessionId, access_token, sasserver, data):\n",
    "\n",
    "   url = sasserver + \"/cas-shared-default-http/cas/sessions/\"+sessionId+\"/actions/upload\"\n",
    "   payload = \"UID,Text\\r\\n\"+data\n",
    "\n",
    "   headers = {\n",
    "      'Accept': 'application/json',\n",
    "      'Content-Type': 'binary/octet-stream',\n",
    "      'JSON-Parameters': '{\"casout\":{\"caslib\":\"casuser\",\"name\":\"tableToScore\",\"replace\":true},\"importOptions\":{\"fileType\":\"csv\"}}',\n",
    "      'Authorization': 'Bearer '+ access_token\n",
    "   }\n",
    "\n",
    "\n",
    "   try:\n",
    "      response = requests.request(\"PUT\", url, headers=headers, data = payload, verify=False)\n",
    "      return str(response)\n",
    "   except requests.exceptions.RequestException as e:\n",
    "      return e"
   ]
  },
  {
   "cell_type": "code",
   "execution_count": null,
   "metadata": {},
   "outputs": [],
   "source": [
    "# Upload Data\n",
    "unique_id = 123\n",
    "parsedData = str(unique_id)+\",\"+text\n",
    "print(parsedData)\n",
    "\n",
    "# Load CSV\n",
    "load_data = csv_load(sessionId, access_token, sasserver, parsedData)\n",
    "print(load_data)"
   ]
  },
  {
   "cell_type": "markdown",
   "metadata": {},
   "source": [
    "## Run Sentiment Model"
   ]
  },
  {
   "cell_type": "code",
   "execution_count": null,
   "metadata": {},
   "outputs": [],
   "source": [
    "def callSentimentModel(sessionId, access_token, sasserver):\n",
    "   headers = {\n",
    "      \"Accept\": \"application/json\",\n",
    "      \"Content-Type\": \"application/json\",\n",
    "      \"Authorization\": \"Bearer \" + access_token }\n",
    "\n",
    "   url = sasserver + '/cas-shared-default-http/cas/sessions/'+sessionId+'/actions/sentimentAnalysis.applySent'\n",
    "\n",
    "   payload = \"{\\\"table\\\":{\\\"caslib\\\":\\\"casuser\\\", \\\"name\\\":\\\"tableToScore\\\"},\\r\\n\\\"docId\\\":\\\"uid\\\",\\r\\n\\\"text\\\":\\\"text\\\",\\r\\n\\\"language\\\":\\\"ENGLISH\\\",\\r\\n\\\"casOut\\\":{\\\"caslib\\\":\\\"casuser\\\", \\\"name\\\":\\\"sentimentAnalysis\\\", \\\"promote\\\":true}}\"\n",
    "\n",
    "   try:\n",
    "      response = requests.request(\"POST\", url, headers=headers, data=payload, verify=False).json()\n",
    "      return(response)\n",
    "   except requests.exceptions.RequestException as e:\n",
    "      return e"
   ]
  },
  {
   "cell_type": "code",
   "execution_count": null,
   "metadata": {},
   "outputs": [],
   "source": [
    "# Run Sentiment Model\n",
    "sentiment_output = callSentimentModel(sessionId, access_token, sasserver)\n",
    "sentiment_output_format = json.dumps(sentiment_output, indent=2)\n",
    "print(sentiment_output_format) # optional print statement to view output"
   ]
  },
  {
   "cell_type": "markdown",
   "metadata": {},
   "source": [
    "## Get the data using the Fetch action"
   ]
  },
  {
   "cell_type": "code",
   "execution_count": null,
   "metadata": {},
   "outputs": [],
   "source": [
    "def getData(sasserver, sessionId, access_token, tblName):\n",
    "   url = sasserver + \"/cas-shared-default-http/cas/sessions/\" + sessionId + \"/actions/table.fetch\"\n",
    "\n",
    "   payload = \"{ \\\"table\\\": {\\\"caslib\\\":\\\"casuser\\\", \\\"name\\\":\\\"\" + tblName + \"\\\"} }\"\n",
    "\n",
    "   headers = {\n",
    "      'Authorization': \"Bearer \" + access_token,\n",
    "      'Content-Type': 'application/json'\n",
    "   }\n",
    "\n",
    "   try:\n",
    "      response = requests.request(\"POST\", url, headers=headers, data = payload, verify=False).json()\n",
    "      return(response)\n",
    "   except requests.exceptions.RequestException as e:\n",
    "      return e    "
   ]
  },
  {
   "cell_type": "code",
   "execution_count": null,
   "metadata": {},
   "outputs": [],
   "source": [
    "# Get Sentiment data\n",
    "sentiment_data = getData(sasserver, sessionId, access_token, \"sentimentAnalysis\")\n",
    "sentiment_format = json.dumps(sentiment_data, indent=2)\n",
    "print(sentiment_format)\n",
    "\n",
    "with open(\"sentiment_data.json\", \"w\") as file:\n",
    "    file.write(str(sentiment_format))"
   ]
  },
  {
   "cell_type": "markdown",
   "metadata": {},
   "source": [
    "## Drop table at end of use case"
   ]
  },
  {
   "cell_type": "code",
   "execution_count": null,
   "metadata": {},
   "outputs": [],
   "source": [
    "def dropTable(sasserver, sessionId, access_token):\n",
    "   url = sasserver + \"/cas-shared-default-http/cas/sessions/\" + sessionId + \"/actions/table.dropTable\"\n",
    "\n",
    "   payload = \"{\\\"caslib\\\": \\\"casuser\\\", \\\"name\\\": \\\"sentimentanalysis\\\"}\"\n",
    "\n",
    "   headers = {\n",
    "       'Authorization': 'Bearer '+ access_token,\n",
    "       'Content-Type': 'application/json'\n",
    "   }\n",
    "\n",
    "   try:\n",
    "      response = requests.request(\"POST\", url, headers=headers, data=payload, verify=False).json\n",
    "      return(response)\n",
    "   except requests.exceptions.RequestException as e:\n",
    "      return e"
   ]
  },
  {
   "cell_type": "code",
   "execution_count": null,
   "metadata": {},
   "outputs": [],
   "source": [
    "# Drop table\n",
    "drop_table = dropTable(sasserver, sessionId, access_token)"
   ]
  },
  {
   "cell_type": "markdown",
   "metadata": {},
   "source": [
    "## End session"
   ]
  },
  {
   "cell_type": "code",
   "execution_count": null,
   "metadata": {},
   "outputs": [],
   "source": [
    "def endSession(sasserver, sessionId, access_token):\n",
    "   url = sasserver + \"/cas-shared-default-http/cas/sessions/\" + sessionId + \"/actions\"\n",
    "\n",
    "   headers = {\n",
    "      'Authorization': \"Bearer \" + access_token,\n",
    "      'Content-Type': 'application/json'\n",
    "   }\n",
    "\n",
    "   try:\n",
    "      response = requests.request(\"DELETE\", url, headers=headers, verify=False).json\n",
    "      return(response)\n",
    "   except requests.exceptions.RequestException as e:\n",
    "      return e"
   ]
  },
  {
   "cell_type": "code",
   "execution_count": null,
   "metadata": {},
   "outputs": [],
   "source": [
    "# End session\n",
    "endSession= endSession(sasserver, sessionId, access_token)\n",
    "print(endSession)"
   ]
  },
  {
   "cell_type": "code",
   "execution_count": null,
   "metadata": {},
   "outputs": [],
   "source": []
  }
 ],
 "metadata": {
  "kernelspec": {
   "display_name": "Python 3 (ipykernel)",
   "language": "python",
   "name": "python3"
  },
  "language_info": {
   "codemirror_mode": {
    "name": "ipython",
    "version": 3
   },
   "file_extension": ".py",
   "mimetype": "text/x-python",
   "name": "python",
   "nbconvert_exporter": "python",
   "pygments_lexer": "ipython3",
   "version": "3.10.6"
  }
 },
 "nbformat": 4,
 "nbformat_minor": 4
}
